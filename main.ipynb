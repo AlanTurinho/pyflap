{
 "cells": [
  {
   "cell_type": "code",
   "execution_count": 1,
   "outputs": [],
   "source": [
    "from src.automata import Automata"
   ],
   "metadata": {
    "collapsed": false
   }
  },
  {
   "cell_type": "markdown",
   "source": [
    "# Questão 01"
   ],
   "metadata": {
    "collapsed": false
   }
  },
  {
   "cell_type": "markdown",
   "source": [
    "Considere as linguagens definidas pelas expressões regulares a seguir. Implemente, para cada uma das linguagens, um autômato finito que reconheça cadeias pertencentes a linguagem. Esse autômato não deve conter não-determinismos, transições em vazio, estados inacessíveis e nem estados inúteis."
   ],
   "metadata": {
    "collapsed": false
   }
  },
  {
   "cell_type": "markdown",
   "source": [
    "## 1a. $(ab^*c^*)^*$"
   ],
   "metadata": {
    "collapsed": false
   }
  },
  {
   "cell_type": "code",
   "execution_count": 2,
   "metadata": {
    "collapsed": true
   },
   "outputs": [],
   "source": [
    "m_1a = Automata(label=\"M\", alphabet=['a', 'b', 'c'])\n",
    "\n",
    "m_1a.create_state(label=\"q0\", is_initial=True, is_final=False)\n",
    "m_1a.create_state(label=\"q1\", is_initial=False, is_final=True)\n",
    "m_1a.create_state(label=\"q2\", is_initial=False, is_final=True)\n",
    "\n",
    "m_1a.create_transaction(departure_label=\"q0\", arrival_label=\"q1\", symbol=\"a\")\n",
    "m_1a.create_transaction(departure_label=\"q1\", arrival_label=\"q1\", symbol=\"b\")\n",
    "m_1a.create_transaction(departure_label=\"q1\", arrival_label=\"q1\", symbol=\"a\")\n",
    "m_1a.create_transaction(departure_label=\"q1\", arrival_label=\"q2\", symbol=\"c\")\n",
    "m_1a.create_transaction(departure_label=\"q2\", arrival_label=\"q2\", symbol=\"c\")\n",
    "m_1a.create_transaction(departure_label=\"q2\", arrival_label=\"q1\", symbol=\"a\")"
   ]
  },
  {
   "cell_type": "code",
   "execution_count": 3,
   "outputs": [
    {
     "name": "stdout",
     "output_type": "stream",
     "text": [
      "M = (\n",
      "\t{q0, q1, q2},\n",
      "\t{a, b, c},\n",
      "\t{(q0,a)->q1, (q1,b)->q1, (q1,a)->q1, (q1,c)->q2, (q2,c)->q2, (q2,a)->q1},\n",
      "\tq0,\n",
      "\t{q1, q2}\n",
      ")\n"
     ]
    }
   ],
   "source": [
    "print(m_1a)"
   ],
   "metadata": {
    "collapsed": false
   }
  },
  {
   "cell_type": "code",
   "execution_count": 4,
   "outputs": [
    {
     "data": {
      "text/plain": "   sid  initial  final state     a     b     c\n0    0     True  False    q0  [q1]    []    []\n1    1    False   True    q1  [q1]  [q1]  [q2]\n2    2    False   True    q2  [q1]    []  [q2]",
      "text/html": "<div>\n<style scoped>\n    .dataframe tbody tr th:only-of-type {\n        vertical-align: middle;\n    }\n\n    .dataframe tbody tr th {\n        vertical-align: top;\n    }\n\n    .dataframe thead th {\n        text-align: right;\n    }\n</style>\n<table border=\"1\" class=\"dataframe\">\n  <thead>\n    <tr style=\"text-align: right;\">\n      <th></th>\n      <th>sid</th>\n      <th>initial</th>\n      <th>final</th>\n      <th>state</th>\n      <th>a</th>\n      <th>b</th>\n      <th>c</th>\n    </tr>\n  </thead>\n  <tbody>\n    <tr>\n      <th>0</th>\n      <td>0</td>\n      <td>True</td>\n      <td>False</td>\n      <td>q0</td>\n      <td>[q1]</td>\n      <td>[]</td>\n      <td>[]</td>\n    </tr>\n    <tr>\n      <th>1</th>\n      <td>1</td>\n      <td>False</td>\n      <td>True</td>\n      <td>q1</td>\n      <td>[q1]</td>\n      <td>[q1]</td>\n      <td>[q2]</td>\n    </tr>\n    <tr>\n      <th>2</th>\n      <td>2</td>\n      <td>False</td>\n      <td>True</td>\n      <td>q2</td>\n      <td>[q1]</td>\n      <td>[]</td>\n      <td>[q2]</td>\n    </tr>\n  </tbody>\n</table>\n</div>"
     },
     "execution_count": 4,
     "metadata": {},
     "output_type": "execute_result"
    }
   ],
   "source": [
    "m_1a.tabular_notation"
   ],
   "metadata": {
    "collapsed": false
   }
  },
  {
   "cell_type": "code",
   "execution_count": 5,
   "outputs": [],
   "source": [
    "accepted_1a = [\n",
    "    \"a\", \"aa\", \"ab\", \"ac\", \"aaa\", \"aab\", \"aac\", \"abc\", \"abb\", \"acc\", \"aba\", \"aca\",\n",
    "    \"aaaa\", \"abbb\", \"abbc\", \"abcc\", \"accc\",\n",
    "]\n",
    "\n",
    "for string in accepted_1a:\n",
    "    print(f\"{string}: {m_1a.recognize(string=string)}\")"
   ],
   "metadata": {
    "collapsed": false
   }
  },
  {
   "cell_type": "markdown",
   "source": [
    "## 1b. $aaa(b \\mid c)^* \\mid (b \\mid c)^* aaa$"
   ],
   "metadata": {
    "collapsed": false
   }
  },
  {
   "cell_type": "code",
   "execution_count": 7,
   "outputs": [],
   "source": [
    "m_1b = Automata(label=\"M\", alphabet=['a', 'b', 'c'])\n",
    "\n",
    "m_1b.create_state(label=\"q0\", is_initial=True, is_final=False)\n",
    "m_1b.create_state(label=\"q1\", is_initial=False, is_final=False)\n",
    "m_1b.create_state(label=\"q2\", is_initial=False, is_final=False)\n",
    "m_1b.create_state(label=\"q3\", is_initial=False, is_final=True)\n",
    "m_1b.create_state(label=\"q4\", is_initial=False, is_final=False)\n",
    "m_1b.create_state(label=\"q5\", is_initial=False, is_final=False)\n",
    "m_1b.create_state(label=\"q6\", is_initial=False, is_final=False)\n",
    "m_1b.create_state(label=\"q7\", is_initial=False, is_final=True)\n",
    "\n",
    "m_1b.create_transaction(departure_label=\"q0\", arrival_label=\"q1\", symbol=\"a\")\n",
    "m_1b.create_transaction(departure_label=\"q1\", arrival_label=\"q2\", symbol=\"a\")\n",
    "m_1b.create_transaction(departure_label=\"q2\", arrival_label=\"q3\", symbol=\"a\")\n",
    "m_1b.create_transaction(departure_label=\"q3\", arrival_label=\"q3\", symbol=\"b\")\n",
    "m_1b.create_transaction(departure_label=\"q3\", arrival_label=\"q3\", symbol=\"c\")\n",
    "m_1b.create_transaction(departure_label=\"q0\", arrival_label=\"q4\", symbol=\"b\")\n",
    "m_1b.create_transaction(departure_label=\"q0\", arrival_label=\"q4\", symbol=\"c\")\n",
    "m_1b.create_transaction(departure_label=\"q4\", arrival_label=\"q4\", symbol=\"b\")\n",
    "m_1b.create_transaction(departure_label=\"q4\", arrival_label=\"q4\", symbol=\"c\")\n",
    "m_1b.create_transaction(departure_label=\"q4\", arrival_label=\"q5\", symbol=\"a\")\n",
    "m_1b.create_transaction(departure_label=\"q5\", arrival_label=\"q6\", symbol=\"a\")\n",
    "m_1b.create_transaction(departure_label=\"q6\", arrival_label=\"q7\", symbol=\"a\")"
   ],
   "metadata": {
    "collapsed": false
   }
  },
  {
   "cell_type": "code",
   "execution_count": 8,
   "outputs": [
    {
     "name": "stdout",
     "output_type": "stream",
     "text": [
      "M = (\n",
      "\t{q0, q1, q2, q3, q4, q5, q6, q7},\n",
      "\t{a, b, c},\n",
      "\t{(q0,a)->q1, (q1,a)->q2, (q2,a)->q3, (q3,b)->q3, (q3,c)->q3, (q0,b)->q4, (q0,c)->q4, (q4,b)->q4, (q4,c)->q4, (q4,a)->q5, (q5,a)->q6, (q6,a)->q7},\n",
      "\tq0,\n",
      "\t{q3, q7}\n",
      ")\n"
     ]
    }
   ],
   "source": [
    "print(m_1b)"
   ],
   "metadata": {
    "collapsed": false
   }
  },
  {
   "cell_type": "code",
   "execution_count": 9,
   "outputs": [
    {
     "data": {
      "text/plain": "   sid  initial  final state     a     b     c\n0    0     True  False    q0  [q1]  [q4]  [q4]\n1    1    False  False    q1  [q2]    []    []\n2    2    False  False    q2  [q3]    []    []\n3    3    False   True    q3    []  [q3]  [q3]\n4    4    False  False    q4  [q5]  [q4]  [q4]\n5    5    False  False    q5  [q6]    []    []\n6    6    False  False    q6  [q7]    []    []\n7    7    False   True    q7    []    []    []",
      "text/html": "<div>\n<style scoped>\n    .dataframe tbody tr th:only-of-type {\n        vertical-align: middle;\n    }\n\n    .dataframe tbody tr th {\n        vertical-align: top;\n    }\n\n    .dataframe thead th {\n        text-align: right;\n    }\n</style>\n<table border=\"1\" class=\"dataframe\">\n  <thead>\n    <tr style=\"text-align: right;\">\n      <th></th>\n      <th>sid</th>\n      <th>initial</th>\n      <th>final</th>\n      <th>state</th>\n      <th>a</th>\n      <th>b</th>\n      <th>c</th>\n    </tr>\n  </thead>\n  <tbody>\n    <tr>\n      <th>0</th>\n      <td>0</td>\n      <td>True</td>\n      <td>False</td>\n      <td>q0</td>\n      <td>[q1]</td>\n      <td>[q4]</td>\n      <td>[q4]</td>\n    </tr>\n    <tr>\n      <th>1</th>\n      <td>1</td>\n      <td>False</td>\n      <td>False</td>\n      <td>q1</td>\n      <td>[q2]</td>\n      <td>[]</td>\n      <td>[]</td>\n    </tr>\n    <tr>\n      <th>2</th>\n      <td>2</td>\n      <td>False</td>\n      <td>False</td>\n      <td>q2</td>\n      <td>[q3]</td>\n      <td>[]</td>\n      <td>[]</td>\n    </tr>\n    <tr>\n      <th>3</th>\n      <td>3</td>\n      <td>False</td>\n      <td>True</td>\n      <td>q3</td>\n      <td>[]</td>\n      <td>[q3]</td>\n      <td>[q3]</td>\n    </tr>\n    <tr>\n      <th>4</th>\n      <td>4</td>\n      <td>False</td>\n      <td>False</td>\n      <td>q4</td>\n      <td>[q5]</td>\n      <td>[q4]</td>\n      <td>[q4]</td>\n    </tr>\n    <tr>\n      <th>5</th>\n      <td>5</td>\n      <td>False</td>\n      <td>False</td>\n      <td>q5</td>\n      <td>[q6]</td>\n      <td>[]</td>\n      <td>[]</td>\n    </tr>\n    <tr>\n      <th>6</th>\n      <td>6</td>\n      <td>False</td>\n      <td>False</td>\n      <td>q6</td>\n      <td>[q7]</td>\n      <td>[]</td>\n      <td>[]</td>\n    </tr>\n    <tr>\n      <th>7</th>\n      <td>7</td>\n      <td>False</td>\n      <td>True</td>\n      <td>q7</td>\n      <td>[]</td>\n      <td>[]</td>\n      <td>[]</td>\n    </tr>\n  </tbody>\n</table>\n</div>"
     },
     "execution_count": 9,
     "metadata": {},
     "output_type": "execute_result"
    }
   ],
   "source": [
    "m_1b.tabular_notation"
   ],
   "metadata": {
    "collapsed": false
   }
  },
  {
   "cell_type": "code",
   "execution_count": 16,
   "outputs": [
    {
     "name": "stdout",
     "output_type": "stream",
     "text": [
      "aaab: True\n",
      "aaac: True\n",
      "aaabb: True\n",
      "aaabc: True\n",
      "aaacb: True\n",
      "aaacc: True\n",
      "aaabbb: True\n",
      "aaabbc: True\n",
      "aaabcb: True\n",
      "aaabcc: True\n",
      "aaacbb: True\n",
      "aaacbc: True\n",
      "aaaccb: True\n",
      "aaaccc: True\n",
      "baaa: True\n",
      "caaa: True\n",
      "bbaaa: True\n",
      "bcaaa: True\n",
      "cbaaa: True\n",
      "ccaaa: True\n",
      "bbbaaa: True\n",
      "bbcaaa: True\n",
      "bcbaaa: True\n",
      "bccaaa: True\n",
      "cbbaaa: True\n",
      "cbcaaa: True\n",
      "ccbaaa: True\n",
      "cccaaa: True\n"
     ]
    }
   ],
   "source": [
    "accepted_1b = [\n",
    "    \"aaab\", \"aaac\", \"aaabb\", \"aaabc\", \"aaacb\", \"aaacc\", \"aaabbb\", \"aaabbc\", \"aaabcb\", \"aaabcc\", \"aaacbb\", \"aaacbc\", \"aaaccb\", \"aaaccc\",\n",
    "    \"baaa\", \"caaa\", \"bbaaa\", \"bcaaa\", \"cbaaa\", \"ccaaa\", \"bbbaaa\", \"bbcaaa\", \"bcbaaa\", \"bccaaa\", \"cbbaaa\", \"cbcaaa\", \"ccbaaa\", \"cccaaa\"\n",
    "]\n",
    "\n",
    "for string in accepted_1b:\n",
    "    print(f\"{string}: {m_1b.recognize(string=string)}\")"
   ],
   "metadata": {
    "collapsed": false
   }
  },
  {
   "cell_type": "markdown",
   "source": [
    "## 1c. $a^*b \\mid ab^*$"
   ],
   "metadata": {
    "collapsed": false
   }
  },
  {
   "cell_type": "code",
   "execution_count": 10,
   "outputs": [],
   "source": [
    "m_1c = Automata(label=\"M\", alphabet=['a', 'b'])\n",
    "\n",
    "m_1c.create_state(label=\"q0\", is_initial=True, is_final=False)\n",
    "m_1c.create_state(label=\"q1\", is_initial=False, is_final=True)\n",
    "m_1c.create_state(label=\"q2\", is_initial=False, is_final=True)\n",
    "m_1c.create_state(label=\"q3\", is_initial=False, is_final=False)\n",
    "\n",
    "m_1c.create_transaction(departure_label=\"q0\", arrival_label=\"q2\", symbol=\"a\")\n",
    "m_1c.create_transaction(departure_label=\"q0\", arrival_label=\"q1\", symbol=\"b\")\n",
    "\n",
    "m_1c.create_transaction(departure_label=\"q1\", arrival_label=\"q1\", symbol=\"b\")\n",
    "\n",
    "m_1c.create_transaction(departure_label=\"q2\", arrival_label=\"q3\", symbol=\"a\")\n",
    "m_1c.create_transaction(departure_label=\"q2\", arrival_label=\"q1\", symbol=\"b\")\n",
    "\n",
    "m_1c.create_transaction(departure_label=\"q3\", arrival_label=\"q3\", symbol=\"a\")\n",
    "m_1c.create_transaction(departure_label=\"q3\", arrival_label=\"q1\", symbol=\"b\")"
   ],
   "metadata": {
    "collapsed": false
   }
  },
  {
   "cell_type": "code",
   "execution_count": 11,
   "outputs": [
    {
     "name": "stdout",
     "output_type": "stream",
     "text": [
      "M = (\n",
      "\t{q0, q1, q2, q3},\n",
      "\t{a, b},\n",
      "\t{(q0,a)->q2, (q0,b)->q1, (q1,b)->q1, (q2,a)->q3, (q2,b)->q1, (q3,a)->q3, (q3,b)->q1},\n",
      "\tq0,\n",
      "\t{q1, q2}\n",
      ")\n"
     ]
    }
   ],
   "source": [
    "print(m_1c)"
   ],
   "metadata": {
    "collapsed": false
   }
  },
  {
   "cell_type": "code",
   "execution_count": 12,
   "outputs": [
    {
     "data": {
      "text/plain": "   sid  initial  final state     a     b\n0    0     True  False    q0  [q2]  [q1]\n1    1    False   True    q1    []  [q1]\n2    2    False   True    q2  [q3]  [q1]\n3    3    False  False    q3  [q3]  [q1]",
      "text/html": "<div>\n<style scoped>\n    .dataframe tbody tr th:only-of-type {\n        vertical-align: middle;\n    }\n\n    .dataframe tbody tr th {\n        vertical-align: top;\n    }\n\n    .dataframe thead th {\n        text-align: right;\n    }\n</style>\n<table border=\"1\" class=\"dataframe\">\n  <thead>\n    <tr style=\"text-align: right;\">\n      <th></th>\n      <th>sid</th>\n      <th>initial</th>\n      <th>final</th>\n      <th>state</th>\n      <th>a</th>\n      <th>b</th>\n    </tr>\n  </thead>\n  <tbody>\n    <tr>\n      <th>0</th>\n      <td>0</td>\n      <td>True</td>\n      <td>False</td>\n      <td>q0</td>\n      <td>[q2]</td>\n      <td>[q1]</td>\n    </tr>\n    <tr>\n      <th>1</th>\n      <td>1</td>\n      <td>False</td>\n      <td>True</td>\n      <td>q1</td>\n      <td>[]</td>\n      <td>[q1]</td>\n    </tr>\n    <tr>\n      <th>2</th>\n      <td>2</td>\n      <td>False</td>\n      <td>True</td>\n      <td>q2</td>\n      <td>[q3]</td>\n      <td>[q1]</td>\n    </tr>\n    <tr>\n      <th>3</th>\n      <td>3</td>\n      <td>False</td>\n      <td>False</td>\n      <td>q3</td>\n      <td>[q3]</td>\n      <td>[q1]</td>\n    </tr>\n  </tbody>\n</table>\n</div>"
     },
     "execution_count": 12,
     "metadata": {},
     "output_type": "execute_result"
    }
   ],
   "source": [
    "m_1c.tabular_notation"
   ],
   "metadata": {
    "collapsed": false
   }
  },
  {
   "cell_type": "code",
   "execution_count": 17,
   "outputs": [
    {
     "name": "stdout",
     "output_type": "stream",
     "text": [
      "b: True\n",
      "ab: True\n",
      "aab: True\n",
      "aaab: True\n",
      "aaaab: True\n",
      "aaaaab: True\n",
      "aaaaaab: True\n",
      "aaaaaaab: True\n",
      "aaaaaaaab: True\n",
      "a: True\n",
      "ab: True\n",
      "abb: True\n",
      "abbb: True\n",
      "abbbb: True\n",
      "abbbbb: True\n",
      "abbbbbb: True\n",
      "abbbbbbb: True\n",
      "abbbbbbbb: True\n"
     ]
    }
   ],
   "source": [
    "accepted_1c = [\n",
    "    \"b\", \"ab\", \"aab\", \"aaab\", \"aaaab\", \"aaaaab\", \"aaaaaab\", \"aaaaaaab\", \"aaaaaaaab\",\n",
    "    \"a\", \"ab\", \"abb\", \"abbb\", \"abbbb\", \"abbbbb\", \"abbbbbb\", \"abbbbbbb\", \"abbbbbbbb\",\n",
    "]\n",
    "\n",
    "for string in accepted_1c:\n",
    "    print(f\"{string}: {m_1c.recognize(string=string)}\")"
   ],
   "metadata": {
    "collapsed": false
   }
  },
  {
   "cell_type": "markdown",
   "source": [
    "## 1d. $a^*b^*(a \\mid ac^*)$"
   ],
   "metadata": {
    "collapsed": false
   }
  },
  {
   "cell_type": "code",
   "execution_count": 13,
   "outputs": [],
   "source": [
    "m_1d = Automata(label=\"M\", alphabet=['a', 'b', 'c'])\n",
    "\n",
    "m_1d.create_state(label=\"q0\", is_initial=True, is_final=False)\n",
    "m_1d.create_state(label=\"q1\", is_initial=False, is_final=False)\n",
    "m_1d.create_state(label=\"q2\", is_initial=False, is_final=True)\n",
    "m_1d.create_state(label=\"q3\", is_initial=False, is_final=True)\n",
    "\n",
    "m_1d.create_transaction(departure_label=\"q0\", arrival_label=\"q3\", symbol=\"a\")\n",
    "m_1d.create_transaction(departure_label=\"q0\", arrival_label=\"q1\", symbol=\"b\")\n",
    "\n",
    "m_1d.create_transaction(departure_label=\"q1\", arrival_label=\"q2\", symbol=\"a\")\n",
    "m_1d.create_transaction(departure_label=\"q1\", arrival_label=\"q1\", symbol=\"b\")\n",
    "\n",
    "m_1d.create_transaction(departure_label=\"q2\", arrival_label=\"q2\", symbol=\"c\")\n",
    "\n",
    "m_1d.create_transaction(departure_label=\"q3\", arrival_label=\"q3\", symbol=\"a\")\n",
    "m_1d.create_transaction(departure_label=\"q3\", arrival_label=\"q1\", symbol=\"b\")\n",
    "m_1d.create_transaction(departure_label=\"q3\", arrival_label=\"q2\", symbol=\"c\")"
   ],
   "metadata": {
    "collapsed": false
   }
  },
  {
   "cell_type": "code",
   "execution_count": 14,
   "outputs": [
    {
     "name": "stdout",
     "output_type": "stream",
     "text": [
      "M = (\n",
      "\t{q0, q1, q2, q3},\n",
      "\t{a, b, c},\n",
      "\t{(q0,a)->q3, (q0,b)->q1, (q1,a)->q2, (q1,b)->q1, (q2,c)->q2, (q3,a)->q3, (q3,b)->q1, (q3,c)->q2},\n",
      "\tq0,\n",
      "\t{q2, q3}\n",
      ")\n"
     ]
    }
   ],
   "source": [
    "print(m_1d)"
   ],
   "metadata": {
    "collapsed": false
   }
  },
  {
   "cell_type": "code",
   "execution_count": 15,
   "outputs": [
    {
     "data": {
      "text/plain": "   sid  initial  final state     a     b     c\n0    0     True  False    q0  [q3]  [q1]    []\n1    1    False  False    q1  [q2]  [q1]    []\n2    2    False   True    q2    []    []  [q2]\n3    3    False   True    q3  [q3]  [q1]  [q2]",
      "text/html": "<div>\n<style scoped>\n    .dataframe tbody tr th:only-of-type {\n        vertical-align: middle;\n    }\n\n    .dataframe tbody tr th {\n        vertical-align: top;\n    }\n\n    .dataframe thead th {\n        text-align: right;\n    }\n</style>\n<table border=\"1\" class=\"dataframe\">\n  <thead>\n    <tr style=\"text-align: right;\">\n      <th></th>\n      <th>sid</th>\n      <th>initial</th>\n      <th>final</th>\n      <th>state</th>\n      <th>a</th>\n      <th>b</th>\n      <th>c</th>\n    </tr>\n  </thead>\n  <tbody>\n    <tr>\n      <th>0</th>\n      <td>0</td>\n      <td>True</td>\n      <td>False</td>\n      <td>q0</td>\n      <td>[q3]</td>\n      <td>[q1]</td>\n      <td>[]</td>\n    </tr>\n    <tr>\n      <th>1</th>\n      <td>1</td>\n      <td>False</td>\n      <td>False</td>\n      <td>q1</td>\n      <td>[q2]</td>\n      <td>[q1]</td>\n      <td>[]</td>\n    </tr>\n    <tr>\n      <th>2</th>\n      <td>2</td>\n      <td>False</td>\n      <td>True</td>\n      <td>q2</td>\n      <td>[]</td>\n      <td>[]</td>\n      <td>[q2]</td>\n    </tr>\n    <tr>\n      <th>3</th>\n      <td>3</td>\n      <td>False</td>\n      <td>True</td>\n      <td>q3</td>\n      <td>[q3]</td>\n      <td>[q1]</td>\n      <td>[q2]</td>\n    </tr>\n  </tbody>\n</table>\n</div>"
     },
     "execution_count": 15,
     "metadata": {},
     "output_type": "execute_result"
    }
   ],
   "source": [
    "m_1d.tabular_notation"
   ],
   "metadata": {
    "collapsed": false
   }
  },
  {
   "cell_type": "code",
   "execution_count": 19,
   "outputs": [
    {
     "name": "stdout",
     "output_type": "stream",
     "text": [
      "a: True\n",
      "aa: True\n",
      "ac: True\n",
      "ba: True\n",
      "aaa: True\n",
      "aac: True\n",
      "aba: True\n",
      "bac: True\n",
      "acc: True\n",
      "aaaa: True\n",
      "aaac: True\n",
      "aacc: True\n",
      "accc: True\n",
      "abba: True\n",
      "abac: True\n",
      "bbba: True\n",
      "bbac: True\n",
      "bacc: True\n",
      "aaaaa: True\n",
      "aaaac: True\n",
      "aaacc: True\n",
      "aaccc: True\n",
      "acccc: True\n",
      "abbba: True\n",
      "aabba: True\n",
      "aaaba: True\n",
      "bbbba: True\n",
      "bbbac: True\n",
      "bbacc: True\n",
      "baccc: True\n"
     ]
    }
   ],
   "source": [
    "accepted_1d = [\n",
    "    \"a\", \"aa\", \"ac\", \"ba\", \"aaa\", \"aac\", \"aba\", \"bac\", \"acc\", \"aaaa\", \"aaac\", \"aacc\", \"accc\", \"abba\", \"abac\", \"bbba\", \"bbac\", \"bacc\",\n",
    "    \"aaaaa\", \"aaaac\", \"aaacc\", \"aaccc\", \"acccc\", \"abbba\",\"aabba\", \"aaaba\", \"bbbba\", \"bbbac\", \"bbacc\", \"baccc\"\n",
    "]\n",
    "\n",
    "for string in accepted_1d:\n",
    "    print(f\"{string}: {m_1d.recognize(string=string)}\")"
   ],
   "metadata": {
    "collapsed": false
   }
  },
  {
   "cell_type": "markdown",
   "source": [
    "# Questão 02"
   ],
   "metadata": {
    "collapsed": false
   }
  },
  {
   "cell_type": "code",
   "execution_count": 15,
   "outputs": [],
   "source": [],
   "metadata": {
    "collapsed": false
   }
  },
  {
   "cell_type": "markdown",
   "source": [
    "# Questão 03"
   ],
   "metadata": {
    "collapsed": false
   }
  },
  {
   "cell_type": "code",
   "execution_count": 15,
   "outputs": [],
   "source": [],
   "metadata": {
    "collapsed": false
   }
  }
 ],
 "metadata": {
  "kernelspec": {
   "display_name": "Python 3",
   "language": "python",
   "name": "python3"
  },
  "language_info": {
   "codemirror_mode": {
    "name": "ipython",
    "version": 2
   },
   "file_extension": ".py",
   "mimetype": "text/x-python",
   "name": "python",
   "nbconvert_exporter": "python",
   "pygments_lexer": "ipython2",
   "version": "2.7.6"
  }
 },
 "nbformat": 4,
 "nbformat_minor": 0
}
