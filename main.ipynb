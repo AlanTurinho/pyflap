{
 "cells": [
  {
   "cell_type": "code",
   "execution_count": 1,
   "outputs": [],
   "source": [
    "import re\n",
    "\n",
    "from src.automata import Alphabet, Automata, Transducer\n",
    "from src.utils import apply_mask, generate_strings, string_heatmap"
   ],
   "metadata": {
    "collapsed": false
   }
  },
  {
   "cell_type": "markdown",
   "source": [
    "# Questão 01"
   ],
   "metadata": {
    "collapsed": false
   }
  },
  {
   "cell_type": "markdown",
   "source": [
    "Considere as linguagens definidas pelas expressões regulares a seguir. Implemente, para cada uma das linguagens, um autômato finito que reconheça cadeias pertencentes a linguagem. Esse autômato não deve conter não-determinismos, transições em vazio, estados inacessíveis e nem estados inúteis."
   ],
   "metadata": {
    "collapsed": false
   }
  },
  {
   "cell_type": "code",
   "execution_count": 2,
   "outputs": [],
   "source": [
    "alphabet: Alphabet = Alphabet(symbol_labels=['a', 'b', 'c'])"
   ],
   "metadata": {
    "collapsed": false
   }
  },
  {
   "cell_type": "markdown",
   "source": [
    "## 1a. $(ab^*c^*)^*$"
   ],
   "metadata": {
    "collapsed": false
   }
  },
  {
   "cell_type": "code",
   "execution_count": 42,
   "metadata": {
    "collapsed": true
   },
   "outputs": [],
   "source": [
    "m_1a = Automata(label=\"M\", alphabet=alphabet)\n",
    "\n",
    "m_1a.create_state(label=\"q0\", is_initial=True, is_final=False)\n",
    "m_1a.create_state(label=\"q1\", is_initial=False, is_final=True)\n",
    "m_1a.create_state(label=\"q2\", is_initial=False, is_final=True)\n",
    "m_1a.create_state(label=\"q3\", is_initial=False, is_final=True)\n",
    "\n",
    "m_1a.create_transaction(departure_label=\"q0\", arrival_label=\"q1\", symbol_label=\"a\")\n",
    "m_1a.create_transaction(departure_label=\"q1\", arrival_label=\"q1\", symbol_label=\"a\")\n",
    "m_1a.create_transaction(departure_label=\"q1\", arrival_label=\"q2\", symbol_label=\"b\")\n",
    "m_1a.create_transaction(departure_label=\"q1\", arrival_label=\"q3\", symbol_label=\"c\")\n",
    "m_1a.create_transaction(departure_label=\"q2\", arrival_label=\"q2\", symbol_label=\"b\")\n",
    "m_1a.create_transaction(departure_label=\"q2\", arrival_label=\"q1\", symbol_label=\"a\")\n",
    "m_1a.create_transaction(departure_label=\"q2\", arrival_label=\"q3\", symbol_label=\"c\")\n",
    "m_1a.create_transaction(departure_label=\"q3\", arrival_label=\"q3\", symbol_label=\"c\")\n",
    "m_1a.create_transaction(departure_label=\"q3\", arrival_label=\"q1\", symbol_label=\"a\")"
   ]
  },
  {
   "cell_type": "code",
   "execution_count": 43,
   "outputs": [
    {
     "name": "stdout",
     "output_type": "stream",
     "text": [
      "M = (\n",
      "\t{q0, q1, q2, q3},\n",
      "\t{a, b, c},\n",
      "\t{(q0,a)->q1, (q1,a)->q1, (q1,b)->q2, (q1,c)->q3, (q2,b)->q2, (q2,a)->q1, (q2,c)->q3, (q3,c)->q3, (q3,a)->q1},\n",
      "\tq0,\n",
      "\t{q1, q2, q3}\n",
      ")\n"
     ]
    }
   ],
   "source": [
    "print(m_1a)"
   ],
   "metadata": {
    "collapsed": false
   }
  },
  {
   "cell_type": "code",
   "execution_count": 44,
   "outputs": [
    {
     "data": {
      "text/plain": "   sid  initial  final state     a     b     c\n0    0     True  False    q0  [q1]    []    []\n1    1    False   True    q1  [q1]  [q2]  [q3]\n2    2    False   True    q2  [q1]  [q2]  [q3]\n3    3    False   True    q3  [q1]    []  [q3]",
      "text/html": "<div>\n<style scoped>\n    .dataframe tbody tr th:only-of-type {\n        vertical-align: middle;\n    }\n\n    .dataframe tbody tr th {\n        vertical-align: top;\n    }\n\n    .dataframe thead th {\n        text-align: right;\n    }\n</style>\n<table border=\"1\" class=\"dataframe\">\n  <thead>\n    <tr style=\"text-align: right;\">\n      <th></th>\n      <th>sid</th>\n      <th>initial</th>\n      <th>final</th>\n      <th>state</th>\n      <th>a</th>\n      <th>b</th>\n      <th>c</th>\n    </tr>\n  </thead>\n  <tbody>\n    <tr>\n      <th>0</th>\n      <td>0</td>\n      <td>True</td>\n      <td>False</td>\n      <td>q0</td>\n      <td>[q1]</td>\n      <td>[]</td>\n      <td>[]</td>\n    </tr>\n    <tr>\n      <th>1</th>\n      <td>1</td>\n      <td>False</td>\n      <td>True</td>\n      <td>q1</td>\n      <td>[q1]</td>\n      <td>[q2]</td>\n      <td>[q3]</td>\n    </tr>\n    <tr>\n      <th>2</th>\n      <td>2</td>\n      <td>False</td>\n      <td>True</td>\n      <td>q2</td>\n      <td>[q1]</td>\n      <td>[q2]</td>\n      <td>[q3]</td>\n    </tr>\n    <tr>\n      <th>3</th>\n      <td>3</td>\n      <td>False</td>\n      <td>True</td>\n      <td>q3</td>\n      <td>[q1]</td>\n      <td>[]</td>\n      <td>[q3]</td>\n    </tr>\n  </tbody>\n</table>\n</div>"
     },
     "execution_count": 44,
     "metadata": {},
     "output_type": "execute_result"
    }
   ],
   "source": [
    "m_1a.tabular_notation"
   ],
   "metadata": {
    "collapsed": false
   }
  },
  {
   "cell_type": "code",
   "execution_count": 46,
   "outputs": [
    {
     "name": "stdout",
     "output_type": "stream",
     "text": [
      "a: True\n",
      "aa: True\n",
      "ab: True\n",
      "ac: True\n",
      "aaa: True\n",
      "aab: True\n",
      "aac: True\n",
      "abc: True\n",
      "abb: True\n",
      "acc: True\n",
      "aba: True\n",
      "aca: True\n",
      "aaaa: True\n",
      "abbb: True\n",
      "abbc: True\n",
      "abcc: True\n",
      "accc: True\n"
     ]
    }
   ],
   "source": [
    "accepted_1a = [\n",
    "    \"a\", \"aa\", \"ab\", \"ac\", \"aaa\", \"aab\", \"aac\", \"abc\", \"abb\", \"acc\", \"aba\", \"aca\",\n",
    "    \"aaaa\", \"abbb\", \"abbc\", \"abcc\", \"accc\",\n",
    "]\n",
    "\n",
    "for string in accepted_1a:\n",
    "    print(f\"{string}: {m_1a.recognize(string=string)}\")"
   ],
   "metadata": {
    "collapsed": false
   }
  },
  {
   "cell_type": "code",
   "execution_count": 7,
   "outputs": [],
   "source": [
    "strings = generate_strings(alphabet={'a', 'b', 'c'}, size=6)\n",
    "matches = apply_mask(pattern=r\"^(ab*c*)*$\", strings=strings)\n",
    "\n",
    "string_heatmap(\n",
    "    strings=[key for key, value in matches.items() if value],\n",
    "    title=\"w ∈ L, w ≤ 6\",\n",
    "    figsize=(1000, 1000), fontsize=13, filename=\"results/1a.svg\"\n",
    ")"
   ],
   "metadata": {
    "collapsed": false
   }
  },
  {
   "cell_type": "markdown",
   "source": [
    "## 1b. $aaa(b \\mid c)^* \\mid (b \\mid c)^* aaa$"
   ],
   "metadata": {
    "collapsed": false
   }
  },
  {
   "cell_type": "code",
   "execution_count": 48,
   "outputs": [],
   "source": [
    "m_1b = Automata(label=\"M\", alphabet=alphabet)\n",
    "\n",
    "m_1b.create_state(label=\"q0\", is_initial=True, is_final=False)\n",
    "m_1b.create_state(label=\"q1\", is_initial=False, is_final=False)\n",
    "m_1b.create_state(label=\"q2\", is_initial=False, is_final=False)\n",
    "m_1b.create_state(label=\"q3\", is_initial=False, is_final=True)\n",
    "m_1b.create_state(label=\"q4\", is_initial=False, is_final=False)\n",
    "m_1b.create_state(label=\"q5\", is_initial=False, is_final=False)\n",
    "m_1b.create_state(label=\"q6\", is_initial=False, is_final=False)\n",
    "m_1b.create_state(label=\"q7\", is_initial=False, is_final=True)\n",
    "\n",
    "m_1b.create_transaction(departure_label=\"q0\", arrival_label=\"q1\", symbol_label=\"a\")\n",
    "m_1b.create_transaction(departure_label=\"q1\", arrival_label=\"q2\", symbol_label=\"a\")\n",
    "m_1b.create_transaction(departure_label=\"q2\", arrival_label=\"q3\", symbol_label=\"a\")\n",
    "m_1b.create_transaction(departure_label=\"q3\", arrival_label=\"q3\", symbol_label=\"b\")\n",
    "m_1b.create_transaction(departure_label=\"q3\", arrival_label=\"q3\", symbol_label=\"c\")\n",
    "m_1b.create_transaction(departure_label=\"q0\", arrival_label=\"q4\", symbol_label=\"b\")\n",
    "m_1b.create_transaction(departure_label=\"q0\", arrival_label=\"q4\", symbol_label=\"c\")\n",
    "m_1b.create_transaction(departure_label=\"q4\", arrival_label=\"q4\", symbol_label=\"b\")\n",
    "m_1b.create_transaction(departure_label=\"q4\", arrival_label=\"q4\", symbol_label=\"c\")\n",
    "m_1b.create_transaction(departure_label=\"q4\", arrival_label=\"q5\", symbol_label=\"a\")\n",
    "m_1b.create_transaction(departure_label=\"q5\", arrival_label=\"q6\", symbol_label=\"a\")\n",
    "m_1b.create_transaction(departure_label=\"q6\", arrival_label=\"q7\", symbol_label=\"a\")"
   ],
   "metadata": {
    "collapsed": false
   }
  },
  {
   "cell_type": "code",
   "execution_count": 49,
   "outputs": [
    {
     "name": "stdout",
     "output_type": "stream",
     "text": [
      "M = (\n",
      "\t{q0, q1, q2, q3, q4, q5, q6, q7, q8},\n",
      "\t{a, b, c},\n",
      "\t{(q0,b)->q1, (q0,c)->q1, (q1,b)->q1, (q1,c)->q1, (q1,a)->q2, (q2,a)->q3, (q3,a)->q4, (q0,a)->q5, (q5,a)->q6, (q6,a)->q7, (q7,b)->q8, (q7,c)->q8, (q8,b)->q8, (q8,c)->q8},\n",
      "\tq0,\n",
      "\t{q3, q7, q8}\n",
      ")\n"
     ]
    }
   ],
   "source": [
    "print(m_1b)"
   ],
   "metadata": {
    "collapsed": false
   }
  },
  {
   "cell_type": "code",
   "execution_count": 50,
   "outputs": [
    {
     "data": {
      "text/plain": "   sid  initial  final state     a     b     c\n0    0     True  False    q0  [q5]  [q1]  [q1]\n1    1    False  False    q1  [q2]  [q1]  [q1]\n2    2    False  False    q2  [q3]    []    []\n3    3    False   True    q3  [q4]    []    []\n4    4    False  False    q4    []    []    []\n5    5    False  False    q5  [q6]    []    []\n6    6    False  False    q6  [q7]    []    []\n7    7    False   True    q7    []  [q8]  [q8]\n8    8    False   True    q8    []  [q8]  [q8]",
      "text/html": "<div>\n<style scoped>\n    .dataframe tbody tr th:only-of-type {\n        vertical-align: middle;\n    }\n\n    .dataframe tbody tr th {\n        vertical-align: top;\n    }\n\n    .dataframe thead th {\n        text-align: right;\n    }\n</style>\n<table border=\"1\" class=\"dataframe\">\n  <thead>\n    <tr style=\"text-align: right;\">\n      <th></th>\n      <th>sid</th>\n      <th>initial</th>\n      <th>final</th>\n      <th>state</th>\n      <th>a</th>\n      <th>b</th>\n      <th>c</th>\n    </tr>\n  </thead>\n  <tbody>\n    <tr>\n      <th>0</th>\n      <td>0</td>\n      <td>True</td>\n      <td>False</td>\n      <td>q0</td>\n      <td>[q5]</td>\n      <td>[q1]</td>\n      <td>[q1]</td>\n    </tr>\n    <tr>\n      <th>1</th>\n      <td>1</td>\n      <td>False</td>\n      <td>False</td>\n      <td>q1</td>\n      <td>[q2]</td>\n      <td>[q1]</td>\n      <td>[q1]</td>\n    </tr>\n    <tr>\n      <th>2</th>\n      <td>2</td>\n      <td>False</td>\n      <td>False</td>\n      <td>q2</td>\n      <td>[q3]</td>\n      <td>[]</td>\n      <td>[]</td>\n    </tr>\n    <tr>\n      <th>3</th>\n      <td>3</td>\n      <td>False</td>\n      <td>True</td>\n      <td>q3</td>\n      <td>[q4]</td>\n      <td>[]</td>\n      <td>[]</td>\n    </tr>\n    <tr>\n      <th>4</th>\n      <td>4</td>\n      <td>False</td>\n      <td>False</td>\n      <td>q4</td>\n      <td>[]</td>\n      <td>[]</td>\n      <td>[]</td>\n    </tr>\n    <tr>\n      <th>5</th>\n      <td>5</td>\n      <td>False</td>\n      <td>False</td>\n      <td>q5</td>\n      <td>[q6]</td>\n      <td>[]</td>\n      <td>[]</td>\n    </tr>\n    <tr>\n      <th>6</th>\n      <td>6</td>\n      <td>False</td>\n      <td>False</td>\n      <td>q6</td>\n      <td>[q7]</td>\n      <td>[]</td>\n      <td>[]</td>\n    </tr>\n    <tr>\n      <th>7</th>\n      <td>7</td>\n      <td>False</td>\n      <td>True</td>\n      <td>q7</td>\n      <td>[]</td>\n      <td>[q8]</td>\n      <td>[q8]</td>\n    </tr>\n    <tr>\n      <th>8</th>\n      <td>8</td>\n      <td>False</td>\n      <td>True</td>\n      <td>q8</td>\n      <td>[]</td>\n      <td>[q8]</td>\n      <td>[q8]</td>\n    </tr>\n  </tbody>\n</table>\n</div>"
     },
     "execution_count": 50,
     "metadata": {},
     "output_type": "execute_result"
    }
   ],
   "source": [
    "m_1b.tabular_notation"
   ],
   "metadata": {
    "collapsed": false
   }
  },
  {
   "cell_type": "code",
   "execution_count": 51,
   "outputs": [
    {
     "name": "stdout",
     "output_type": "stream",
     "text": [
      "aaab: True\n",
      "aaac: True\n",
      "aaabb: True\n",
      "aaabc: True\n",
      "aaacb: True\n",
      "aaacc: True\n",
      "aaabbb: True\n",
      "aaabbc: True\n",
      "aaabcb: True\n",
      "aaabcc: True\n",
      "aaacbb: True\n",
      "aaacbc: True\n",
      "aaaccb: True\n",
      "aaaccc: True\n",
      "baaa: False\n",
      "caaa: False\n",
      "bbaaa: False\n",
      "bcaaa: False\n",
      "cbaaa: False\n",
      "ccaaa: False\n",
      "bbbaaa: False\n",
      "bbcaaa: False\n",
      "bcbaaa: False\n",
      "bccaaa: False\n",
      "cbbaaa: False\n",
      "cbcaaa: False\n",
      "ccbaaa: False\n",
      "cccaaa: False\n"
     ]
    }
   ],
   "source": [
    "accepted_1b = [\n",
    "    \"aaab\", \"aaac\", \"aaabb\", \"aaabc\", \"aaacb\", \"aaacc\", \"aaabbb\", \"aaabbc\", \"aaabcb\", \"aaabcc\", \"aaacbb\", \"aaacbc\", \"aaaccb\", \"aaaccc\",\n",
    "    \"baaa\", \"caaa\", \"bbaaa\", \"bcaaa\", \"cbaaa\", \"ccaaa\", \"bbbaaa\", \"bbcaaa\", \"bcbaaa\", \"bccaaa\", \"cbbaaa\", \"cbcaaa\", \"ccbaaa\", \"cccaaa\"\n",
    "]\n",
    "\n",
    "for string in accepted_1b:\n",
    "    print(f\"{string}: {m_1b.recognize(string=string)}\")"
   ],
   "metadata": {
    "collapsed": false
   }
  },
  {
   "cell_type": "code",
   "execution_count": 12,
   "outputs": [
    {
     "data": {
      "application/vnd.plotly.v1+json": {
       "data": [
        {
         "colorbar": {
          "title": {
           "text": "Tamanho"
          }
         },
         "colorscale": [
          [
           0.0,
           "rgb(150,0,90)"
          ],
          [
           0.125,
           "rgb(0,0,200)"
          ],
          [
           0.25,
           "rgb(0,25,255)"
          ],
          [
           0.375,
           "rgb(0,152,255)"
          ],
          [
           0.5,
           "rgb(44,255,150)"
          ],
          [
           0.625,
           "rgb(151,255,0)"
          ],
          [
           0.75,
           "rgb(255,234,0)"
          ],
          [
           0.875,
           "rgb(255,111,0)"
          ],
          [
           1.0,
           "rgb(255,0,0)"
          ]
         ],
         "showscale": true,
         "text": [
          [
           "",
           "",
           "",
           "",
           "",
           "",
           "",
           ""
          ],
          [
           "",
           "",
           "aaa",
           "caaa",
           "baaa",
           "aaac",
           "aaab",
           "aaaa"
          ],
          [
           "ccaaa",
           "cbaaa",
           "bcaaa",
           "bbaaa",
           "aaacc",
           "aaacb",
           "aaaca",
           "aaabc"
          ],
          [
           "aaabb",
           "aaaba",
           "aaaac",
           "aaaab",
           "aaaaa",
           "cccaaa",
           "ccbaaa",
           "cbcaaa"
          ],
          [
           "cbbaaa",
           "bccaaa",
           "bcbaaa",
           "bbcaaa",
           "bbbaaa",
           "aaaccc",
           "aaaccb",
           "aaacca"
          ],
          [
           "aaacbc",
           "aaacbb",
           "aaacba",
           "aaacac",
           "aaacab",
           "aaacaa",
           "aaabcc",
           "aaabcb"
          ],
          [
           "aaabca",
           "aaabbc",
           "aaabbb",
           "aaabba",
           "aaabac",
           "aaabab",
           "aaabaa",
           "aaaacc"
          ],
          [
           "aaaacb",
           "aaaaca",
           "aaaabc",
           "aaaabb",
           "aaaaba",
           "aaaaac",
           "aaaaab",
           "aaaaaa"
          ]
         ],
         "textfont": {
          "family": "monospace",
          "size": 25
         },
         "texttemplate": "%{text}",
         "z": [
          [
           "0",
           "0",
           "0",
           "0",
           "0",
           "0",
           "0",
           "0"
          ],
          [
           "0",
           "0",
           "3",
           "4",
           "4",
           "4",
           "4",
           "4"
          ],
          [
           "5",
           "5",
           "5",
           "5",
           "5",
           "5",
           "5",
           "5"
          ],
          [
           "5",
           "5",
           "5",
           "5",
           "5",
           "6",
           "6",
           "6"
          ],
          [
           "6",
           "6",
           "6",
           "6",
           "6",
           "6",
           "6",
           "6"
          ],
          [
           "6",
           "6",
           "6",
           "6",
           "6",
           "6",
           "6",
           "6"
          ],
          [
           "6",
           "6",
           "6",
           "6",
           "6",
           "6",
           "6",
           "6"
          ],
          [
           "6",
           "6",
           "6",
           "6",
           "6",
           "6",
           "6",
           "6"
          ]
         ],
         "type": "heatmap"
        }
       ],
       "layout": {
        "template": {
         "data": {
          "histogram2dcontour": [
           {
            "type": "histogram2dcontour",
            "colorbar": {
             "outlinewidth": 0,
             "ticks": ""
            },
            "colorscale": [
             [
              0.0,
              "#0d0887"
             ],
             [
              0.1111111111111111,
              "#46039f"
             ],
             [
              0.2222222222222222,
              "#7201a8"
             ],
             [
              0.3333333333333333,
              "#9c179e"
             ],
             [
              0.4444444444444444,
              "#bd3786"
             ],
             [
              0.5555555555555556,
              "#d8576b"
             ],
             [
              0.6666666666666666,
              "#ed7953"
             ],
             [
              0.7777777777777778,
              "#fb9f3a"
             ],
             [
              0.8888888888888888,
              "#fdca26"
             ],
             [
              1.0,
              "#f0f921"
             ]
            ]
           }
          ],
          "choropleth": [
           {
            "type": "choropleth",
            "colorbar": {
             "outlinewidth": 0,
             "ticks": ""
            }
           }
          ],
          "histogram2d": [
           {
            "type": "histogram2d",
            "colorbar": {
             "outlinewidth": 0,
             "ticks": ""
            },
            "colorscale": [
             [
              0.0,
              "#0d0887"
             ],
             [
              0.1111111111111111,
              "#46039f"
             ],
             [
              0.2222222222222222,
              "#7201a8"
             ],
             [
              0.3333333333333333,
              "#9c179e"
             ],
             [
              0.4444444444444444,
              "#bd3786"
             ],
             [
              0.5555555555555556,
              "#d8576b"
             ],
             [
              0.6666666666666666,
              "#ed7953"
             ],
             [
              0.7777777777777778,
              "#fb9f3a"
             ],
             [
              0.8888888888888888,
              "#fdca26"
             ],
             [
              1.0,
              "#f0f921"
             ]
            ]
           }
          ],
          "heatmap": [
           {
            "type": "heatmap",
            "colorbar": {
             "outlinewidth": 0,
             "ticks": ""
            },
            "colorscale": [
             [
              0.0,
              "#0d0887"
             ],
             [
              0.1111111111111111,
              "#46039f"
             ],
             [
              0.2222222222222222,
              "#7201a8"
             ],
             [
              0.3333333333333333,
              "#9c179e"
             ],
             [
              0.4444444444444444,
              "#bd3786"
             ],
             [
              0.5555555555555556,
              "#d8576b"
             ],
             [
              0.6666666666666666,
              "#ed7953"
             ],
             [
              0.7777777777777778,
              "#fb9f3a"
             ],
             [
              0.8888888888888888,
              "#fdca26"
             ],
             [
              1.0,
              "#f0f921"
             ]
            ]
           }
          ],
          "heatmapgl": [
           {
            "type": "heatmapgl",
            "colorbar": {
             "outlinewidth": 0,
             "ticks": ""
            },
            "colorscale": [
             [
              0.0,
              "#0d0887"
             ],
             [
              0.1111111111111111,
              "#46039f"
             ],
             [
              0.2222222222222222,
              "#7201a8"
             ],
             [
              0.3333333333333333,
              "#9c179e"
             ],
             [
              0.4444444444444444,
              "#bd3786"
             ],
             [
              0.5555555555555556,
              "#d8576b"
             ],
             [
              0.6666666666666666,
              "#ed7953"
             ],
             [
              0.7777777777777778,
              "#fb9f3a"
             ],
             [
              0.8888888888888888,
              "#fdca26"
             ],
             [
              1.0,
              "#f0f921"
             ]
            ]
           }
          ],
          "contourcarpet": [
           {
            "type": "contourcarpet",
            "colorbar": {
             "outlinewidth": 0,
             "ticks": ""
            }
           }
          ],
          "contour": [
           {
            "type": "contour",
            "colorbar": {
             "outlinewidth": 0,
             "ticks": ""
            },
            "colorscale": [
             [
              0.0,
              "#0d0887"
             ],
             [
              0.1111111111111111,
              "#46039f"
             ],
             [
              0.2222222222222222,
              "#7201a8"
             ],
             [
              0.3333333333333333,
              "#9c179e"
             ],
             [
              0.4444444444444444,
              "#bd3786"
             ],
             [
              0.5555555555555556,
              "#d8576b"
             ],
             [
              0.6666666666666666,
              "#ed7953"
             ],
             [
              0.7777777777777778,
              "#fb9f3a"
             ],
             [
              0.8888888888888888,
              "#fdca26"
             ],
             [
              1.0,
              "#f0f921"
             ]
            ]
           }
          ],
          "surface": [
           {
            "type": "surface",
            "colorbar": {
             "outlinewidth": 0,
             "ticks": ""
            },
            "colorscale": [
             [
              0.0,
              "#0d0887"
             ],
             [
              0.1111111111111111,
              "#46039f"
             ],
             [
              0.2222222222222222,
              "#7201a8"
             ],
             [
              0.3333333333333333,
              "#9c179e"
             ],
             [
              0.4444444444444444,
              "#bd3786"
             ],
             [
              0.5555555555555556,
              "#d8576b"
             ],
             [
              0.6666666666666666,
              "#ed7953"
             ],
             [
              0.7777777777777778,
              "#fb9f3a"
             ],
             [
              0.8888888888888888,
              "#fdca26"
             ],
             [
              1.0,
              "#f0f921"
             ]
            ]
           }
          ],
          "mesh3d": [
           {
            "type": "mesh3d",
            "colorbar": {
             "outlinewidth": 0,
             "ticks": ""
            }
           }
          ],
          "scatter": [
           {
            "fillpattern": {
             "fillmode": "overlay",
             "size": 10,
             "solidity": 0.2
            },
            "type": "scatter"
           }
          ],
          "parcoords": [
           {
            "type": "parcoords",
            "line": {
             "colorbar": {
              "outlinewidth": 0,
              "ticks": ""
             }
            }
           }
          ],
          "scatterpolargl": [
           {
            "type": "scatterpolargl",
            "marker": {
             "colorbar": {
              "outlinewidth": 0,
              "ticks": ""
             }
            }
           }
          ],
          "bar": [
           {
            "error_x": {
             "color": "#2a3f5f"
            },
            "error_y": {
             "color": "#2a3f5f"
            },
            "marker": {
             "line": {
              "color": "#E5ECF6",
              "width": 0.5
             },
             "pattern": {
              "fillmode": "overlay",
              "size": 10,
              "solidity": 0.2
             }
            },
            "type": "bar"
           }
          ],
          "scattergeo": [
           {
            "type": "scattergeo",
            "marker": {
             "colorbar": {
              "outlinewidth": 0,
              "ticks": ""
             }
            }
           }
          ],
          "scatterpolar": [
           {
            "type": "scatterpolar",
            "marker": {
             "colorbar": {
              "outlinewidth": 0,
              "ticks": ""
             }
            }
           }
          ],
          "histogram": [
           {
            "marker": {
             "pattern": {
              "fillmode": "overlay",
              "size": 10,
              "solidity": 0.2
             }
            },
            "type": "histogram"
           }
          ],
          "scattergl": [
           {
            "type": "scattergl",
            "marker": {
             "colorbar": {
              "outlinewidth": 0,
              "ticks": ""
             }
            }
           }
          ],
          "scatter3d": [
           {
            "type": "scatter3d",
            "line": {
             "colorbar": {
              "outlinewidth": 0,
              "ticks": ""
             }
            },
            "marker": {
             "colorbar": {
              "outlinewidth": 0,
              "ticks": ""
             }
            }
           }
          ],
          "scattermapbox": [
           {
            "type": "scattermapbox",
            "marker": {
             "colorbar": {
              "outlinewidth": 0,
              "ticks": ""
             }
            }
           }
          ],
          "scatterternary": [
           {
            "type": "scatterternary",
            "marker": {
             "colorbar": {
              "outlinewidth": 0,
              "ticks": ""
             }
            }
           }
          ],
          "scattercarpet": [
           {
            "type": "scattercarpet",
            "marker": {
             "colorbar": {
              "outlinewidth": 0,
              "ticks": ""
             }
            }
           }
          ],
          "carpet": [
           {
            "aaxis": {
             "endlinecolor": "#2a3f5f",
             "gridcolor": "white",
             "linecolor": "white",
             "minorgridcolor": "white",
             "startlinecolor": "#2a3f5f"
            },
            "baxis": {
             "endlinecolor": "#2a3f5f",
             "gridcolor": "white",
             "linecolor": "white",
             "minorgridcolor": "white",
             "startlinecolor": "#2a3f5f"
            },
            "type": "carpet"
           }
          ],
          "table": [
           {
            "cells": {
             "fill": {
              "color": "#EBF0F8"
             },
             "line": {
              "color": "white"
             }
            },
            "header": {
             "fill": {
              "color": "#C8D4E3"
             },
             "line": {
              "color": "white"
             }
            },
            "type": "table"
           }
          ],
          "barpolar": [
           {
            "marker": {
             "line": {
              "color": "#E5ECF6",
              "width": 0.5
             },
             "pattern": {
              "fillmode": "overlay",
              "size": 10,
              "solidity": 0.2
             }
            },
            "type": "barpolar"
           }
          ],
          "pie": [
           {
            "automargin": true,
            "type": "pie"
           }
          ]
         },
         "layout": {
          "autotypenumbers": "strict",
          "colorway": [
           "#636efa",
           "#EF553B",
           "#00cc96",
           "#ab63fa",
           "#FFA15A",
           "#19d3f3",
           "#FF6692",
           "#B6E880",
           "#FF97FF",
           "#FECB52"
          ],
          "font": {
           "color": "#2a3f5f"
          },
          "hovermode": "closest",
          "hoverlabel": {
           "align": "left"
          },
          "paper_bgcolor": "white",
          "plot_bgcolor": "#E5ECF6",
          "polar": {
           "bgcolor": "#E5ECF6",
           "angularaxis": {
            "gridcolor": "white",
            "linecolor": "white",
            "ticks": ""
           },
           "radialaxis": {
            "gridcolor": "white",
            "linecolor": "white",
            "ticks": ""
           }
          },
          "ternary": {
           "bgcolor": "#E5ECF6",
           "aaxis": {
            "gridcolor": "white",
            "linecolor": "white",
            "ticks": ""
           },
           "baxis": {
            "gridcolor": "white",
            "linecolor": "white",
            "ticks": ""
           },
           "caxis": {
            "gridcolor": "white",
            "linecolor": "white",
            "ticks": ""
           }
          },
          "coloraxis": {
           "colorbar": {
            "outlinewidth": 0,
            "ticks": ""
           }
          },
          "colorscale": {
           "sequential": [
            [
             0.0,
             "#0d0887"
            ],
            [
             0.1111111111111111,
             "#46039f"
            ],
            [
             0.2222222222222222,
             "#7201a8"
            ],
            [
             0.3333333333333333,
             "#9c179e"
            ],
            [
             0.4444444444444444,
             "#bd3786"
            ],
            [
             0.5555555555555556,
             "#d8576b"
            ],
            [
             0.6666666666666666,
             "#ed7953"
            ],
            [
             0.7777777777777778,
             "#fb9f3a"
            ],
            [
             0.8888888888888888,
             "#fdca26"
            ],
            [
             1.0,
             "#f0f921"
            ]
           ],
           "sequentialminus": [
            [
             0.0,
             "#0d0887"
            ],
            [
             0.1111111111111111,
             "#46039f"
            ],
            [
             0.2222222222222222,
             "#7201a8"
            ],
            [
             0.3333333333333333,
             "#9c179e"
            ],
            [
             0.4444444444444444,
             "#bd3786"
            ],
            [
             0.5555555555555556,
             "#d8576b"
            ],
            [
             0.6666666666666666,
             "#ed7953"
            ],
            [
             0.7777777777777778,
             "#fb9f3a"
            ],
            [
             0.8888888888888888,
             "#fdca26"
            ],
            [
             1.0,
             "#f0f921"
            ]
           ],
           "diverging": [
            [
             0,
             "#8e0152"
            ],
            [
             0.1,
             "#c51b7d"
            ],
            [
             0.2,
             "#de77ae"
            ],
            [
             0.3,
             "#f1b6da"
            ],
            [
             0.4,
             "#fde0ef"
            ],
            [
             0.5,
             "#f7f7f7"
            ],
            [
             0.6,
             "#e6f5d0"
            ],
            [
             0.7,
             "#b8e186"
            ],
            [
             0.8,
             "#7fbc41"
            ],
            [
             0.9,
             "#4d9221"
            ],
            [
             1,
             "#276419"
            ]
           ]
          },
          "xaxis": {
           "gridcolor": "white",
           "linecolor": "white",
           "ticks": "",
           "title": {
            "standoff": 15
           },
           "zerolinecolor": "white",
           "automargin": true,
           "zerolinewidth": 2
          },
          "yaxis": {
           "gridcolor": "white",
           "linecolor": "white",
           "ticks": "",
           "title": {
            "standoff": 15
           },
           "zerolinecolor": "white",
           "automargin": true,
           "zerolinewidth": 2
          },
          "scene": {
           "xaxis": {
            "backgroundcolor": "#E5ECF6",
            "gridcolor": "white",
            "linecolor": "white",
            "showbackground": true,
            "ticks": "",
            "zerolinecolor": "white",
            "gridwidth": 2
           },
           "yaxis": {
            "backgroundcolor": "#E5ECF6",
            "gridcolor": "white",
            "linecolor": "white",
            "showbackground": true,
            "ticks": "",
            "zerolinecolor": "white",
            "gridwidth": 2
           },
           "zaxis": {
            "backgroundcolor": "#E5ECF6",
            "gridcolor": "white",
            "linecolor": "white",
            "showbackground": true,
            "ticks": "",
            "zerolinecolor": "white",
            "gridwidth": 2
           }
          },
          "shapedefaults": {
           "line": {
            "color": "#2a3f5f"
           }
          },
          "annotationdefaults": {
           "arrowcolor": "#2a3f5f",
           "arrowhead": 0,
           "arrowwidth": 1
          },
          "geo": {
           "bgcolor": "white",
           "landcolor": "#E5ECF6",
           "subunitcolor": "white",
           "showland": true,
           "showlakes": true,
           "lakecolor": "white"
          },
          "title": {
           "x": 0.05
          },
          "mapbox": {
           "style": "light"
          }
         }
        },
        "xaxis": {
         "anchor": "y",
         "domain": [
          0.0,
          1.0
         ],
         "showticklabels": false,
         "showgrid": false
        },
        "yaxis": {
         "anchor": "x",
         "domain": [
          0.0,
          1.0
         ],
         "showticklabels": false,
         "showgrid": false
        },
        "title": {
         "text": "w ∈ L, w ≤ 6",
         "x": 0.5
        },
        "width": 1000,
        "height": 1000
       },
       "config": {
        "plotlyServerURL": "https://plot.ly"
       }
      },
      "text/html": "<div>                            <div id=\"8f91ae27-49bc-4e80-b034-b7807cfbb171\" class=\"plotly-graph-div\" style=\"height:1000px; width:1000px;\"></div>            <script type=\"text/javascript\">                require([\"plotly\"], function(Plotly) {                    window.PLOTLYENV=window.PLOTLYENV || {};                                    if (document.getElementById(\"8f91ae27-49bc-4e80-b034-b7807cfbb171\")) {                    Plotly.newPlot(                        \"8f91ae27-49bc-4e80-b034-b7807cfbb171\",                        [{\"colorbar\":{\"title\":{\"text\":\"Tamanho\"}},\"colorscale\":[[0.0,\"rgb(150,0,90)\"],[0.125,\"rgb(0,0,200)\"],[0.25,\"rgb(0,25,255)\"],[0.375,\"rgb(0,152,255)\"],[0.5,\"rgb(44,255,150)\"],[0.625,\"rgb(151,255,0)\"],[0.75,\"rgb(255,234,0)\"],[0.875,\"rgb(255,111,0)\"],[1.0,\"rgb(255,0,0)\"]],\"showscale\":true,\"text\":[[\"\",\"\",\"\",\"\",\"\",\"\",\"\",\"\"],[\"\",\"\",\"aaa\",\"caaa\",\"baaa\",\"aaac\",\"aaab\",\"aaaa\"],[\"ccaaa\",\"cbaaa\",\"bcaaa\",\"bbaaa\",\"aaacc\",\"aaacb\",\"aaaca\",\"aaabc\"],[\"aaabb\",\"aaaba\",\"aaaac\",\"aaaab\",\"aaaaa\",\"cccaaa\",\"ccbaaa\",\"cbcaaa\"],[\"cbbaaa\",\"bccaaa\",\"bcbaaa\",\"bbcaaa\",\"bbbaaa\",\"aaaccc\",\"aaaccb\",\"aaacca\"],[\"aaacbc\",\"aaacbb\",\"aaacba\",\"aaacac\",\"aaacab\",\"aaacaa\",\"aaabcc\",\"aaabcb\"],[\"aaabca\",\"aaabbc\",\"aaabbb\",\"aaabba\",\"aaabac\",\"aaabab\",\"aaabaa\",\"aaaacc\"],[\"aaaacb\",\"aaaaca\",\"aaaabc\",\"aaaabb\",\"aaaaba\",\"aaaaac\",\"aaaaab\",\"aaaaaa\"]],\"textfont\":{\"family\":\"monospace\",\"size\":25},\"texttemplate\":\"%{text}\",\"z\":[[\"0\",\"0\",\"0\",\"0\",\"0\",\"0\",\"0\",\"0\"],[\"0\",\"0\",\"3\",\"4\",\"4\",\"4\",\"4\",\"4\"],[\"5\",\"5\",\"5\",\"5\",\"5\",\"5\",\"5\",\"5\"],[\"5\",\"5\",\"5\",\"5\",\"5\",\"6\",\"6\",\"6\"],[\"6\",\"6\",\"6\",\"6\",\"6\",\"6\",\"6\",\"6\"],[\"6\",\"6\",\"6\",\"6\",\"6\",\"6\",\"6\",\"6\"],[\"6\",\"6\",\"6\",\"6\",\"6\",\"6\",\"6\",\"6\"],[\"6\",\"6\",\"6\",\"6\",\"6\",\"6\",\"6\",\"6\"]],\"type\":\"heatmap\"}],                        {\"template\":{\"data\":{\"histogram2dcontour\":[{\"type\":\"histogram2dcontour\",\"colorbar\":{\"outlinewidth\":0,\"ticks\":\"\"},\"colorscale\":[[0.0,\"#0d0887\"],[0.1111111111111111,\"#46039f\"],[0.2222222222222222,\"#7201a8\"],[0.3333333333333333,\"#9c179e\"],[0.4444444444444444,\"#bd3786\"],[0.5555555555555556,\"#d8576b\"],[0.6666666666666666,\"#ed7953\"],[0.7777777777777778,\"#fb9f3a\"],[0.8888888888888888,\"#fdca26\"],[1.0,\"#f0f921\"]]}],\"choropleth\":[{\"type\":\"choropleth\",\"colorbar\":{\"outlinewidth\":0,\"ticks\":\"\"}}],\"histogram2d\":[{\"type\":\"histogram2d\",\"colorbar\":{\"outlinewidth\":0,\"ticks\":\"\"},\"colorscale\":[[0.0,\"#0d0887\"],[0.1111111111111111,\"#46039f\"],[0.2222222222222222,\"#7201a8\"],[0.3333333333333333,\"#9c179e\"],[0.4444444444444444,\"#bd3786\"],[0.5555555555555556,\"#d8576b\"],[0.6666666666666666,\"#ed7953\"],[0.7777777777777778,\"#fb9f3a\"],[0.8888888888888888,\"#fdca26\"],[1.0,\"#f0f921\"]]}],\"heatmap\":[{\"type\":\"heatmap\",\"colorbar\":{\"outlinewidth\":0,\"ticks\":\"\"},\"colorscale\":[[0.0,\"#0d0887\"],[0.1111111111111111,\"#46039f\"],[0.2222222222222222,\"#7201a8\"],[0.3333333333333333,\"#9c179e\"],[0.4444444444444444,\"#bd3786\"],[0.5555555555555556,\"#d8576b\"],[0.6666666666666666,\"#ed7953\"],[0.7777777777777778,\"#fb9f3a\"],[0.8888888888888888,\"#fdca26\"],[1.0,\"#f0f921\"]]}],\"heatmapgl\":[{\"type\":\"heatmapgl\",\"colorbar\":{\"outlinewidth\":0,\"ticks\":\"\"},\"colorscale\":[[0.0,\"#0d0887\"],[0.1111111111111111,\"#46039f\"],[0.2222222222222222,\"#7201a8\"],[0.3333333333333333,\"#9c179e\"],[0.4444444444444444,\"#bd3786\"],[0.5555555555555556,\"#d8576b\"],[0.6666666666666666,\"#ed7953\"],[0.7777777777777778,\"#fb9f3a\"],[0.8888888888888888,\"#fdca26\"],[1.0,\"#f0f921\"]]}],\"contourcarpet\":[{\"type\":\"contourcarpet\",\"colorbar\":{\"outlinewidth\":0,\"ticks\":\"\"}}],\"contour\":[{\"type\":\"contour\",\"colorbar\":{\"outlinewidth\":0,\"ticks\":\"\"},\"colorscale\":[[0.0,\"#0d0887\"],[0.1111111111111111,\"#46039f\"],[0.2222222222222222,\"#7201a8\"],[0.3333333333333333,\"#9c179e\"],[0.4444444444444444,\"#bd3786\"],[0.5555555555555556,\"#d8576b\"],[0.6666666666666666,\"#ed7953\"],[0.7777777777777778,\"#fb9f3a\"],[0.8888888888888888,\"#fdca26\"],[1.0,\"#f0f921\"]]}],\"surface\":[{\"type\":\"surface\",\"colorbar\":{\"outlinewidth\":0,\"ticks\":\"\"},\"colorscale\":[[0.0,\"#0d0887\"],[0.1111111111111111,\"#46039f\"],[0.2222222222222222,\"#7201a8\"],[0.3333333333333333,\"#9c179e\"],[0.4444444444444444,\"#bd3786\"],[0.5555555555555556,\"#d8576b\"],[0.6666666666666666,\"#ed7953\"],[0.7777777777777778,\"#fb9f3a\"],[0.8888888888888888,\"#fdca26\"],[1.0,\"#f0f921\"]]}],\"mesh3d\":[{\"type\":\"mesh3d\",\"colorbar\":{\"outlinewidth\":0,\"ticks\":\"\"}}],\"scatter\":[{\"fillpattern\":{\"fillmode\":\"overlay\",\"size\":10,\"solidity\":0.2},\"type\":\"scatter\"}],\"parcoords\":[{\"type\":\"parcoords\",\"line\":{\"colorbar\":{\"outlinewidth\":0,\"ticks\":\"\"}}}],\"scatterpolargl\":[{\"type\":\"scatterpolargl\",\"marker\":{\"colorbar\":{\"outlinewidth\":0,\"ticks\":\"\"}}}],\"bar\":[{\"error_x\":{\"color\":\"#2a3f5f\"},\"error_y\":{\"color\":\"#2a3f5f\"},\"marker\":{\"line\":{\"color\":\"#E5ECF6\",\"width\":0.5},\"pattern\":{\"fillmode\":\"overlay\",\"size\":10,\"solidity\":0.2}},\"type\":\"bar\"}],\"scattergeo\":[{\"type\":\"scattergeo\",\"marker\":{\"colorbar\":{\"outlinewidth\":0,\"ticks\":\"\"}}}],\"scatterpolar\":[{\"type\":\"scatterpolar\",\"marker\":{\"colorbar\":{\"outlinewidth\":0,\"ticks\":\"\"}}}],\"histogram\":[{\"marker\":{\"pattern\":{\"fillmode\":\"overlay\",\"size\":10,\"solidity\":0.2}},\"type\":\"histogram\"}],\"scattergl\":[{\"type\":\"scattergl\",\"marker\":{\"colorbar\":{\"outlinewidth\":0,\"ticks\":\"\"}}}],\"scatter3d\":[{\"type\":\"scatter3d\",\"line\":{\"colorbar\":{\"outlinewidth\":0,\"ticks\":\"\"}},\"marker\":{\"colorbar\":{\"outlinewidth\":0,\"ticks\":\"\"}}}],\"scattermapbox\":[{\"type\":\"scattermapbox\",\"marker\":{\"colorbar\":{\"outlinewidth\":0,\"ticks\":\"\"}}}],\"scatterternary\":[{\"type\":\"scatterternary\",\"marker\":{\"colorbar\":{\"outlinewidth\":0,\"ticks\":\"\"}}}],\"scattercarpet\":[{\"type\":\"scattercarpet\",\"marker\":{\"colorbar\":{\"outlinewidth\":0,\"ticks\":\"\"}}}],\"carpet\":[{\"aaxis\":{\"endlinecolor\":\"#2a3f5f\",\"gridcolor\":\"white\",\"linecolor\":\"white\",\"minorgridcolor\":\"white\",\"startlinecolor\":\"#2a3f5f\"},\"baxis\":{\"endlinecolor\":\"#2a3f5f\",\"gridcolor\":\"white\",\"linecolor\":\"white\",\"minorgridcolor\":\"white\",\"startlinecolor\":\"#2a3f5f\"},\"type\":\"carpet\"}],\"table\":[{\"cells\":{\"fill\":{\"color\":\"#EBF0F8\"},\"line\":{\"color\":\"white\"}},\"header\":{\"fill\":{\"color\":\"#C8D4E3\"},\"line\":{\"color\":\"white\"}},\"type\":\"table\"}],\"barpolar\":[{\"marker\":{\"line\":{\"color\":\"#E5ECF6\",\"width\":0.5},\"pattern\":{\"fillmode\":\"overlay\",\"size\":10,\"solidity\":0.2}},\"type\":\"barpolar\"}],\"pie\":[{\"automargin\":true,\"type\":\"pie\"}]},\"layout\":{\"autotypenumbers\":\"strict\",\"colorway\":[\"#636efa\",\"#EF553B\",\"#00cc96\",\"#ab63fa\",\"#FFA15A\",\"#19d3f3\",\"#FF6692\",\"#B6E880\",\"#FF97FF\",\"#FECB52\"],\"font\":{\"color\":\"#2a3f5f\"},\"hovermode\":\"closest\",\"hoverlabel\":{\"align\":\"left\"},\"paper_bgcolor\":\"white\",\"plot_bgcolor\":\"#E5ECF6\",\"polar\":{\"bgcolor\":\"#E5ECF6\",\"angularaxis\":{\"gridcolor\":\"white\",\"linecolor\":\"white\",\"ticks\":\"\"},\"radialaxis\":{\"gridcolor\":\"white\",\"linecolor\":\"white\",\"ticks\":\"\"}},\"ternary\":{\"bgcolor\":\"#E5ECF6\",\"aaxis\":{\"gridcolor\":\"white\",\"linecolor\":\"white\",\"ticks\":\"\"},\"baxis\":{\"gridcolor\":\"white\",\"linecolor\":\"white\",\"ticks\":\"\"},\"caxis\":{\"gridcolor\":\"white\",\"linecolor\":\"white\",\"ticks\":\"\"}},\"coloraxis\":{\"colorbar\":{\"outlinewidth\":0,\"ticks\":\"\"}},\"colorscale\":{\"sequential\":[[0.0,\"#0d0887\"],[0.1111111111111111,\"#46039f\"],[0.2222222222222222,\"#7201a8\"],[0.3333333333333333,\"#9c179e\"],[0.4444444444444444,\"#bd3786\"],[0.5555555555555556,\"#d8576b\"],[0.6666666666666666,\"#ed7953\"],[0.7777777777777778,\"#fb9f3a\"],[0.8888888888888888,\"#fdca26\"],[1.0,\"#f0f921\"]],\"sequentialminus\":[[0.0,\"#0d0887\"],[0.1111111111111111,\"#46039f\"],[0.2222222222222222,\"#7201a8\"],[0.3333333333333333,\"#9c179e\"],[0.4444444444444444,\"#bd3786\"],[0.5555555555555556,\"#d8576b\"],[0.6666666666666666,\"#ed7953\"],[0.7777777777777778,\"#fb9f3a\"],[0.8888888888888888,\"#fdca26\"],[1.0,\"#f0f921\"]],\"diverging\":[[0,\"#8e0152\"],[0.1,\"#c51b7d\"],[0.2,\"#de77ae\"],[0.3,\"#f1b6da\"],[0.4,\"#fde0ef\"],[0.5,\"#f7f7f7\"],[0.6,\"#e6f5d0\"],[0.7,\"#b8e186\"],[0.8,\"#7fbc41\"],[0.9,\"#4d9221\"],[1,\"#276419\"]]},\"xaxis\":{\"gridcolor\":\"white\",\"linecolor\":\"white\",\"ticks\":\"\",\"title\":{\"standoff\":15},\"zerolinecolor\":\"white\",\"automargin\":true,\"zerolinewidth\":2},\"yaxis\":{\"gridcolor\":\"white\",\"linecolor\":\"white\",\"ticks\":\"\",\"title\":{\"standoff\":15},\"zerolinecolor\":\"white\",\"automargin\":true,\"zerolinewidth\":2},\"scene\":{\"xaxis\":{\"backgroundcolor\":\"#E5ECF6\",\"gridcolor\":\"white\",\"linecolor\":\"white\",\"showbackground\":true,\"ticks\":\"\",\"zerolinecolor\":\"white\",\"gridwidth\":2},\"yaxis\":{\"backgroundcolor\":\"#E5ECF6\",\"gridcolor\":\"white\",\"linecolor\":\"white\",\"showbackground\":true,\"ticks\":\"\",\"zerolinecolor\":\"white\",\"gridwidth\":2},\"zaxis\":{\"backgroundcolor\":\"#E5ECF6\",\"gridcolor\":\"white\",\"linecolor\":\"white\",\"showbackground\":true,\"ticks\":\"\",\"zerolinecolor\":\"white\",\"gridwidth\":2}},\"shapedefaults\":{\"line\":{\"color\":\"#2a3f5f\"}},\"annotationdefaults\":{\"arrowcolor\":\"#2a3f5f\",\"arrowhead\":0,\"arrowwidth\":1},\"geo\":{\"bgcolor\":\"white\",\"landcolor\":\"#E5ECF6\",\"subunitcolor\":\"white\",\"showland\":true,\"showlakes\":true,\"lakecolor\":\"white\"},\"title\":{\"x\":0.05},\"mapbox\":{\"style\":\"light\"}}},\"xaxis\":{\"anchor\":\"y\",\"domain\":[0.0,1.0],\"showticklabels\":false,\"showgrid\":false},\"yaxis\":{\"anchor\":\"x\",\"domain\":[0.0,1.0],\"showticklabels\":false,\"showgrid\":false},\"title\":{\"text\":\"w \\u2208 L, w \\u2264 6\",\"x\":0.5},\"width\":1000,\"height\":1000},                        {\"responsive\": true}                    ).then(function(){\n                            \nvar gd = document.getElementById('8f91ae27-49bc-4e80-b034-b7807cfbb171');\nvar x = new MutationObserver(function (mutations, observer) {{\n        var display = window.getComputedStyle(gd).display;\n        if (!display || display === 'none') {{\n            console.log([gd, 'removed!']);\n            Plotly.purge(gd);\n            observer.disconnect();\n        }}\n}});\n\n// Listen for the removal of the full notebook cells\nvar notebookContainer = gd.closest('#notebook-container');\nif (notebookContainer) {{\n    x.observe(notebookContainer, {childList: true});\n}}\n\n// Listen for the clearing of the current output cell\nvar outputEl = gd.closest('.output');\nif (outputEl) {{\n    x.observe(outputEl, {childList: true});\n}}\n\n                        })                };                });            </script>        </div>"
     },
     "metadata": {},
     "output_type": "display_data"
    }
   ],
   "source": [
    "strings = generate_strings(alphabet={'a', 'b', 'c'}, size=6)\n",
    "matches = apply_mask(pattern=r\"^aaa(b|c)*|(b|c)*aaa$\", strings=strings)\n",
    "\n",
    "string_heatmap(\n",
    "    strings=[key for key, value in matches.items() if value],\n",
    "    title=\"w ∈ L, w ≤ 6\",\n",
    "    figsize=(1000, 1000), fontsize=25, filename=\"results/1b.svg\"\n",
    ")"
   ],
   "metadata": {
    "collapsed": false
   }
  },
  {
   "cell_type": "markdown",
   "source": [
    "## 1c. $a^*b \\mid ab^*$"
   ],
   "metadata": {
    "collapsed": false
   }
  },
  {
   "cell_type": "code",
   "execution_count": 13,
   "outputs": [],
   "source": [
    "m_1c = Automata(label=\"M\", alphabet=['a', 'b'])\n",
    "\n",
    "m_1c.create_state(label=\"q0\", is_initial=True, is_final=False)\n",
    "m_1c.create_state(label=\"q1\", is_initial=False, is_final=True)\n",
    "m_1c.create_state(label=\"q2\", is_initial=False, is_final=True)\n",
    "m_1c.create_state(label=\"q3\", is_initial=False, is_final=False)\n",
    "\n",
    "m_1c.create_transaction(departure_label=\"q0\", arrival_label=\"q2\", symbol_label=\"a\")\n",
    "m_1c.create_transaction(departure_label=\"q0\", arrival_label=\"q1\", symbol_label=\"b\")\n",
    "\n",
    "m_1c.create_transaction(departure_label=\"q1\", arrival_label=\"q1\", symbol_label=\"b\")\n",
    "\n",
    "m_1c.create_transaction(departure_label=\"q2\", arrival_label=\"q3\", symbol_label=\"a\")\n",
    "m_1c.create_transaction(departure_label=\"q2\", arrival_label=\"q1\", symbol_label=\"b\")\n",
    "\n",
    "m_1c.create_transaction(departure_label=\"q3\", arrival_label=\"q3\", symbol_label=\"a\")\n",
    "m_1c.create_transaction(departure_label=\"q3\", arrival_label=\"q1\", symbol_label=\"b\")"
   ],
   "metadata": {
    "collapsed": false
   }
  },
  {
   "cell_type": "code",
   "execution_count": 14,
   "outputs": [
    {
     "name": "stdout",
     "output_type": "stream",
     "text": [
      "M = (\n",
      "\t{q0, q1, q2, q3},\n",
      "\t{a, b},\n",
      "\t{(q0,a)->q2, (q0,b)->q1, (q1,b)->q1, (q2,a)->q3, (q2,b)->q1, (q3,a)->q3, (q3,b)->q1},\n",
      "\tq0,\n",
      "\t{q1, q2}\n",
      ")\n"
     ]
    }
   ],
   "source": [
    "print(m_1c)"
   ],
   "metadata": {
    "collapsed": false
   }
  },
  {
   "cell_type": "code",
   "execution_count": 15,
   "outputs": [
    {
     "data": {
      "text/plain": "   sid  initial  final state     a     b\n0    0     True  False    q0  [q2]  [q1]\n1    1    False   True    q1    []  [q1]\n2    2    False   True    q2  [q3]  [q1]\n3    3    False  False    q3  [q3]  [q1]",
      "text/html": "<div>\n<style scoped>\n    .dataframe tbody tr th:only-of-type {\n        vertical-align: middle;\n    }\n\n    .dataframe tbody tr th {\n        vertical-align: top;\n    }\n\n    .dataframe thead th {\n        text-align: right;\n    }\n</style>\n<table border=\"1\" class=\"dataframe\">\n  <thead>\n    <tr style=\"text-align: right;\">\n      <th></th>\n      <th>sid</th>\n      <th>initial</th>\n      <th>final</th>\n      <th>state</th>\n      <th>a</th>\n      <th>b</th>\n    </tr>\n  </thead>\n  <tbody>\n    <tr>\n      <th>0</th>\n      <td>0</td>\n      <td>True</td>\n      <td>False</td>\n      <td>q0</td>\n      <td>[q2]</td>\n      <td>[q1]</td>\n    </tr>\n    <tr>\n      <th>1</th>\n      <td>1</td>\n      <td>False</td>\n      <td>True</td>\n      <td>q1</td>\n      <td>[]</td>\n      <td>[q1]</td>\n    </tr>\n    <tr>\n      <th>2</th>\n      <td>2</td>\n      <td>False</td>\n      <td>True</td>\n      <td>q2</td>\n      <td>[q3]</td>\n      <td>[q1]</td>\n    </tr>\n    <tr>\n      <th>3</th>\n      <td>3</td>\n      <td>False</td>\n      <td>False</td>\n      <td>q3</td>\n      <td>[q3]</td>\n      <td>[q1]</td>\n    </tr>\n  </tbody>\n</table>\n</div>"
     },
     "execution_count": 15,
     "metadata": {},
     "output_type": "execute_result"
    }
   ],
   "source": [
    "m_1c.tabular_notation"
   ],
   "metadata": {
    "collapsed": false
   }
  },
  {
   "cell_type": "code",
   "execution_count": 16,
   "outputs": [
    {
     "name": "stdout",
     "output_type": "stream",
     "text": [
      "b: True\n",
      "ab: True\n",
      "aab: True\n",
      "aaab: True\n",
      "aaaab: True\n",
      "aaaaab: True\n",
      "aaaaaab: True\n",
      "aaaaaaab: True\n",
      "aaaaaaaab: True\n",
      "a: True\n",
      "ab: True\n",
      "abb: True\n",
      "abbb: True\n",
      "abbbb: True\n",
      "abbbbb: True\n",
      "abbbbbb: True\n",
      "abbbbbbb: True\n",
      "abbbbbbbb: True\n"
     ]
    }
   ],
   "source": [
    "accepted_1c = [\n",
    "    \"b\", \"ab\", \"aab\", \"aaab\", \"aaaab\", \"aaaaab\", \"aaaaaab\", \"aaaaaaab\", \"aaaaaaaab\",\n",
    "    \"a\", \"ab\", \"abb\", \"abbb\", \"abbbb\", \"abbbbb\", \"abbbbbb\", \"abbbbbbb\", \"abbbbbbbb\",\n",
    "]\n",
    "\n",
    "for string in accepted_1c:\n",
    "    print(f\"{string}: {m_1c.recognize(string=string)}\")"
   ],
   "metadata": {
    "collapsed": false
   }
  },
  {
   "cell_type": "code",
   "execution_count": 17,
   "outputs": [
    {
     "data": {
      "application/vnd.plotly.v1+json": {
       "data": [
        {
         "colorbar": {
          "title": {
           "text": "Tamanho"
          }
         },
         "colorscale": [
          [
           0.0,
           "rgb(150,0,90)"
          ],
          [
           0.125,
           "rgb(0,0,200)"
          ],
          [
           0.25,
           "rgb(0,25,255)"
          ],
          [
           0.375,
           "rgb(0,152,255)"
          ],
          [
           0.5,
           "rgb(44,255,150)"
          ],
          [
           0.625,
           "rgb(151,255,0)"
          ],
          [
           0.75,
           "rgb(255,234,0)"
          ],
          [
           0.875,
           "rgb(255,111,0)"
          ],
          [
           1.0,
           "rgb(255,0,0)"
          ]
         ],
         "showscale": true,
         "text": [
          [
           "",
           "",
           "",
           ""
          ],
          [
           "",
           "b",
           "a",
           "ab"
          ],
          [
           "abb",
           "aab",
           "abbb",
           "aaab"
          ],
          [
           "abbbb",
           "aaaab",
           "abbbbb",
           "aaaaab"
          ]
         ],
         "textfont": {
          "family": "monospace",
          "size": 25
         },
         "texttemplate": "%{text}",
         "z": [
          [
           "0",
           "0",
           "0",
           "0"
          ],
          [
           "0",
           "1",
           "1",
           "2"
          ],
          [
           "3",
           "3",
           "4",
           "4"
          ],
          [
           "5",
           "5",
           "6",
           "6"
          ]
         ],
         "type": "heatmap"
        }
       ],
       "layout": {
        "template": {
         "data": {
          "histogram2dcontour": [
           {
            "type": "histogram2dcontour",
            "colorbar": {
             "outlinewidth": 0,
             "ticks": ""
            },
            "colorscale": [
             [
              0.0,
              "#0d0887"
             ],
             [
              0.1111111111111111,
              "#46039f"
             ],
             [
              0.2222222222222222,
              "#7201a8"
             ],
             [
              0.3333333333333333,
              "#9c179e"
             ],
             [
              0.4444444444444444,
              "#bd3786"
             ],
             [
              0.5555555555555556,
              "#d8576b"
             ],
             [
              0.6666666666666666,
              "#ed7953"
             ],
             [
              0.7777777777777778,
              "#fb9f3a"
             ],
             [
              0.8888888888888888,
              "#fdca26"
             ],
             [
              1.0,
              "#f0f921"
             ]
            ]
           }
          ],
          "choropleth": [
           {
            "type": "choropleth",
            "colorbar": {
             "outlinewidth": 0,
             "ticks": ""
            }
           }
          ],
          "histogram2d": [
           {
            "type": "histogram2d",
            "colorbar": {
             "outlinewidth": 0,
             "ticks": ""
            },
            "colorscale": [
             [
              0.0,
              "#0d0887"
             ],
             [
              0.1111111111111111,
              "#46039f"
             ],
             [
              0.2222222222222222,
              "#7201a8"
             ],
             [
              0.3333333333333333,
              "#9c179e"
             ],
             [
              0.4444444444444444,
              "#bd3786"
             ],
             [
              0.5555555555555556,
              "#d8576b"
             ],
             [
              0.6666666666666666,
              "#ed7953"
             ],
             [
              0.7777777777777778,
              "#fb9f3a"
             ],
             [
              0.8888888888888888,
              "#fdca26"
             ],
             [
              1.0,
              "#f0f921"
             ]
            ]
           }
          ],
          "heatmap": [
           {
            "type": "heatmap",
            "colorbar": {
             "outlinewidth": 0,
             "ticks": ""
            },
            "colorscale": [
             [
              0.0,
              "#0d0887"
             ],
             [
              0.1111111111111111,
              "#46039f"
             ],
             [
              0.2222222222222222,
              "#7201a8"
             ],
             [
              0.3333333333333333,
              "#9c179e"
             ],
             [
              0.4444444444444444,
              "#bd3786"
             ],
             [
              0.5555555555555556,
              "#d8576b"
             ],
             [
              0.6666666666666666,
              "#ed7953"
             ],
             [
              0.7777777777777778,
              "#fb9f3a"
             ],
             [
              0.8888888888888888,
              "#fdca26"
             ],
             [
              1.0,
              "#f0f921"
             ]
            ]
           }
          ],
          "heatmapgl": [
           {
            "type": "heatmapgl",
            "colorbar": {
             "outlinewidth": 0,
             "ticks": ""
            },
            "colorscale": [
             [
              0.0,
              "#0d0887"
             ],
             [
              0.1111111111111111,
              "#46039f"
             ],
             [
              0.2222222222222222,
              "#7201a8"
             ],
             [
              0.3333333333333333,
              "#9c179e"
             ],
             [
              0.4444444444444444,
              "#bd3786"
             ],
             [
              0.5555555555555556,
              "#d8576b"
             ],
             [
              0.6666666666666666,
              "#ed7953"
             ],
             [
              0.7777777777777778,
              "#fb9f3a"
             ],
             [
              0.8888888888888888,
              "#fdca26"
             ],
             [
              1.0,
              "#f0f921"
             ]
            ]
           }
          ],
          "contourcarpet": [
           {
            "type": "contourcarpet",
            "colorbar": {
             "outlinewidth": 0,
             "ticks": ""
            }
           }
          ],
          "contour": [
           {
            "type": "contour",
            "colorbar": {
             "outlinewidth": 0,
             "ticks": ""
            },
            "colorscale": [
             [
              0.0,
              "#0d0887"
             ],
             [
              0.1111111111111111,
              "#46039f"
             ],
             [
              0.2222222222222222,
              "#7201a8"
             ],
             [
              0.3333333333333333,
              "#9c179e"
             ],
             [
              0.4444444444444444,
              "#bd3786"
             ],
             [
              0.5555555555555556,
              "#d8576b"
             ],
             [
              0.6666666666666666,
              "#ed7953"
             ],
             [
              0.7777777777777778,
              "#fb9f3a"
             ],
             [
              0.8888888888888888,
              "#fdca26"
             ],
             [
              1.0,
              "#f0f921"
             ]
            ]
           }
          ],
          "surface": [
           {
            "type": "surface",
            "colorbar": {
             "outlinewidth": 0,
             "ticks": ""
            },
            "colorscale": [
             [
              0.0,
              "#0d0887"
             ],
             [
              0.1111111111111111,
              "#46039f"
             ],
             [
              0.2222222222222222,
              "#7201a8"
             ],
             [
              0.3333333333333333,
              "#9c179e"
             ],
             [
              0.4444444444444444,
              "#bd3786"
             ],
             [
              0.5555555555555556,
              "#d8576b"
             ],
             [
              0.6666666666666666,
              "#ed7953"
             ],
             [
              0.7777777777777778,
              "#fb9f3a"
             ],
             [
              0.8888888888888888,
              "#fdca26"
             ],
             [
              1.0,
              "#f0f921"
             ]
            ]
           }
          ],
          "mesh3d": [
           {
            "type": "mesh3d",
            "colorbar": {
             "outlinewidth": 0,
             "ticks": ""
            }
           }
          ],
          "scatter": [
           {
            "fillpattern": {
             "fillmode": "overlay",
             "size": 10,
             "solidity": 0.2
            },
            "type": "scatter"
           }
          ],
          "parcoords": [
           {
            "type": "parcoords",
            "line": {
             "colorbar": {
              "outlinewidth": 0,
              "ticks": ""
             }
            }
           }
          ],
          "scatterpolargl": [
           {
            "type": "scatterpolargl",
            "marker": {
             "colorbar": {
              "outlinewidth": 0,
              "ticks": ""
             }
            }
           }
          ],
          "bar": [
           {
            "error_x": {
             "color": "#2a3f5f"
            },
            "error_y": {
             "color": "#2a3f5f"
            },
            "marker": {
             "line": {
              "color": "#E5ECF6",
              "width": 0.5
             },
             "pattern": {
              "fillmode": "overlay",
              "size": 10,
              "solidity": 0.2
             }
            },
            "type": "bar"
           }
          ],
          "scattergeo": [
           {
            "type": "scattergeo",
            "marker": {
             "colorbar": {
              "outlinewidth": 0,
              "ticks": ""
             }
            }
           }
          ],
          "scatterpolar": [
           {
            "type": "scatterpolar",
            "marker": {
             "colorbar": {
              "outlinewidth": 0,
              "ticks": ""
             }
            }
           }
          ],
          "histogram": [
           {
            "marker": {
             "pattern": {
              "fillmode": "overlay",
              "size": 10,
              "solidity": 0.2
             }
            },
            "type": "histogram"
           }
          ],
          "scattergl": [
           {
            "type": "scattergl",
            "marker": {
             "colorbar": {
              "outlinewidth": 0,
              "ticks": ""
             }
            }
           }
          ],
          "scatter3d": [
           {
            "type": "scatter3d",
            "line": {
             "colorbar": {
              "outlinewidth": 0,
              "ticks": ""
             }
            },
            "marker": {
             "colorbar": {
              "outlinewidth": 0,
              "ticks": ""
             }
            }
           }
          ],
          "scattermapbox": [
           {
            "type": "scattermapbox",
            "marker": {
             "colorbar": {
              "outlinewidth": 0,
              "ticks": ""
             }
            }
           }
          ],
          "scatterternary": [
           {
            "type": "scatterternary",
            "marker": {
             "colorbar": {
              "outlinewidth": 0,
              "ticks": ""
             }
            }
           }
          ],
          "scattercarpet": [
           {
            "type": "scattercarpet",
            "marker": {
             "colorbar": {
              "outlinewidth": 0,
              "ticks": ""
             }
            }
           }
          ],
          "carpet": [
           {
            "aaxis": {
             "endlinecolor": "#2a3f5f",
             "gridcolor": "white",
             "linecolor": "white",
             "minorgridcolor": "white",
             "startlinecolor": "#2a3f5f"
            },
            "baxis": {
             "endlinecolor": "#2a3f5f",
             "gridcolor": "white",
             "linecolor": "white",
             "minorgridcolor": "white",
             "startlinecolor": "#2a3f5f"
            },
            "type": "carpet"
           }
          ],
          "table": [
           {
            "cells": {
             "fill": {
              "color": "#EBF0F8"
             },
             "line": {
              "color": "white"
             }
            },
            "header": {
             "fill": {
              "color": "#C8D4E3"
             },
             "line": {
              "color": "white"
             }
            },
            "type": "table"
           }
          ],
          "barpolar": [
           {
            "marker": {
             "line": {
              "color": "#E5ECF6",
              "width": 0.5
             },
             "pattern": {
              "fillmode": "overlay",
              "size": 10,
              "solidity": 0.2
             }
            },
            "type": "barpolar"
           }
          ],
          "pie": [
           {
            "automargin": true,
            "type": "pie"
           }
          ]
         },
         "layout": {
          "autotypenumbers": "strict",
          "colorway": [
           "#636efa",
           "#EF553B",
           "#00cc96",
           "#ab63fa",
           "#FFA15A",
           "#19d3f3",
           "#FF6692",
           "#B6E880",
           "#FF97FF",
           "#FECB52"
          ],
          "font": {
           "color": "#2a3f5f"
          },
          "hovermode": "closest",
          "hoverlabel": {
           "align": "left"
          },
          "paper_bgcolor": "white",
          "plot_bgcolor": "#E5ECF6",
          "polar": {
           "bgcolor": "#E5ECF6",
           "angularaxis": {
            "gridcolor": "white",
            "linecolor": "white",
            "ticks": ""
           },
           "radialaxis": {
            "gridcolor": "white",
            "linecolor": "white",
            "ticks": ""
           }
          },
          "ternary": {
           "bgcolor": "#E5ECF6",
           "aaxis": {
            "gridcolor": "white",
            "linecolor": "white",
            "ticks": ""
           },
           "baxis": {
            "gridcolor": "white",
            "linecolor": "white",
            "ticks": ""
           },
           "caxis": {
            "gridcolor": "white",
            "linecolor": "white",
            "ticks": ""
           }
          },
          "coloraxis": {
           "colorbar": {
            "outlinewidth": 0,
            "ticks": ""
           }
          },
          "colorscale": {
           "sequential": [
            [
             0.0,
             "#0d0887"
            ],
            [
             0.1111111111111111,
             "#46039f"
            ],
            [
             0.2222222222222222,
             "#7201a8"
            ],
            [
             0.3333333333333333,
             "#9c179e"
            ],
            [
             0.4444444444444444,
             "#bd3786"
            ],
            [
             0.5555555555555556,
             "#d8576b"
            ],
            [
             0.6666666666666666,
             "#ed7953"
            ],
            [
             0.7777777777777778,
             "#fb9f3a"
            ],
            [
             0.8888888888888888,
             "#fdca26"
            ],
            [
             1.0,
             "#f0f921"
            ]
           ],
           "sequentialminus": [
            [
             0.0,
             "#0d0887"
            ],
            [
             0.1111111111111111,
             "#46039f"
            ],
            [
             0.2222222222222222,
             "#7201a8"
            ],
            [
             0.3333333333333333,
             "#9c179e"
            ],
            [
             0.4444444444444444,
             "#bd3786"
            ],
            [
             0.5555555555555556,
             "#d8576b"
            ],
            [
             0.6666666666666666,
             "#ed7953"
            ],
            [
             0.7777777777777778,
             "#fb9f3a"
            ],
            [
             0.8888888888888888,
             "#fdca26"
            ],
            [
             1.0,
             "#f0f921"
            ]
           ],
           "diverging": [
            [
             0,
             "#8e0152"
            ],
            [
             0.1,
             "#c51b7d"
            ],
            [
             0.2,
             "#de77ae"
            ],
            [
             0.3,
             "#f1b6da"
            ],
            [
             0.4,
             "#fde0ef"
            ],
            [
             0.5,
             "#f7f7f7"
            ],
            [
             0.6,
             "#e6f5d0"
            ],
            [
             0.7,
             "#b8e186"
            ],
            [
             0.8,
             "#7fbc41"
            ],
            [
             0.9,
             "#4d9221"
            ],
            [
             1,
             "#276419"
            ]
           ]
          },
          "xaxis": {
           "gridcolor": "white",
           "linecolor": "white",
           "ticks": "",
           "title": {
            "standoff": 15
           },
           "zerolinecolor": "white",
           "automargin": true,
           "zerolinewidth": 2
          },
          "yaxis": {
           "gridcolor": "white",
           "linecolor": "white",
           "ticks": "",
           "title": {
            "standoff": 15
           },
           "zerolinecolor": "white",
           "automargin": true,
           "zerolinewidth": 2
          },
          "scene": {
           "xaxis": {
            "backgroundcolor": "#E5ECF6",
            "gridcolor": "white",
            "linecolor": "white",
            "showbackground": true,
            "ticks": "",
            "zerolinecolor": "white",
            "gridwidth": 2
           },
           "yaxis": {
            "backgroundcolor": "#E5ECF6",
            "gridcolor": "white",
            "linecolor": "white",
            "showbackground": true,
            "ticks": "",
            "zerolinecolor": "white",
            "gridwidth": 2
           },
           "zaxis": {
            "backgroundcolor": "#E5ECF6",
            "gridcolor": "white",
            "linecolor": "white",
            "showbackground": true,
            "ticks": "",
            "zerolinecolor": "white",
            "gridwidth": 2
           }
          },
          "shapedefaults": {
           "line": {
            "color": "#2a3f5f"
           }
          },
          "annotationdefaults": {
           "arrowcolor": "#2a3f5f",
           "arrowhead": 0,
           "arrowwidth": 1
          },
          "geo": {
           "bgcolor": "white",
           "landcolor": "#E5ECF6",
           "subunitcolor": "white",
           "showland": true,
           "showlakes": true,
           "lakecolor": "white"
          },
          "title": {
           "x": 0.05
          },
          "mapbox": {
           "style": "light"
          }
         }
        },
        "xaxis": {
         "anchor": "y",
         "domain": [
          0.0,
          1.0
         ],
         "showticklabels": false,
         "showgrid": false
        },
        "yaxis": {
         "anchor": "x",
         "domain": [
          0.0,
          1.0
         ],
         "showticklabels": false,
         "showgrid": false
        },
        "title": {
         "text": "w ∈ L, w ≤ 6",
         "x": 0.5
        },
        "width": 1000,
        "height": 1000
       },
       "config": {
        "plotlyServerURL": "https://plot.ly"
       }
      },
      "text/html": "<div>                            <div id=\"f70df48d-d471-4dc5-859e-8cfeb75517dc\" class=\"plotly-graph-div\" style=\"height:1000px; width:1000px;\"></div>            <script type=\"text/javascript\">                require([\"plotly\"], function(Plotly) {                    window.PLOTLYENV=window.PLOTLYENV || {};                                    if (document.getElementById(\"f70df48d-d471-4dc5-859e-8cfeb75517dc\")) {                    Plotly.newPlot(                        \"f70df48d-d471-4dc5-859e-8cfeb75517dc\",                        [{\"colorbar\":{\"title\":{\"text\":\"Tamanho\"}},\"colorscale\":[[0.0,\"rgb(150,0,90)\"],[0.125,\"rgb(0,0,200)\"],[0.25,\"rgb(0,25,255)\"],[0.375,\"rgb(0,152,255)\"],[0.5,\"rgb(44,255,150)\"],[0.625,\"rgb(151,255,0)\"],[0.75,\"rgb(255,234,0)\"],[0.875,\"rgb(255,111,0)\"],[1.0,\"rgb(255,0,0)\"]],\"showscale\":true,\"text\":[[\"\",\"\",\"\",\"\"],[\"\",\"b\",\"a\",\"ab\"],[\"abb\",\"aab\",\"abbb\",\"aaab\"],[\"abbbb\",\"aaaab\",\"abbbbb\",\"aaaaab\"]],\"textfont\":{\"family\":\"monospace\",\"size\":25},\"texttemplate\":\"%{text}\",\"z\":[[\"0\",\"0\",\"0\",\"0\"],[\"0\",\"1\",\"1\",\"2\"],[\"3\",\"3\",\"4\",\"4\"],[\"5\",\"5\",\"6\",\"6\"]],\"type\":\"heatmap\"}],                        {\"template\":{\"data\":{\"histogram2dcontour\":[{\"type\":\"histogram2dcontour\",\"colorbar\":{\"outlinewidth\":0,\"ticks\":\"\"},\"colorscale\":[[0.0,\"#0d0887\"],[0.1111111111111111,\"#46039f\"],[0.2222222222222222,\"#7201a8\"],[0.3333333333333333,\"#9c179e\"],[0.4444444444444444,\"#bd3786\"],[0.5555555555555556,\"#d8576b\"],[0.6666666666666666,\"#ed7953\"],[0.7777777777777778,\"#fb9f3a\"],[0.8888888888888888,\"#fdca26\"],[1.0,\"#f0f921\"]]}],\"choropleth\":[{\"type\":\"choropleth\",\"colorbar\":{\"outlinewidth\":0,\"ticks\":\"\"}}],\"histogram2d\":[{\"type\":\"histogram2d\",\"colorbar\":{\"outlinewidth\":0,\"ticks\":\"\"},\"colorscale\":[[0.0,\"#0d0887\"],[0.1111111111111111,\"#46039f\"],[0.2222222222222222,\"#7201a8\"],[0.3333333333333333,\"#9c179e\"],[0.4444444444444444,\"#bd3786\"],[0.5555555555555556,\"#d8576b\"],[0.6666666666666666,\"#ed7953\"],[0.7777777777777778,\"#fb9f3a\"],[0.8888888888888888,\"#fdca26\"],[1.0,\"#f0f921\"]]}],\"heatmap\":[{\"type\":\"heatmap\",\"colorbar\":{\"outlinewidth\":0,\"ticks\":\"\"},\"colorscale\":[[0.0,\"#0d0887\"],[0.1111111111111111,\"#46039f\"],[0.2222222222222222,\"#7201a8\"],[0.3333333333333333,\"#9c179e\"],[0.4444444444444444,\"#bd3786\"],[0.5555555555555556,\"#d8576b\"],[0.6666666666666666,\"#ed7953\"],[0.7777777777777778,\"#fb9f3a\"],[0.8888888888888888,\"#fdca26\"],[1.0,\"#f0f921\"]]}],\"heatmapgl\":[{\"type\":\"heatmapgl\",\"colorbar\":{\"outlinewidth\":0,\"ticks\":\"\"},\"colorscale\":[[0.0,\"#0d0887\"],[0.1111111111111111,\"#46039f\"],[0.2222222222222222,\"#7201a8\"],[0.3333333333333333,\"#9c179e\"],[0.4444444444444444,\"#bd3786\"],[0.5555555555555556,\"#d8576b\"],[0.6666666666666666,\"#ed7953\"],[0.7777777777777778,\"#fb9f3a\"],[0.8888888888888888,\"#fdca26\"],[1.0,\"#f0f921\"]]}],\"contourcarpet\":[{\"type\":\"contourcarpet\",\"colorbar\":{\"outlinewidth\":0,\"ticks\":\"\"}}],\"contour\":[{\"type\":\"contour\",\"colorbar\":{\"outlinewidth\":0,\"ticks\":\"\"},\"colorscale\":[[0.0,\"#0d0887\"],[0.1111111111111111,\"#46039f\"],[0.2222222222222222,\"#7201a8\"],[0.3333333333333333,\"#9c179e\"],[0.4444444444444444,\"#bd3786\"],[0.5555555555555556,\"#d8576b\"],[0.6666666666666666,\"#ed7953\"],[0.7777777777777778,\"#fb9f3a\"],[0.8888888888888888,\"#fdca26\"],[1.0,\"#f0f921\"]]}],\"surface\":[{\"type\":\"surface\",\"colorbar\":{\"outlinewidth\":0,\"ticks\":\"\"},\"colorscale\":[[0.0,\"#0d0887\"],[0.1111111111111111,\"#46039f\"],[0.2222222222222222,\"#7201a8\"],[0.3333333333333333,\"#9c179e\"],[0.4444444444444444,\"#bd3786\"],[0.5555555555555556,\"#d8576b\"],[0.6666666666666666,\"#ed7953\"],[0.7777777777777778,\"#fb9f3a\"],[0.8888888888888888,\"#fdca26\"],[1.0,\"#f0f921\"]]}],\"mesh3d\":[{\"type\":\"mesh3d\",\"colorbar\":{\"outlinewidth\":0,\"ticks\":\"\"}}],\"scatter\":[{\"fillpattern\":{\"fillmode\":\"overlay\",\"size\":10,\"solidity\":0.2},\"type\":\"scatter\"}],\"parcoords\":[{\"type\":\"parcoords\",\"line\":{\"colorbar\":{\"outlinewidth\":0,\"ticks\":\"\"}}}],\"scatterpolargl\":[{\"type\":\"scatterpolargl\",\"marker\":{\"colorbar\":{\"outlinewidth\":0,\"ticks\":\"\"}}}],\"bar\":[{\"error_x\":{\"color\":\"#2a3f5f\"},\"error_y\":{\"color\":\"#2a3f5f\"},\"marker\":{\"line\":{\"color\":\"#E5ECF6\",\"width\":0.5},\"pattern\":{\"fillmode\":\"overlay\",\"size\":10,\"solidity\":0.2}},\"type\":\"bar\"}],\"scattergeo\":[{\"type\":\"scattergeo\",\"marker\":{\"colorbar\":{\"outlinewidth\":0,\"ticks\":\"\"}}}],\"scatterpolar\":[{\"type\":\"scatterpolar\",\"marker\":{\"colorbar\":{\"outlinewidth\":0,\"ticks\":\"\"}}}],\"histogram\":[{\"marker\":{\"pattern\":{\"fillmode\":\"overlay\",\"size\":10,\"solidity\":0.2}},\"type\":\"histogram\"}],\"scattergl\":[{\"type\":\"scattergl\",\"marker\":{\"colorbar\":{\"outlinewidth\":0,\"ticks\":\"\"}}}],\"scatter3d\":[{\"type\":\"scatter3d\",\"line\":{\"colorbar\":{\"outlinewidth\":0,\"ticks\":\"\"}},\"marker\":{\"colorbar\":{\"outlinewidth\":0,\"ticks\":\"\"}}}],\"scattermapbox\":[{\"type\":\"scattermapbox\",\"marker\":{\"colorbar\":{\"outlinewidth\":0,\"ticks\":\"\"}}}],\"scatterternary\":[{\"type\":\"scatterternary\",\"marker\":{\"colorbar\":{\"outlinewidth\":0,\"ticks\":\"\"}}}],\"scattercarpet\":[{\"type\":\"scattercarpet\",\"marker\":{\"colorbar\":{\"outlinewidth\":0,\"ticks\":\"\"}}}],\"carpet\":[{\"aaxis\":{\"endlinecolor\":\"#2a3f5f\",\"gridcolor\":\"white\",\"linecolor\":\"white\",\"minorgridcolor\":\"white\",\"startlinecolor\":\"#2a3f5f\"},\"baxis\":{\"endlinecolor\":\"#2a3f5f\",\"gridcolor\":\"white\",\"linecolor\":\"white\",\"minorgridcolor\":\"white\",\"startlinecolor\":\"#2a3f5f\"},\"type\":\"carpet\"}],\"table\":[{\"cells\":{\"fill\":{\"color\":\"#EBF0F8\"},\"line\":{\"color\":\"white\"}},\"header\":{\"fill\":{\"color\":\"#C8D4E3\"},\"line\":{\"color\":\"white\"}},\"type\":\"table\"}],\"barpolar\":[{\"marker\":{\"line\":{\"color\":\"#E5ECF6\",\"width\":0.5},\"pattern\":{\"fillmode\":\"overlay\",\"size\":10,\"solidity\":0.2}},\"type\":\"barpolar\"}],\"pie\":[{\"automargin\":true,\"type\":\"pie\"}]},\"layout\":{\"autotypenumbers\":\"strict\",\"colorway\":[\"#636efa\",\"#EF553B\",\"#00cc96\",\"#ab63fa\",\"#FFA15A\",\"#19d3f3\",\"#FF6692\",\"#B6E880\",\"#FF97FF\",\"#FECB52\"],\"font\":{\"color\":\"#2a3f5f\"},\"hovermode\":\"closest\",\"hoverlabel\":{\"align\":\"left\"},\"paper_bgcolor\":\"white\",\"plot_bgcolor\":\"#E5ECF6\",\"polar\":{\"bgcolor\":\"#E5ECF6\",\"angularaxis\":{\"gridcolor\":\"white\",\"linecolor\":\"white\",\"ticks\":\"\"},\"radialaxis\":{\"gridcolor\":\"white\",\"linecolor\":\"white\",\"ticks\":\"\"}},\"ternary\":{\"bgcolor\":\"#E5ECF6\",\"aaxis\":{\"gridcolor\":\"white\",\"linecolor\":\"white\",\"ticks\":\"\"},\"baxis\":{\"gridcolor\":\"white\",\"linecolor\":\"white\",\"ticks\":\"\"},\"caxis\":{\"gridcolor\":\"white\",\"linecolor\":\"white\",\"ticks\":\"\"}},\"coloraxis\":{\"colorbar\":{\"outlinewidth\":0,\"ticks\":\"\"}},\"colorscale\":{\"sequential\":[[0.0,\"#0d0887\"],[0.1111111111111111,\"#46039f\"],[0.2222222222222222,\"#7201a8\"],[0.3333333333333333,\"#9c179e\"],[0.4444444444444444,\"#bd3786\"],[0.5555555555555556,\"#d8576b\"],[0.6666666666666666,\"#ed7953\"],[0.7777777777777778,\"#fb9f3a\"],[0.8888888888888888,\"#fdca26\"],[1.0,\"#f0f921\"]],\"sequentialminus\":[[0.0,\"#0d0887\"],[0.1111111111111111,\"#46039f\"],[0.2222222222222222,\"#7201a8\"],[0.3333333333333333,\"#9c179e\"],[0.4444444444444444,\"#bd3786\"],[0.5555555555555556,\"#d8576b\"],[0.6666666666666666,\"#ed7953\"],[0.7777777777777778,\"#fb9f3a\"],[0.8888888888888888,\"#fdca26\"],[1.0,\"#f0f921\"]],\"diverging\":[[0,\"#8e0152\"],[0.1,\"#c51b7d\"],[0.2,\"#de77ae\"],[0.3,\"#f1b6da\"],[0.4,\"#fde0ef\"],[0.5,\"#f7f7f7\"],[0.6,\"#e6f5d0\"],[0.7,\"#b8e186\"],[0.8,\"#7fbc41\"],[0.9,\"#4d9221\"],[1,\"#276419\"]]},\"xaxis\":{\"gridcolor\":\"white\",\"linecolor\":\"white\",\"ticks\":\"\",\"title\":{\"standoff\":15},\"zerolinecolor\":\"white\",\"automargin\":true,\"zerolinewidth\":2},\"yaxis\":{\"gridcolor\":\"white\",\"linecolor\":\"white\",\"ticks\":\"\",\"title\":{\"standoff\":15},\"zerolinecolor\":\"white\",\"automargin\":true,\"zerolinewidth\":2},\"scene\":{\"xaxis\":{\"backgroundcolor\":\"#E5ECF6\",\"gridcolor\":\"white\",\"linecolor\":\"white\",\"showbackground\":true,\"ticks\":\"\",\"zerolinecolor\":\"white\",\"gridwidth\":2},\"yaxis\":{\"backgroundcolor\":\"#E5ECF6\",\"gridcolor\":\"white\",\"linecolor\":\"white\",\"showbackground\":true,\"ticks\":\"\",\"zerolinecolor\":\"white\",\"gridwidth\":2},\"zaxis\":{\"backgroundcolor\":\"#E5ECF6\",\"gridcolor\":\"white\",\"linecolor\":\"white\",\"showbackground\":true,\"ticks\":\"\",\"zerolinecolor\":\"white\",\"gridwidth\":2}},\"shapedefaults\":{\"line\":{\"color\":\"#2a3f5f\"}},\"annotationdefaults\":{\"arrowcolor\":\"#2a3f5f\",\"arrowhead\":0,\"arrowwidth\":1},\"geo\":{\"bgcolor\":\"white\",\"landcolor\":\"#E5ECF6\",\"subunitcolor\":\"white\",\"showland\":true,\"showlakes\":true,\"lakecolor\":\"white\"},\"title\":{\"x\":0.05},\"mapbox\":{\"style\":\"light\"}}},\"xaxis\":{\"anchor\":\"y\",\"domain\":[0.0,1.0],\"showticklabels\":false,\"showgrid\":false},\"yaxis\":{\"anchor\":\"x\",\"domain\":[0.0,1.0],\"showticklabels\":false,\"showgrid\":false},\"title\":{\"text\":\"w \\u2208 L, w \\u2264 6\",\"x\":0.5},\"width\":1000,\"height\":1000},                        {\"responsive\": true}                    ).then(function(){\n                            \nvar gd = document.getElementById('f70df48d-d471-4dc5-859e-8cfeb75517dc');\nvar x = new MutationObserver(function (mutations, observer) {{\n        var display = window.getComputedStyle(gd).display;\n        if (!display || display === 'none') {{\n            console.log([gd, 'removed!']);\n            Plotly.purge(gd);\n            observer.disconnect();\n        }}\n}});\n\n// Listen for the removal of the full notebook cells\nvar notebookContainer = gd.closest('#notebook-container');\nif (notebookContainer) {{\n    x.observe(notebookContainer, {childList: true});\n}}\n\n// Listen for the clearing of the current output cell\nvar outputEl = gd.closest('.output');\nif (outputEl) {{\n    x.observe(outputEl, {childList: true});\n}}\n\n                        })                };                });            </script>        </div>"
     },
     "metadata": {},
     "output_type": "display_data"
    }
   ],
   "source": [
    "strings = generate_strings(alphabet={'a', 'b'}, size=6)\n",
    "matches = apply_mask(pattern=r\"^((a*b)|(ab*))$\", strings=strings)\n",
    "\n",
    "string_heatmap(\n",
    "    strings=[key for key, value in matches.items() if value],\n",
    "    title=\"w ∈ L, w ≤ 6\",\n",
    "    figsize=(1000, 1000), fontsize=25, filename=\"results/1c.svg\"\n",
    ")"
   ],
   "metadata": {
    "collapsed": false
   }
  },
  {
   "cell_type": "markdown",
   "source": [
    "## 1d. $a^*b^*(a \\mid ac^*)$"
   ],
   "metadata": {
    "collapsed": false
   }
  },
  {
   "cell_type": "code",
   "execution_count": 18,
   "outputs": [],
   "source": [
    "m_1d = Automata(label=\"M\", alphabet=['a', 'b', 'c'])\n",
    "\n",
    "m_1d.create_state(label=\"q0\", is_initial=True, is_final=False)\n",
    "m_1d.create_state(label=\"q1\", is_initial=False, is_final=False)\n",
    "m_1d.create_state(label=\"q2\", is_initial=False, is_final=True)\n",
    "m_1d.create_state(label=\"q3\", is_initial=False, is_final=True)\n",
    "\n",
    "m_1d.create_transaction(departure_label=\"q0\", arrival_label=\"q3\", symbol_label=\"a\")\n",
    "m_1d.create_transaction(departure_label=\"q0\", arrival_label=\"q1\", symbol_label=\"b\")\n",
    "\n",
    "m_1d.create_transaction(departure_label=\"q1\", arrival_label=\"q2\", symbol_label=\"a\")\n",
    "m_1d.create_transaction(departure_label=\"q1\", arrival_label=\"q1\", symbol_label=\"b\")\n",
    "\n",
    "m_1d.create_transaction(departure_label=\"q2\", arrival_label=\"q2\", symbol_label=\"c\")\n",
    "\n",
    "m_1d.create_transaction(departure_label=\"q3\", arrival_label=\"q3\", symbol_label=\"a\")\n",
    "m_1d.create_transaction(departure_label=\"q3\", arrival_label=\"q1\", symbol_label=\"b\")\n",
    "m_1d.create_transaction(departure_label=\"q3\", arrival_label=\"q2\", symbol_label=\"c\")"
   ],
   "metadata": {
    "collapsed": false
   }
  },
  {
   "cell_type": "code",
   "execution_count": 19,
   "outputs": [
    {
     "name": "stdout",
     "output_type": "stream",
     "text": [
      "M = (\n",
      "\t{q0, q1, q2, q3},\n",
      "\t{a, b, c},\n",
      "\t{(q0,a)->q3, (q0,b)->q1, (q1,a)->q2, (q1,b)->q1, (q2,c)->q2, (q3,a)->q3, (q3,b)->q1, (q3,c)->q2},\n",
      "\tq0,\n",
      "\t{q2, q3}\n",
      ")\n"
     ]
    }
   ],
   "source": [
    "print(m_1d)"
   ],
   "metadata": {
    "collapsed": false
   }
  },
  {
   "cell_type": "code",
   "execution_count": 20,
   "outputs": [
    {
     "data": {
      "text/plain": "   sid  initial  final state     a     b     c\n0    0     True  False    q0  [q3]  [q1]    []\n1    1    False  False    q1  [q2]  [q1]    []\n2    2    False   True    q2    []    []  [q2]\n3    3    False   True    q3  [q3]  [q1]  [q2]",
      "text/html": "<div>\n<style scoped>\n    .dataframe tbody tr th:only-of-type {\n        vertical-align: middle;\n    }\n\n    .dataframe tbody tr th {\n        vertical-align: top;\n    }\n\n    .dataframe thead th {\n        text-align: right;\n    }\n</style>\n<table border=\"1\" class=\"dataframe\">\n  <thead>\n    <tr style=\"text-align: right;\">\n      <th></th>\n      <th>sid</th>\n      <th>initial</th>\n      <th>final</th>\n      <th>state</th>\n      <th>a</th>\n      <th>b</th>\n      <th>c</th>\n    </tr>\n  </thead>\n  <tbody>\n    <tr>\n      <th>0</th>\n      <td>0</td>\n      <td>True</td>\n      <td>False</td>\n      <td>q0</td>\n      <td>[q3]</td>\n      <td>[q1]</td>\n      <td>[]</td>\n    </tr>\n    <tr>\n      <th>1</th>\n      <td>1</td>\n      <td>False</td>\n      <td>False</td>\n      <td>q1</td>\n      <td>[q2]</td>\n      <td>[q1]</td>\n      <td>[]</td>\n    </tr>\n    <tr>\n      <th>2</th>\n      <td>2</td>\n      <td>False</td>\n      <td>True</td>\n      <td>q2</td>\n      <td>[]</td>\n      <td>[]</td>\n      <td>[q2]</td>\n    </tr>\n    <tr>\n      <th>3</th>\n      <td>3</td>\n      <td>False</td>\n      <td>True</td>\n      <td>q3</td>\n      <td>[q3]</td>\n      <td>[q1]</td>\n      <td>[q2]</td>\n    </tr>\n  </tbody>\n</table>\n</div>"
     },
     "execution_count": 20,
     "metadata": {},
     "output_type": "execute_result"
    }
   ],
   "source": [
    "m_1d.tabular_notation"
   ],
   "metadata": {
    "collapsed": false
   }
  },
  {
   "cell_type": "code",
   "execution_count": 21,
   "outputs": [
    {
     "name": "stdout",
     "output_type": "stream",
     "text": [
      "a: True\n",
      "aa: True\n",
      "ac: True\n",
      "ba: True\n",
      "aaa: True\n",
      "aac: True\n",
      "aba: True\n",
      "bac: True\n",
      "acc: True\n",
      "aaaa: True\n",
      "aaac: True\n",
      "aacc: True\n",
      "accc: True\n",
      "abba: True\n",
      "abac: True\n",
      "bbba: True\n",
      "bbac: True\n",
      "bacc: True\n",
      "aaaaa: True\n",
      "aaaac: True\n",
      "aaacc: True\n",
      "aaccc: True\n",
      "acccc: True\n",
      "abbba: True\n",
      "aabba: True\n",
      "aaaba: True\n",
      "bbbba: True\n",
      "bbbac: True\n",
      "bbacc: True\n",
      "baccc: True\n"
     ]
    }
   ],
   "source": [
    "accepted_1d = [\n",
    "    \"a\", \"aa\", \"ac\", \"ba\", \"aaa\", \"aac\", \"aba\", \"bac\", \"acc\", \"aaaa\", \"aaac\", \"aacc\", \"accc\", \"abba\", \"abac\", \"bbba\", \"bbac\", \"bacc\",\n",
    "    \"aaaaa\", \"aaaac\", \"aaacc\", \"aaccc\", \"acccc\", \"abbba\",\"aabba\", \"aaaba\", \"bbbba\", \"bbbac\", \"bbacc\", \"baccc\"\n",
    "]\n",
    "\n",
    "for string in accepted_1d:\n",
    "    print(f\"{string}: {m_1d.recognize(string=string)}\")"
   ],
   "metadata": {
    "collapsed": false
   }
  },
  {
   "cell_type": "code",
   "execution_count": 22,
   "outputs": [
    {
     "data": {
      "application/vnd.plotly.v1+json": {
       "data": [
        {
         "colorbar": {
          "title": {
           "text": "Tamanho"
          }
         },
         "colorscale": [
          [
           0.0,
           "rgb(150,0,90)"
          ],
          [
           0.125,
           "rgb(0,0,200)"
          ],
          [
           0.25,
           "rgb(0,25,255)"
          ],
          [
           0.375,
           "rgb(0,152,255)"
          ],
          [
           0.5,
           "rgb(44,255,150)"
          ],
          [
           0.625,
           "rgb(151,255,0)"
          ],
          [
           0.75,
           "rgb(255,234,0)"
          ],
          [
           0.875,
           "rgb(255,111,0)"
          ],
          [
           1.0,
           "rgb(255,0,0)"
          ]
         ],
         "showscale": true,
         "text": [
          [
           "",
           "",
           "",
           "",
           "",
           "",
           "",
           ""
          ],
          [
           "a",
           "ba",
           "ac",
           "aa",
           "bba",
           "bac",
           "acc",
           "aba"
          ],
          [
           "aac",
           "aaa",
           "bbba",
           "bbac",
           "bacc",
           "accc",
           "abba",
           "abac"
          ],
          [
           "aacc",
           "aaba",
           "aaac",
           "aaaa",
           "bbbba",
           "bbbac",
           "bbacc",
           "baccc"
          ],
          [
           "acccc",
           "abbba",
           "abbac",
           "abacc",
           "aaccc",
           "aabba",
           "aabac",
           "aaacc"
          ],
          [
           "aaaba",
           "aaaac",
           "aaaaa",
           "bbbbba",
           "bbbbac",
           "bbbacc",
           "bbaccc",
           "bacccc"
          ],
          [
           "accccc",
           "abbbba",
           "abbbac",
           "abbacc",
           "abaccc",
           "aacccc",
           "aabbba",
           "aabbac"
          ],
          [
           "aabacc",
           "aaaccc",
           "aaabba",
           "aaabac",
           "aaaacc",
           "aaaaba",
           "aaaaac",
           "aaaaaa"
          ]
         ],
         "textfont": {
          "family": "monospace",
          "size": 25
         },
         "texttemplate": "%{text}",
         "z": [
          [
           "0",
           "0",
           "0",
           "0",
           "0",
           "0",
           "0",
           "0"
          ],
          [
           "1",
           "2",
           "2",
           "2",
           "3",
           "3",
           "3",
           "3"
          ],
          [
           "3",
           "3",
           "4",
           "4",
           "4",
           "4",
           "4",
           "4"
          ],
          [
           "4",
           "4",
           "4",
           "4",
           "5",
           "5",
           "5",
           "5"
          ],
          [
           "5",
           "5",
           "5",
           "5",
           "5",
           "5",
           "5",
           "5"
          ],
          [
           "5",
           "5",
           "5",
           "6",
           "6",
           "6",
           "6",
           "6"
          ],
          [
           "6",
           "6",
           "6",
           "6",
           "6",
           "6",
           "6",
           "6"
          ],
          [
           "6",
           "6",
           "6",
           "6",
           "6",
           "6",
           "6",
           "6"
          ]
         ],
         "type": "heatmap"
        }
       ],
       "layout": {
        "template": {
         "data": {
          "histogram2dcontour": [
           {
            "type": "histogram2dcontour",
            "colorbar": {
             "outlinewidth": 0,
             "ticks": ""
            },
            "colorscale": [
             [
              0.0,
              "#0d0887"
             ],
             [
              0.1111111111111111,
              "#46039f"
             ],
             [
              0.2222222222222222,
              "#7201a8"
             ],
             [
              0.3333333333333333,
              "#9c179e"
             ],
             [
              0.4444444444444444,
              "#bd3786"
             ],
             [
              0.5555555555555556,
              "#d8576b"
             ],
             [
              0.6666666666666666,
              "#ed7953"
             ],
             [
              0.7777777777777778,
              "#fb9f3a"
             ],
             [
              0.8888888888888888,
              "#fdca26"
             ],
             [
              1.0,
              "#f0f921"
             ]
            ]
           }
          ],
          "choropleth": [
           {
            "type": "choropleth",
            "colorbar": {
             "outlinewidth": 0,
             "ticks": ""
            }
           }
          ],
          "histogram2d": [
           {
            "type": "histogram2d",
            "colorbar": {
             "outlinewidth": 0,
             "ticks": ""
            },
            "colorscale": [
             [
              0.0,
              "#0d0887"
             ],
             [
              0.1111111111111111,
              "#46039f"
             ],
             [
              0.2222222222222222,
              "#7201a8"
             ],
             [
              0.3333333333333333,
              "#9c179e"
             ],
             [
              0.4444444444444444,
              "#bd3786"
             ],
             [
              0.5555555555555556,
              "#d8576b"
             ],
             [
              0.6666666666666666,
              "#ed7953"
             ],
             [
              0.7777777777777778,
              "#fb9f3a"
             ],
             [
              0.8888888888888888,
              "#fdca26"
             ],
             [
              1.0,
              "#f0f921"
             ]
            ]
           }
          ],
          "heatmap": [
           {
            "type": "heatmap",
            "colorbar": {
             "outlinewidth": 0,
             "ticks": ""
            },
            "colorscale": [
             [
              0.0,
              "#0d0887"
             ],
             [
              0.1111111111111111,
              "#46039f"
             ],
             [
              0.2222222222222222,
              "#7201a8"
             ],
             [
              0.3333333333333333,
              "#9c179e"
             ],
             [
              0.4444444444444444,
              "#bd3786"
             ],
             [
              0.5555555555555556,
              "#d8576b"
             ],
             [
              0.6666666666666666,
              "#ed7953"
             ],
             [
              0.7777777777777778,
              "#fb9f3a"
             ],
             [
              0.8888888888888888,
              "#fdca26"
             ],
             [
              1.0,
              "#f0f921"
             ]
            ]
           }
          ],
          "heatmapgl": [
           {
            "type": "heatmapgl",
            "colorbar": {
             "outlinewidth": 0,
             "ticks": ""
            },
            "colorscale": [
             [
              0.0,
              "#0d0887"
             ],
             [
              0.1111111111111111,
              "#46039f"
             ],
             [
              0.2222222222222222,
              "#7201a8"
             ],
             [
              0.3333333333333333,
              "#9c179e"
             ],
             [
              0.4444444444444444,
              "#bd3786"
             ],
             [
              0.5555555555555556,
              "#d8576b"
             ],
             [
              0.6666666666666666,
              "#ed7953"
             ],
             [
              0.7777777777777778,
              "#fb9f3a"
             ],
             [
              0.8888888888888888,
              "#fdca26"
             ],
             [
              1.0,
              "#f0f921"
             ]
            ]
           }
          ],
          "contourcarpet": [
           {
            "type": "contourcarpet",
            "colorbar": {
             "outlinewidth": 0,
             "ticks": ""
            }
           }
          ],
          "contour": [
           {
            "type": "contour",
            "colorbar": {
             "outlinewidth": 0,
             "ticks": ""
            },
            "colorscale": [
             [
              0.0,
              "#0d0887"
             ],
             [
              0.1111111111111111,
              "#46039f"
             ],
             [
              0.2222222222222222,
              "#7201a8"
             ],
             [
              0.3333333333333333,
              "#9c179e"
             ],
             [
              0.4444444444444444,
              "#bd3786"
             ],
             [
              0.5555555555555556,
              "#d8576b"
             ],
             [
              0.6666666666666666,
              "#ed7953"
             ],
             [
              0.7777777777777778,
              "#fb9f3a"
             ],
             [
              0.8888888888888888,
              "#fdca26"
             ],
             [
              1.0,
              "#f0f921"
             ]
            ]
           }
          ],
          "surface": [
           {
            "type": "surface",
            "colorbar": {
             "outlinewidth": 0,
             "ticks": ""
            },
            "colorscale": [
             [
              0.0,
              "#0d0887"
             ],
             [
              0.1111111111111111,
              "#46039f"
             ],
             [
              0.2222222222222222,
              "#7201a8"
             ],
             [
              0.3333333333333333,
              "#9c179e"
             ],
             [
              0.4444444444444444,
              "#bd3786"
             ],
             [
              0.5555555555555556,
              "#d8576b"
             ],
             [
              0.6666666666666666,
              "#ed7953"
             ],
             [
              0.7777777777777778,
              "#fb9f3a"
             ],
             [
              0.8888888888888888,
              "#fdca26"
             ],
             [
              1.0,
              "#f0f921"
             ]
            ]
           }
          ],
          "mesh3d": [
           {
            "type": "mesh3d",
            "colorbar": {
             "outlinewidth": 0,
             "ticks": ""
            }
           }
          ],
          "scatter": [
           {
            "fillpattern": {
             "fillmode": "overlay",
             "size": 10,
             "solidity": 0.2
            },
            "type": "scatter"
           }
          ],
          "parcoords": [
           {
            "type": "parcoords",
            "line": {
             "colorbar": {
              "outlinewidth": 0,
              "ticks": ""
             }
            }
           }
          ],
          "scatterpolargl": [
           {
            "type": "scatterpolargl",
            "marker": {
             "colorbar": {
              "outlinewidth": 0,
              "ticks": ""
             }
            }
           }
          ],
          "bar": [
           {
            "error_x": {
             "color": "#2a3f5f"
            },
            "error_y": {
             "color": "#2a3f5f"
            },
            "marker": {
             "line": {
              "color": "#E5ECF6",
              "width": 0.5
             },
             "pattern": {
              "fillmode": "overlay",
              "size": 10,
              "solidity": 0.2
             }
            },
            "type": "bar"
           }
          ],
          "scattergeo": [
           {
            "type": "scattergeo",
            "marker": {
             "colorbar": {
              "outlinewidth": 0,
              "ticks": ""
             }
            }
           }
          ],
          "scatterpolar": [
           {
            "type": "scatterpolar",
            "marker": {
             "colorbar": {
              "outlinewidth": 0,
              "ticks": ""
             }
            }
           }
          ],
          "histogram": [
           {
            "marker": {
             "pattern": {
              "fillmode": "overlay",
              "size": 10,
              "solidity": 0.2
             }
            },
            "type": "histogram"
           }
          ],
          "scattergl": [
           {
            "type": "scattergl",
            "marker": {
             "colorbar": {
              "outlinewidth": 0,
              "ticks": ""
             }
            }
           }
          ],
          "scatter3d": [
           {
            "type": "scatter3d",
            "line": {
             "colorbar": {
              "outlinewidth": 0,
              "ticks": ""
             }
            },
            "marker": {
             "colorbar": {
              "outlinewidth": 0,
              "ticks": ""
             }
            }
           }
          ],
          "scattermapbox": [
           {
            "type": "scattermapbox",
            "marker": {
             "colorbar": {
              "outlinewidth": 0,
              "ticks": ""
             }
            }
           }
          ],
          "scatterternary": [
           {
            "type": "scatterternary",
            "marker": {
             "colorbar": {
              "outlinewidth": 0,
              "ticks": ""
             }
            }
           }
          ],
          "scattercarpet": [
           {
            "type": "scattercarpet",
            "marker": {
             "colorbar": {
              "outlinewidth": 0,
              "ticks": ""
             }
            }
           }
          ],
          "carpet": [
           {
            "aaxis": {
             "endlinecolor": "#2a3f5f",
             "gridcolor": "white",
             "linecolor": "white",
             "minorgridcolor": "white",
             "startlinecolor": "#2a3f5f"
            },
            "baxis": {
             "endlinecolor": "#2a3f5f",
             "gridcolor": "white",
             "linecolor": "white",
             "minorgridcolor": "white",
             "startlinecolor": "#2a3f5f"
            },
            "type": "carpet"
           }
          ],
          "table": [
           {
            "cells": {
             "fill": {
              "color": "#EBF0F8"
             },
             "line": {
              "color": "white"
             }
            },
            "header": {
             "fill": {
              "color": "#C8D4E3"
             },
             "line": {
              "color": "white"
             }
            },
            "type": "table"
           }
          ],
          "barpolar": [
           {
            "marker": {
             "line": {
              "color": "#E5ECF6",
              "width": 0.5
             },
             "pattern": {
              "fillmode": "overlay",
              "size": 10,
              "solidity": 0.2
             }
            },
            "type": "barpolar"
           }
          ],
          "pie": [
           {
            "automargin": true,
            "type": "pie"
           }
          ]
         },
         "layout": {
          "autotypenumbers": "strict",
          "colorway": [
           "#636efa",
           "#EF553B",
           "#00cc96",
           "#ab63fa",
           "#FFA15A",
           "#19d3f3",
           "#FF6692",
           "#B6E880",
           "#FF97FF",
           "#FECB52"
          ],
          "font": {
           "color": "#2a3f5f"
          },
          "hovermode": "closest",
          "hoverlabel": {
           "align": "left"
          },
          "paper_bgcolor": "white",
          "plot_bgcolor": "#E5ECF6",
          "polar": {
           "bgcolor": "#E5ECF6",
           "angularaxis": {
            "gridcolor": "white",
            "linecolor": "white",
            "ticks": ""
           },
           "radialaxis": {
            "gridcolor": "white",
            "linecolor": "white",
            "ticks": ""
           }
          },
          "ternary": {
           "bgcolor": "#E5ECF6",
           "aaxis": {
            "gridcolor": "white",
            "linecolor": "white",
            "ticks": ""
           },
           "baxis": {
            "gridcolor": "white",
            "linecolor": "white",
            "ticks": ""
           },
           "caxis": {
            "gridcolor": "white",
            "linecolor": "white",
            "ticks": ""
           }
          },
          "coloraxis": {
           "colorbar": {
            "outlinewidth": 0,
            "ticks": ""
           }
          },
          "colorscale": {
           "sequential": [
            [
             0.0,
             "#0d0887"
            ],
            [
             0.1111111111111111,
             "#46039f"
            ],
            [
             0.2222222222222222,
             "#7201a8"
            ],
            [
             0.3333333333333333,
             "#9c179e"
            ],
            [
             0.4444444444444444,
             "#bd3786"
            ],
            [
             0.5555555555555556,
             "#d8576b"
            ],
            [
             0.6666666666666666,
             "#ed7953"
            ],
            [
             0.7777777777777778,
             "#fb9f3a"
            ],
            [
             0.8888888888888888,
             "#fdca26"
            ],
            [
             1.0,
             "#f0f921"
            ]
           ],
           "sequentialminus": [
            [
             0.0,
             "#0d0887"
            ],
            [
             0.1111111111111111,
             "#46039f"
            ],
            [
             0.2222222222222222,
             "#7201a8"
            ],
            [
             0.3333333333333333,
             "#9c179e"
            ],
            [
             0.4444444444444444,
             "#bd3786"
            ],
            [
             0.5555555555555556,
             "#d8576b"
            ],
            [
             0.6666666666666666,
             "#ed7953"
            ],
            [
             0.7777777777777778,
             "#fb9f3a"
            ],
            [
             0.8888888888888888,
             "#fdca26"
            ],
            [
             1.0,
             "#f0f921"
            ]
           ],
           "diverging": [
            [
             0,
             "#8e0152"
            ],
            [
             0.1,
             "#c51b7d"
            ],
            [
             0.2,
             "#de77ae"
            ],
            [
             0.3,
             "#f1b6da"
            ],
            [
             0.4,
             "#fde0ef"
            ],
            [
             0.5,
             "#f7f7f7"
            ],
            [
             0.6,
             "#e6f5d0"
            ],
            [
             0.7,
             "#b8e186"
            ],
            [
             0.8,
             "#7fbc41"
            ],
            [
             0.9,
             "#4d9221"
            ],
            [
             1,
             "#276419"
            ]
           ]
          },
          "xaxis": {
           "gridcolor": "white",
           "linecolor": "white",
           "ticks": "",
           "title": {
            "standoff": 15
           },
           "zerolinecolor": "white",
           "automargin": true,
           "zerolinewidth": 2
          },
          "yaxis": {
           "gridcolor": "white",
           "linecolor": "white",
           "ticks": "",
           "title": {
            "standoff": 15
           },
           "zerolinecolor": "white",
           "automargin": true,
           "zerolinewidth": 2
          },
          "scene": {
           "xaxis": {
            "backgroundcolor": "#E5ECF6",
            "gridcolor": "white",
            "linecolor": "white",
            "showbackground": true,
            "ticks": "",
            "zerolinecolor": "white",
            "gridwidth": 2
           },
           "yaxis": {
            "backgroundcolor": "#E5ECF6",
            "gridcolor": "white",
            "linecolor": "white",
            "showbackground": true,
            "ticks": "",
            "zerolinecolor": "white",
            "gridwidth": 2
           },
           "zaxis": {
            "backgroundcolor": "#E5ECF6",
            "gridcolor": "white",
            "linecolor": "white",
            "showbackground": true,
            "ticks": "",
            "zerolinecolor": "white",
            "gridwidth": 2
           }
          },
          "shapedefaults": {
           "line": {
            "color": "#2a3f5f"
           }
          },
          "annotationdefaults": {
           "arrowcolor": "#2a3f5f",
           "arrowhead": 0,
           "arrowwidth": 1
          },
          "geo": {
           "bgcolor": "white",
           "landcolor": "#E5ECF6",
           "subunitcolor": "white",
           "showland": true,
           "showlakes": true,
           "lakecolor": "white"
          },
          "title": {
           "x": 0.05
          },
          "mapbox": {
           "style": "light"
          }
         }
        },
        "xaxis": {
         "anchor": "y",
         "domain": [
          0.0,
          1.0
         ],
         "showticklabels": false,
         "showgrid": false
        },
        "yaxis": {
         "anchor": "x",
         "domain": [
          0.0,
          1.0
         ],
         "showticklabels": false,
         "showgrid": false
        },
        "title": {
         "text": "w ∈ L, w ≤ 6",
         "x": 0.5
        },
        "width": 1000,
        "height": 1000
       },
       "config": {
        "plotlyServerURL": "https://plot.ly"
       }
      },
      "text/html": "<div>                            <div id=\"e92228b3-2d05-42ec-8977-b7f143d69a0b\" class=\"plotly-graph-div\" style=\"height:1000px; width:1000px;\"></div>            <script type=\"text/javascript\">                require([\"plotly\"], function(Plotly) {                    window.PLOTLYENV=window.PLOTLYENV || {};                                    if (document.getElementById(\"e92228b3-2d05-42ec-8977-b7f143d69a0b\")) {                    Plotly.newPlot(                        \"e92228b3-2d05-42ec-8977-b7f143d69a0b\",                        [{\"colorbar\":{\"title\":{\"text\":\"Tamanho\"}},\"colorscale\":[[0.0,\"rgb(150,0,90)\"],[0.125,\"rgb(0,0,200)\"],[0.25,\"rgb(0,25,255)\"],[0.375,\"rgb(0,152,255)\"],[0.5,\"rgb(44,255,150)\"],[0.625,\"rgb(151,255,0)\"],[0.75,\"rgb(255,234,0)\"],[0.875,\"rgb(255,111,0)\"],[1.0,\"rgb(255,0,0)\"]],\"showscale\":true,\"text\":[[\"\",\"\",\"\",\"\",\"\",\"\",\"\",\"\"],[\"a\",\"ba\",\"ac\",\"aa\",\"bba\",\"bac\",\"acc\",\"aba\"],[\"aac\",\"aaa\",\"bbba\",\"bbac\",\"bacc\",\"accc\",\"abba\",\"abac\"],[\"aacc\",\"aaba\",\"aaac\",\"aaaa\",\"bbbba\",\"bbbac\",\"bbacc\",\"baccc\"],[\"acccc\",\"abbba\",\"abbac\",\"abacc\",\"aaccc\",\"aabba\",\"aabac\",\"aaacc\"],[\"aaaba\",\"aaaac\",\"aaaaa\",\"bbbbba\",\"bbbbac\",\"bbbacc\",\"bbaccc\",\"bacccc\"],[\"accccc\",\"abbbba\",\"abbbac\",\"abbacc\",\"abaccc\",\"aacccc\",\"aabbba\",\"aabbac\"],[\"aabacc\",\"aaaccc\",\"aaabba\",\"aaabac\",\"aaaacc\",\"aaaaba\",\"aaaaac\",\"aaaaaa\"]],\"textfont\":{\"family\":\"monospace\",\"size\":25},\"texttemplate\":\"%{text}\",\"z\":[[\"0\",\"0\",\"0\",\"0\",\"0\",\"0\",\"0\",\"0\"],[\"1\",\"2\",\"2\",\"2\",\"3\",\"3\",\"3\",\"3\"],[\"3\",\"3\",\"4\",\"4\",\"4\",\"4\",\"4\",\"4\"],[\"4\",\"4\",\"4\",\"4\",\"5\",\"5\",\"5\",\"5\"],[\"5\",\"5\",\"5\",\"5\",\"5\",\"5\",\"5\",\"5\"],[\"5\",\"5\",\"5\",\"6\",\"6\",\"6\",\"6\",\"6\"],[\"6\",\"6\",\"6\",\"6\",\"6\",\"6\",\"6\",\"6\"],[\"6\",\"6\",\"6\",\"6\",\"6\",\"6\",\"6\",\"6\"]],\"type\":\"heatmap\"}],                        {\"template\":{\"data\":{\"histogram2dcontour\":[{\"type\":\"histogram2dcontour\",\"colorbar\":{\"outlinewidth\":0,\"ticks\":\"\"},\"colorscale\":[[0.0,\"#0d0887\"],[0.1111111111111111,\"#46039f\"],[0.2222222222222222,\"#7201a8\"],[0.3333333333333333,\"#9c179e\"],[0.4444444444444444,\"#bd3786\"],[0.5555555555555556,\"#d8576b\"],[0.6666666666666666,\"#ed7953\"],[0.7777777777777778,\"#fb9f3a\"],[0.8888888888888888,\"#fdca26\"],[1.0,\"#f0f921\"]]}],\"choropleth\":[{\"type\":\"choropleth\",\"colorbar\":{\"outlinewidth\":0,\"ticks\":\"\"}}],\"histogram2d\":[{\"type\":\"histogram2d\",\"colorbar\":{\"outlinewidth\":0,\"ticks\":\"\"},\"colorscale\":[[0.0,\"#0d0887\"],[0.1111111111111111,\"#46039f\"],[0.2222222222222222,\"#7201a8\"],[0.3333333333333333,\"#9c179e\"],[0.4444444444444444,\"#bd3786\"],[0.5555555555555556,\"#d8576b\"],[0.6666666666666666,\"#ed7953\"],[0.7777777777777778,\"#fb9f3a\"],[0.8888888888888888,\"#fdca26\"],[1.0,\"#f0f921\"]]}],\"heatmap\":[{\"type\":\"heatmap\",\"colorbar\":{\"outlinewidth\":0,\"ticks\":\"\"},\"colorscale\":[[0.0,\"#0d0887\"],[0.1111111111111111,\"#46039f\"],[0.2222222222222222,\"#7201a8\"],[0.3333333333333333,\"#9c179e\"],[0.4444444444444444,\"#bd3786\"],[0.5555555555555556,\"#d8576b\"],[0.6666666666666666,\"#ed7953\"],[0.7777777777777778,\"#fb9f3a\"],[0.8888888888888888,\"#fdca26\"],[1.0,\"#f0f921\"]]}],\"heatmapgl\":[{\"type\":\"heatmapgl\",\"colorbar\":{\"outlinewidth\":0,\"ticks\":\"\"},\"colorscale\":[[0.0,\"#0d0887\"],[0.1111111111111111,\"#46039f\"],[0.2222222222222222,\"#7201a8\"],[0.3333333333333333,\"#9c179e\"],[0.4444444444444444,\"#bd3786\"],[0.5555555555555556,\"#d8576b\"],[0.6666666666666666,\"#ed7953\"],[0.7777777777777778,\"#fb9f3a\"],[0.8888888888888888,\"#fdca26\"],[1.0,\"#f0f921\"]]}],\"contourcarpet\":[{\"type\":\"contourcarpet\",\"colorbar\":{\"outlinewidth\":0,\"ticks\":\"\"}}],\"contour\":[{\"type\":\"contour\",\"colorbar\":{\"outlinewidth\":0,\"ticks\":\"\"},\"colorscale\":[[0.0,\"#0d0887\"],[0.1111111111111111,\"#46039f\"],[0.2222222222222222,\"#7201a8\"],[0.3333333333333333,\"#9c179e\"],[0.4444444444444444,\"#bd3786\"],[0.5555555555555556,\"#d8576b\"],[0.6666666666666666,\"#ed7953\"],[0.7777777777777778,\"#fb9f3a\"],[0.8888888888888888,\"#fdca26\"],[1.0,\"#f0f921\"]]}],\"surface\":[{\"type\":\"surface\",\"colorbar\":{\"outlinewidth\":0,\"ticks\":\"\"},\"colorscale\":[[0.0,\"#0d0887\"],[0.1111111111111111,\"#46039f\"],[0.2222222222222222,\"#7201a8\"],[0.3333333333333333,\"#9c179e\"],[0.4444444444444444,\"#bd3786\"],[0.5555555555555556,\"#d8576b\"],[0.6666666666666666,\"#ed7953\"],[0.7777777777777778,\"#fb9f3a\"],[0.8888888888888888,\"#fdca26\"],[1.0,\"#f0f921\"]]}],\"mesh3d\":[{\"type\":\"mesh3d\",\"colorbar\":{\"outlinewidth\":0,\"ticks\":\"\"}}],\"scatter\":[{\"fillpattern\":{\"fillmode\":\"overlay\",\"size\":10,\"solidity\":0.2},\"type\":\"scatter\"}],\"parcoords\":[{\"type\":\"parcoords\",\"line\":{\"colorbar\":{\"outlinewidth\":0,\"ticks\":\"\"}}}],\"scatterpolargl\":[{\"type\":\"scatterpolargl\",\"marker\":{\"colorbar\":{\"outlinewidth\":0,\"ticks\":\"\"}}}],\"bar\":[{\"error_x\":{\"color\":\"#2a3f5f\"},\"error_y\":{\"color\":\"#2a3f5f\"},\"marker\":{\"line\":{\"color\":\"#E5ECF6\",\"width\":0.5},\"pattern\":{\"fillmode\":\"overlay\",\"size\":10,\"solidity\":0.2}},\"type\":\"bar\"}],\"scattergeo\":[{\"type\":\"scattergeo\",\"marker\":{\"colorbar\":{\"outlinewidth\":0,\"ticks\":\"\"}}}],\"scatterpolar\":[{\"type\":\"scatterpolar\",\"marker\":{\"colorbar\":{\"outlinewidth\":0,\"ticks\":\"\"}}}],\"histogram\":[{\"marker\":{\"pattern\":{\"fillmode\":\"overlay\",\"size\":10,\"solidity\":0.2}},\"type\":\"histogram\"}],\"scattergl\":[{\"type\":\"scattergl\",\"marker\":{\"colorbar\":{\"outlinewidth\":0,\"ticks\":\"\"}}}],\"scatter3d\":[{\"type\":\"scatter3d\",\"line\":{\"colorbar\":{\"outlinewidth\":0,\"ticks\":\"\"}},\"marker\":{\"colorbar\":{\"outlinewidth\":0,\"ticks\":\"\"}}}],\"scattermapbox\":[{\"type\":\"scattermapbox\",\"marker\":{\"colorbar\":{\"outlinewidth\":0,\"ticks\":\"\"}}}],\"scatterternary\":[{\"type\":\"scatterternary\",\"marker\":{\"colorbar\":{\"outlinewidth\":0,\"ticks\":\"\"}}}],\"scattercarpet\":[{\"type\":\"scattercarpet\",\"marker\":{\"colorbar\":{\"outlinewidth\":0,\"ticks\":\"\"}}}],\"carpet\":[{\"aaxis\":{\"endlinecolor\":\"#2a3f5f\",\"gridcolor\":\"white\",\"linecolor\":\"white\",\"minorgridcolor\":\"white\",\"startlinecolor\":\"#2a3f5f\"},\"baxis\":{\"endlinecolor\":\"#2a3f5f\",\"gridcolor\":\"white\",\"linecolor\":\"white\",\"minorgridcolor\":\"white\",\"startlinecolor\":\"#2a3f5f\"},\"type\":\"carpet\"}],\"table\":[{\"cells\":{\"fill\":{\"color\":\"#EBF0F8\"},\"line\":{\"color\":\"white\"}},\"header\":{\"fill\":{\"color\":\"#C8D4E3\"},\"line\":{\"color\":\"white\"}},\"type\":\"table\"}],\"barpolar\":[{\"marker\":{\"line\":{\"color\":\"#E5ECF6\",\"width\":0.5},\"pattern\":{\"fillmode\":\"overlay\",\"size\":10,\"solidity\":0.2}},\"type\":\"barpolar\"}],\"pie\":[{\"automargin\":true,\"type\":\"pie\"}]},\"layout\":{\"autotypenumbers\":\"strict\",\"colorway\":[\"#636efa\",\"#EF553B\",\"#00cc96\",\"#ab63fa\",\"#FFA15A\",\"#19d3f3\",\"#FF6692\",\"#B6E880\",\"#FF97FF\",\"#FECB52\"],\"font\":{\"color\":\"#2a3f5f\"},\"hovermode\":\"closest\",\"hoverlabel\":{\"align\":\"left\"},\"paper_bgcolor\":\"white\",\"plot_bgcolor\":\"#E5ECF6\",\"polar\":{\"bgcolor\":\"#E5ECF6\",\"angularaxis\":{\"gridcolor\":\"white\",\"linecolor\":\"white\",\"ticks\":\"\"},\"radialaxis\":{\"gridcolor\":\"white\",\"linecolor\":\"white\",\"ticks\":\"\"}},\"ternary\":{\"bgcolor\":\"#E5ECF6\",\"aaxis\":{\"gridcolor\":\"white\",\"linecolor\":\"white\",\"ticks\":\"\"},\"baxis\":{\"gridcolor\":\"white\",\"linecolor\":\"white\",\"ticks\":\"\"},\"caxis\":{\"gridcolor\":\"white\",\"linecolor\":\"white\",\"ticks\":\"\"}},\"coloraxis\":{\"colorbar\":{\"outlinewidth\":0,\"ticks\":\"\"}},\"colorscale\":{\"sequential\":[[0.0,\"#0d0887\"],[0.1111111111111111,\"#46039f\"],[0.2222222222222222,\"#7201a8\"],[0.3333333333333333,\"#9c179e\"],[0.4444444444444444,\"#bd3786\"],[0.5555555555555556,\"#d8576b\"],[0.6666666666666666,\"#ed7953\"],[0.7777777777777778,\"#fb9f3a\"],[0.8888888888888888,\"#fdca26\"],[1.0,\"#f0f921\"]],\"sequentialminus\":[[0.0,\"#0d0887\"],[0.1111111111111111,\"#46039f\"],[0.2222222222222222,\"#7201a8\"],[0.3333333333333333,\"#9c179e\"],[0.4444444444444444,\"#bd3786\"],[0.5555555555555556,\"#d8576b\"],[0.6666666666666666,\"#ed7953\"],[0.7777777777777778,\"#fb9f3a\"],[0.8888888888888888,\"#fdca26\"],[1.0,\"#f0f921\"]],\"diverging\":[[0,\"#8e0152\"],[0.1,\"#c51b7d\"],[0.2,\"#de77ae\"],[0.3,\"#f1b6da\"],[0.4,\"#fde0ef\"],[0.5,\"#f7f7f7\"],[0.6,\"#e6f5d0\"],[0.7,\"#b8e186\"],[0.8,\"#7fbc41\"],[0.9,\"#4d9221\"],[1,\"#276419\"]]},\"xaxis\":{\"gridcolor\":\"white\",\"linecolor\":\"white\",\"ticks\":\"\",\"title\":{\"standoff\":15},\"zerolinecolor\":\"white\",\"automargin\":true,\"zerolinewidth\":2},\"yaxis\":{\"gridcolor\":\"white\",\"linecolor\":\"white\",\"ticks\":\"\",\"title\":{\"standoff\":15},\"zerolinecolor\":\"white\",\"automargin\":true,\"zerolinewidth\":2},\"scene\":{\"xaxis\":{\"backgroundcolor\":\"#E5ECF6\",\"gridcolor\":\"white\",\"linecolor\":\"white\",\"showbackground\":true,\"ticks\":\"\",\"zerolinecolor\":\"white\",\"gridwidth\":2},\"yaxis\":{\"backgroundcolor\":\"#E5ECF6\",\"gridcolor\":\"white\",\"linecolor\":\"white\",\"showbackground\":true,\"ticks\":\"\",\"zerolinecolor\":\"white\",\"gridwidth\":2},\"zaxis\":{\"backgroundcolor\":\"#E5ECF6\",\"gridcolor\":\"white\",\"linecolor\":\"white\",\"showbackground\":true,\"ticks\":\"\",\"zerolinecolor\":\"white\",\"gridwidth\":2}},\"shapedefaults\":{\"line\":{\"color\":\"#2a3f5f\"}},\"annotationdefaults\":{\"arrowcolor\":\"#2a3f5f\",\"arrowhead\":0,\"arrowwidth\":1},\"geo\":{\"bgcolor\":\"white\",\"landcolor\":\"#E5ECF6\",\"subunitcolor\":\"white\",\"showland\":true,\"showlakes\":true,\"lakecolor\":\"white\"},\"title\":{\"x\":0.05},\"mapbox\":{\"style\":\"light\"}}},\"xaxis\":{\"anchor\":\"y\",\"domain\":[0.0,1.0],\"showticklabels\":false,\"showgrid\":false},\"yaxis\":{\"anchor\":\"x\",\"domain\":[0.0,1.0],\"showticklabels\":false,\"showgrid\":false},\"title\":{\"text\":\"w \\u2208 L, w \\u2264 6\",\"x\":0.5},\"width\":1000,\"height\":1000},                        {\"responsive\": true}                    ).then(function(){\n                            \nvar gd = document.getElementById('e92228b3-2d05-42ec-8977-b7f143d69a0b');\nvar x = new MutationObserver(function (mutations, observer) {{\n        var display = window.getComputedStyle(gd).display;\n        if (!display || display === 'none') {{\n            console.log([gd, 'removed!']);\n            Plotly.purge(gd);\n            observer.disconnect();\n        }}\n}});\n\n// Listen for the removal of the full notebook cells\nvar notebookContainer = gd.closest('#notebook-container');\nif (notebookContainer) {{\n    x.observe(notebookContainer, {childList: true});\n}}\n\n// Listen for the clearing of the current output cell\nvar outputEl = gd.closest('.output');\nif (outputEl) {{\n    x.observe(outputEl, {childList: true});\n}}\n\n                        })                };                });            </script>        </div>"
     },
     "metadata": {},
     "output_type": "display_data"
    }
   ],
   "source": [
    "strings = generate_strings(alphabet={'a', 'b', 'c'}, size=6)\n",
    "matches = apply_mask(pattern=r\"^a*b*(a|ac*)$\", strings=strings)\n",
    "\n",
    "string_heatmap(\n",
    "    strings=[key for key, value in matches.items() if value],\n",
    "    title=\"w ∈ L, w ≤ 6\",\n",
    "    figsize=(1000, 1000), fontsize=25, filename=\"results/1d.svg\"\n",
    ")"
   ],
   "metadata": {
    "collapsed": false
   }
  },
  {
   "cell_type": "markdown",
   "source": [
    "# Questão 03"
   ],
   "metadata": {
    "collapsed": false
   }
  },
  {
   "cell_type": "markdown",
   "source": [
    "Implemente um transdutor finito (máquina de Moore ou Mealy) que, dada uma sequência de moedas de 25 e 50 centavos e de 1 real, forneça uma lata de refrigerante quando a sequência totalizar 1 real ou mais. Cada moeda inserida deverá corresponder a uma de duas saídas: 0, se uma lata não pode ser (ainda) liberada, ou 1, se uma lata deve ser liberada. Exemplo:\n",
    "\n",
    "| Entrada | Saída |\n",
    "|---------|-------|\n",
    "| 50      | 0     |\n",
    "| 25      | 0     |\n",
    "| 50      | 1     |\n",
    "| 100     | 1     |\n",
    "| 25      | 0     |\n",
    "| 50      | 1     |\n",
    "| 100     | 1     |"
   ],
   "metadata": {
    "collapsed": false
   }
  },
  {
   "cell_type": "code",
   "execution_count": 23,
   "outputs": [],
   "source": [
    "transducer = Transducer(\n",
    "    label=\"M3\",\n",
    "    alphabet=Alphabet([\"25\", \"50\", \"100\"]),\n",
    "    output_alphabet=Alphabet([\"0\", \"1\"])\n",
    ")"
   ],
   "metadata": {
    "collapsed": false
   }
  },
  {
   "cell_type": "code",
   "execution_count": 24,
   "outputs": [],
   "source": [
    "transducer.create_state(label=\"q0\", is_initial=True, is_final=True)\n",
    "transducer.create_state(label=\"q1\", is_initial=False, is_final=True)\n",
    "transducer.create_state(label=\"q2\", is_initial=False, is_final=True)\n",
    "transducer.create_state(label=\"q3\", is_initial=False, is_final=True)\n",
    "transducer.create_state(label=\"q4\", is_initial=False, is_final=True)\n",
    "transducer.create_state(label=\"q5\", is_initial=False, is_final=True)"
   ],
   "metadata": {
    "collapsed": false
   }
  },
  {
   "cell_type": "code",
   "execution_count": 25,
   "outputs": [
    {
     "data": {
      "text/plain": "   sid  initial  final state  25  50 100\n0    0     True   True    q0  []  []  []\n1    1    False   True    q1  []  []  []\n2    2    False   True    q2  []  []  []\n3    3    False   True    q3  []  []  []\n4    4    False   True    q4  []  []  []\n5    5    False   True    q5  []  []  []",
      "text/html": "<div>\n<style scoped>\n    .dataframe tbody tr th:only-of-type {\n        vertical-align: middle;\n    }\n\n    .dataframe tbody tr th {\n        vertical-align: top;\n    }\n\n    .dataframe thead th {\n        text-align: right;\n    }\n</style>\n<table border=\"1\" class=\"dataframe\">\n  <thead>\n    <tr style=\"text-align: right;\">\n      <th></th>\n      <th>sid</th>\n      <th>initial</th>\n      <th>final</th>\n      <th>state</th>\n      <th>25</th>\n      <th>50</th>\n      <th>100</th>\n    </tr>\n  </thead>\n  <tbody>\n    <tr>\n      <th>0</th>\n      <td>0</td>\n      <td>True</td>\n      <td>True</td>\n      <td>q0</td>\n      <td>[]</td>\n      <td>[]</td>\n      <td>[]</td>\n    </tr>\n    <tr>\n      <th>1</th>\n      <td>1</td>\n      <td>False</td>\n      <td>True</td>\n      <td>q1</td>\n      <td>[]</td>\n      <td>[]</td>\n      <td>[]</td>\n    </tr>\n    <tr>\n      <th>2</th>\n      <td>2</td>\n      <td>False</td>\n      <td>True</td>\n      <td>q2</td>\n      <td>[]</td>\n      <td>[]</td>\n      <td>[]</td>\n    </tr>\n    <tr>\n      <th>3</th>\n      <td>3</td>\n      <td>False</td>\n      <td>True</td>\n      <td>q3</td>\n      <td>[]</td>\n      <td>[]</td>\n      <td>[]</td>\n    </tr>\n    <tr>\n      <th>4</th>\n      <td>4</td>\n      <td>False</td>\n      <td>True</td>\n      <td>q4</td>\n      <td>[]</td>\n      <td>[]</td>\n      <td>[]</td>\n    </tr>\n    <tr>\n      <th>5</th>\n      <td>5</td>\n      <td>False</td>\n      <td>True</td>\n      <td>q5</td>\n      <td>[]</td>\n      <td>[]</td>\n      <td>[]</td>\n    </tr>\n  </tbody>\n</table>\n</div>"
     },
     "execution_count": 25,
     "metadata": {},
     "output_type": "execute_result"
    }
   ],
   "source": [
    "transducer.tabular_notation"
   ],
   "metadata": {
    "collapsed": false
   }
  },
  {
   "cell_type": "code",
   "execution_count": 26,
   "outputs": [],
   "source": [
    "transducer.create_transaction(departure_label=\"q0\", arrival_label=\"q1\", symbol_label=\"25\", output_label=\"0\")\n",
    "transducer.create_transaction(departure_label=\"q0\", arrival_label=\"q4\", symbol_label=\"50\", output_label=\"0\")\n",
    "transducer.create_transaction(departure_label=\"q0\", arrival_label=\"q5\", symbol_label=\"100\", output_label=\"1\")\n",
    "\n",
    "transducer.create_transaction(departure_label=\"q1\", arrival_label=\"q1\", symbol_label=\"100\", output_label=\"1\")\n",
    "transducer.create_transaction(departure_label=\"q1\", arrival_label=\"q2\", symbol_label=\"25\", output_label=\"0\")\n",
    "transducer.create_transaction(departure_label=\"q1\", arrival_label=\"q3\", symbol_label=\"50\", output_label=\"0\")\n",
    "\n",
    "transducer.create_transaction(departure_label=\"q2\", arrival_label=\"q2\", symbol_label=\"100\", output_label=\"1\")\n",
    "transducer.create_transaction(departure_label=\"q2\", arrival_label=\"q3\", symbol_label=\"25\", output_label=\"0\")\n",
    "transducer.create_transaction(departure_label=\"q2\", arrival_label=\"q0\", symbol_label=\"50\", output_label=\"1\")\n",
    "\n",
    "transducer.create_transaction(departure_label=\"q3\", arrival_label=\"q3\", symbol_label=\"100\", output_label=\"1\")\n",
    "transducer.create_transaction(departure_label=\"q3\", arrival_label=\"q0\", symbol_label=\"25\", output_label=\"1\")\n",
    "transducer.create_transaction(departure_label=\"q3\", arrival_label=\"q1\", symbol_label=\"50\", output_label=\"1\")\n",
    "\n",
    "transducer.create_transaction(departure_label=\"q4\", arrival_label=\"q4\", symbol_label=\"100\", output_label=\"1\")\n",
    "transducer.create_transaction(departure_label=\"q4\", arrival_label=\"q0\", symbol_label=\"50\", output_label=\"1\")\n",
    "transducer.create_transaction(departure_label=\"q4\", arrival_label=\"q3\", symbol_label=\"25\", output_label=\"0\")\n",
    "\n",
    "transducer.create_transaction(departure_label=\"q5\", arrival_label=\"q5\", symbol_label=\"100\", output_label=\"1\")\n",
    "transducer.create_transaction(departure_label=\"q5\", arrival_label=\"q1\", symbol_label=\"25\", output_label=\"0\")\n",
    "transducer.create_transaction(departure_label=\"q5\", arrival_label=\"q4\", symbol_label=\"50\", output_label=\"0\")"
   ],
   "metadata": {
    "collapsed": false
   }
  },
  {
   "cell_type": "code",
   "execution_count": 27,
   "outputs": [
    {
     "name": "stdout",
     "output_type": "stream",
     "text": [
      "M3 = (\n",
      "\t{q0, q1, q2, q3, q4, q5},\n",
      "\t{25, 50, 100},\n",
      "\t{(q0,25/0)->q1, (q0,50/0)->q4, (q0,100/1)->q5, (q1,100/1)->q1, (q1,25/0)->q2, (q1,50/0)->q3, (q2,100/1)->q2, (q2,25/0)->q3, (q2,50/1)->q0, (q3,100/1)->q3, (q3,25/1)->q0, (q3,50/1)->q1, (q4,100/1)->q4, (q4,50/1)->q0, (q4,25/0)->q3, (q5,100/1)->q5, (q5,25/0)->q1, (q5,50/0)->q4},\n",
      "\tq0,\n",
      "\t{q0, q1, q2, q3, q4, q5}\n",
      ")\n"
     ]
    }
   ],
   "source": [
    "print(transducer)"
   ],
   "metadata": {
    "collapsed": false
   }
  },
  {
   "cell_type": "code",
   "execution_count": 28,
   "outputs": [
    {
     "data": {
      "text/plain": "   sid  initial  final state    25    50   100\n0    0     True   True    q0  [q1]  [q4]  [q5]\n1    1    False   True    q1  [q2]  [q3]  [q1]\n2    2    False   True    q2  [q3]  [q0]  [q2]\n3    3    False   True    q3  [q0]  [q1]  [q3]\n4    4    False   True    q4  [q3]  [q0]  [q4]\n5    5    False   True    q5  [q1]  [q4]  [q5]",
      "text/html": "<div>\n<style scoped>\n    .dataframe tbody tr th:only-of-type {\n        vertical-align: middle;\n    }\n\n    .dataframe tbody tr th {\n        vertical-align: top;\n    }\n\n    .dataframe thead th {\n        text-align: right;\n    }\n</style>\n<table border=\"1\" class=\"dataframe\">\n  <thead>\n    <tr style=\"text-align: right;\">\n      <th></th>\n      <th>sid</th>\n      <th>initial</th>\n      <th>final</th>\n      <th>state</th>\n      <th>25</th>\n      <th>50</th>\n      <th>100</th>\n    </tr>\n  </thead>\n  <tbody>\n    <tr>\n      <th>0</th>\n      <td>0</td>\n      <td>True</td>\n      <td>True</td>\n      <td>q0</td>\n      <td>[q1]</td>\n      <td>[q4]</td>\n      <td>[q5]</td>\n    </tr>\n    <tr>\n      <th>1</th>\n      <td>1</td>\n      <td>False</td>\n      <td>True</td>\n      <td>q1</td>\n      <td>[q2]</td>\n      <td>[q3]</td>\n      <td>[q1]</td>\n    </tr>\n    <tr>\n      <th>2</th>\n      <td>2</td>\n      <td>False</td>\n      <td>True</td>\n      <td>q2</td>\n      <td>[q3]</td>\n      <td>[q0]</td>\n      <td>[q2]</td>\n    </tr>\n    <tr>\n      <th>3</th>\n      <td>3</td>\n      <td>False</td>\n      <td>True</td>\n      <td>q3</td>\n      <td>[q0]</td>\n      <td>[q1]</td>\n      <td>[q3]</td>\n    </tr>\n    <tr>\n      <th>4</th>\n      <td>4</td>\n      <td>False</td>\n      <td>True</td>\n      <td>q4</td>\n      <td>[q3]</td>\n      <td>[q0]</td>\n      <td>[q4]</td>\n    </tr>\n    <tr>\n      <th>5</th>\n      <td>5</td>\n      <td>False</td>\n      <td>True</td>\n      <td>q5</td>\n      <td>[q1]</td>\n      <td>[q4]</td>\n      <td>[q5]</td>\n    </tr>\n  </tbody>\n</table>\n</div>"
     },
     "execution_count": 28,
     "metadata": {},
     "output_type": "execute_result"
    }
   ],
   "source": [
    "transducer.tabular_notation"
   ],
   "metadata": {
    "collapsed": false
   }
  },
  {
   "cell_type": "code",
   "execution_count": 29,
   "outputs": [
    {
     "data": {
      "text/plain": "   sid  initial  final state   25   50  100\n0    0     True   True    q0  [0]  [0]  [1]\n1    1    False   True    q1  [0]  [0]  [1]\n2    2    False   True    q2  [0]  [1]  [1]\n3    3    False   True    q3  [1]  [1]  [1]\n4    4    False   True    q4  [0]  [1]  [1]\n5    5    False   True    q5  [0]  [0]  [1]",
      "text/html": "<div>\n<style scoped>\n    .dataframe tbody tr th:only-of-type {\n        vertical-align: middle;\n    }\n\n    .dataframe tbody tr th {\n        vertical-align: top;\n    }\n\n    .dataframe thead th {\n        text-align: right;\n    }\n</style>\n<table border=\"1\" class=\"dataframe\">\n  <thead>\n    <tr style=\"text-align: right;\">\n      <th></th>\n      <th>sid</th>\n      <th>initial</th>\n      <th>final</th>\n      <th>state</th>\n      <th>25</th>\n      <th>50</th>\n      <th>100</th>\n    </tr>\n  </thead>\n  <tbody>\n    <tr>\n      <th>0</th>\n      <td>0</td>\n      <td>True</td>\n      <td>True</td>\n      <td>q0</td>\n      <td>[0]</td>\n      <td>[0]</td>\n      <td>[1]</td>\n    </tr>\n    <tr>\n      <th>1</th>\n      <td>1</td>\n      <td>False</td>\n      <td>True</td>\n      <td>q1</td>\n      <td>[0]</td>\n      <td>[0]</td>\n      <td>[1]</td>\n    </tr>\n    <tr>\n      <th>2</th>\n      <td>2</td>\n      <td>False</td>\n      <td>True</td>\n      <td>q2</td>\n      <td>[0]</td>\n      <td>[1]</td>\n      <td>[1]</td>\n    </tr>\n    <tr>\n      <th>3</th>\n      <td>3</td>\n      <td>False</td>\n      <td>True</td>\n      <td>q3</td>\n      <td>[1]</td>\n      <td>[1]</td>\n      <td>[1]</td>\n    </tr>\n    <tr>\n      <th>4</th>\n      <td>4</td>\n      <td>False</td>\n      <td>True</td>\n      <td>q4</td>\n      <td>[0]</td>\n      <td>[1]</td>\n      <td>[1]</td>\n    </tr>\n    <tr>\n      <th>5</th>\n      <td>5</td>\n      <td>False</td>\n      <td>True</td>\n      <td>q5</td>\n      <td>[0]</td>\n      <td>[0]</td>\n      <td>[1]</td>\n    </tr>\n  </tbody>\n</table>\n</div>"
     },
     "execution_count": 29,
     "metadata": {},
     "output_type": "execute_result"
    }
   ],
   "source": [
    "transducer.output_tabular_notation"
   ],
   "metadata": {
    "collapsed": false
   }
  },
  {
   "cell_type": "code",
   "execution_count": 30,
   "outputs": [
    {
     "name": "stdout",
     "output_type": "stream",
     "text": [
      "0\n",
      "0\n",
      "1\n",
      "1\n",
      "0\n",
      "1\n",
      "1\n"
     ]
    }
   ],
   "source": [
    "result: bool = transducer.recognize(string=[\"50\", \"25\", \"50\", \"100\", \"25\", \"50\", \"100\"])"
   ],
   "metadata": {
    "collapsed": false
   }
  },
  {
   "cell_type": "code",
   "execution_count": 31,
   "outputs": [
    {
     "data": {
      "text/plain": "True"
     },
     "execution_count": 31,
     "metadata": {},
     "output_type": "execute_result"
    }
   ],
   "source": [
    "result"
   ],
   "metadata": {
    "collapsed": false
   }
  },
  {
   "cell_type": "markdown",
   "source": [
    "# Questão 02"
   ],
   "metadata": {
    "collapsed": false
   }
  },
  {
   "cell_type": "markdown",
   "source": [
    "Implemente um autômato finito que reconheça todas as ocorrências da palavra _computador_ no texto T. O programa deve apontar em quais posições ocorreram o casamento exato da palavra.\n",
    "\n",
    "T = “O **computador** é uma máquina capaz de variados tipos de tratamento automático de informações ou processamento de dados. Entende-se por **computador** um sistema físico que realiza algum tipo de computação. Assumiu-se que os computadores pessoais e laptops são ícones da era da informação. O primeiro **computador** eletromecânico foi construído por Konrad Zuse (1910–1995). Atualmente, um microcomputador é também chamado **computador** pessoal ou ainda **computador** doméstico.”"
   ],
   "metadata": {
    "collapsed": false
   }
  },
  {
   "cell_type": "code",
   "execution_count": 32,
   "outputs": [],
   "source": [
    "text = \"O computador é uma máquina capaz de variados tipos de tratamento automático de informações ou processamento de dados. Entende-se por computador um sistema físico que realiza algum tipo de computação. Assumiu-se que os computadores pessoais e laptops são ícones da era da informação. O primeiro computador eletromecânico foi construído por Konrad Zuse (1910-1995). Atualmente, um microcomputador é também chamado computador pessoal ou ainda computador doméstico.\""
   ],
   "metadata": {
    "collapsed": false
   }
  },
  {
   "cell_type": "code",
   "execution_count": 33,
   "outputs": [
    {
     "name": "stdout",
     "output_type": "stream",
     "text": [
      "<re.Match object; span=(2, 12), match='computador'>\n",
      "<re.Match object; span=(133, 143), match='computador'>\n",
      "<re.Match object; span=(294, 304), match='computador'>\n",
      "<re.Match object; span=(412, 422), match='computador'>\n",
      "<re.Match object; span=(440, 450), match='computador'>\n"
     ]
    }
   ],
   "source": [
    "for match in re.finditer(r\"(?<![A-za-z0-9])computador(?![A-Za-z0-9])\", text):\n",
    "    print(match)"
   ],
   "metadata": {
    "collapsed": false
   }
  },
  {
   "cell_type": "code",
   "execution_count": 34,
   "outputs": [],
   "source": [
    "word = \"computador\""
   ],
   "metadata": {
    "collapsed": false
   }
  },
  {
   "cell_type": "code",
   "execution_count": 35,
   "outputs": [
    {
     "data": {
      "text/plain": "[A, B, C, D, E, F, G, H, I, J, K, L, M, N, O, P, Q, R, S, T, U, V, W, X, Y, Z, a, b, c, d, e, f, g, h, i, j, k, l, m, n, o, p, q, r, s, t, u, v, w, x, y, z, À, Á, Â, Ã, Ä, Å, Æ, Ç, È, É, Ê, Ë, Ì, Í, Î, Ï, Ð, Ñ, Ò, Ó, Ô, Õ, Ö, ×, Ø, Ù, Ú, Û, Ü, Ý, Þ, ß, à, á, â, ã, ä, å, æ, ç, è, é, ê, ë, ì, í, î, ï, ð, ñ, ò, ó, ô, õ, ö, 0, 1, 2, 3, 4, 5, 6, 7, 8, 9, ,, ., -, (, ),  ]"
     },
     "execution_count": 35,
     "metadata": {},
     "output_type": "execute_result"
    }
   ],
   "source": [
    "uppercase = [chr(c) for c in range(65, 91)]\n",
    "lowercase = [chr(c) for c in range(97, 123)]\n",
    "accented = [chr(c) for c in range(192, 247)]\n",
    "numbers = [str(i) for i in range(0,10)]\n",
    "punctuation = [\",\", \".\", \"-\", \"(\", \")\",]\n",
    "space = [\" \"]\n",
    "\n",
    "textual_alphabet: Alphabet = Alphabet(symbol_labels=uppercase+lowercase+accented+numbers+punctuation+space)\n",
    "textual_alphabet"
   ],
   "metadata": {
    "collapsed": false
   }
  },
  {
   "cell_type": "code",
   "execution_count": 36,
   "outputs": [],
   "source": [
    "occurence_transducer: Transducer = Transducer(\n",
    "    label=\"M2\",\n",
    "    alphabet=textual_alphabet,\n",
    "    output_alphabet=Alphabet([\"\", \"#\"])\n",
    ")"
   ],
   "metadata": {
    "collapsed": false
   }
  },
  {
   "cell_type": "code",
   "execution_count": 37,
   "outputs": [],
   "source": [
    "occurence_transducer.create_state(label=\"q0\", is_initial=True, is_final=True)\n",
    "\n",
    "for i in range(1, 12):\n",
    "    occurence_transducer.create_state(label=f\"q{i}\", is_initial=False, is_final=True)"
   ],
   "metadata": {
    "collapsed": false
   }
  },
  {
   "cell_type": "code",
   "execution_count": 38,
   "outputs": [],
   "source": [
    "# q0\n",
    "for s in uppercase+lowercase+accented+numbers+punctuation:\n",
    "    occurence_transducer.create_transaction(departure_label=\"q0\", arrival_label=\"q0\", symbol_label=s, output_label=\"\")\n",
    "\n",
    "occurence_transducer.create_transaction(departure_label=\"q0\", arrival_label=\"q1\", symbol_label=\" \", output_label=\"\")\n",
    "\n",
    "# q1 to q10 - following symbols of desired word\n",
    "for i, s in enumerate(word):\n",
    "    occurence_transducer.create_transaction(departure_label=f\"q{i+1}\", arrival_label=f\"q{i+2}\", symbol_label=s, output_label=\"\")\n",
    "\n",
    "# q1 to q10 - following symbols different of desired word\n",
    "for i, s in enumerate(word):\n",
    "    for c in uppercase+lowercase+accented+numbers+punctuation+space:\n",
    "        if c != s:\n",
    "            occurence_transducer.create_transaction(departure_label=f\"q{i+1}\", arrival_label=\"q0\", symbol_label=c, output_label=\"\")\n",
    "\n",
    "# q11\n",
    "for s in punctuation+space:\n",
    "    occurence_transducer.create_transaction(departure_label=\"q11\", arrival_label=\"q0\", symbol_label=s, output_label=\"#\")\n",
    "\n",
    "for s in uppercase+lowercase+accented+numbers:\n",
    "    occurence_transducer.create_transaction(departure_label=\"q11\", arrival_label=\"q0\", symbol_label=s, output_label=\"\")"
   ],
   "metadata": {
    "collapsed": false
   }
  },
  {
   "cell_type": "code",
   "execution_count": 39,
   "outputs": [
    {
     "name": "stdout",
     "output_type": "stream",
     "text": [
      "M2 = (\n",
      "\t{q0, q1, q2, q3, q4, q5, q6, q7, q8, q9, q10, q11},\n",
      "\t{A, B, C, D, E, F, G, H, I, J, K, L, M, N, O, P, Q, R, S, T, U, V, W, X, Y, Z, a, b, c, d, e, f, g, h, i, j, k, l, m, n, o, p, q, r, s, t, u, v, w, x, y, z, À, Á, Â, Ã, Ä, Å, Æ, Ç, È, É, Ê, Ë, Ì, Í, Î, Ï, Ð, Ñ, Ò, Ó, Ô, Õ, Ö, ×, Ø, Ù, Ú, Û, Ü, Ý, Þ, ß, à, á, â, ã, ä, å, æ, ç, è, é, ê, ë, ì, í, î, ï, ð, ñ, ò, ó, ô, õ, ö, 0, 1, 2, 3, 4, 5, 6, 7, 8, 9, ,, ., -, (, ),  },\n",
      "\t{(q0,A/)->q0, (q0,B/)->q0, (q0,C/)->q0, (q0,D/)->q0, (q0,E/)->q0, (q0,F/)->q0, (q0,G/)->q0, (q0,H/)->q0, (q0,I/)->q0, (q0,J/)->q0, (q0,K/)->q0, (q0,L/)->q0, (q0,M/)->q0, (q0,N/)->q0, (q0,O/)->q0, (q0,P/)->q0, (q0,Q/)->q0, (q0,R/)->q0, (q0,S/)->q0, (q0,T/)->q0, (q0,U/)->q0, (q0,V/)->q0, (q0,W/)->q0, (q0,X/)->q0, (q0,Y/)->q0, (q0,Z/)->q0, (q0,a/)->q0, (q0,b/)->q0, (q0,c/)->q0, (q0,d/)->q0, (q0,e/)->q0, (q0,f/)->q0, (q0,g/)->q0, (q0,h/)->q0, (q0,i/)->q0, (q0,j/)->q0, (q0,k/)->q0, (q0,l/)->q0, (q0,m/)->q0, (q0,n/)->q0, (q0,o/)->q0, (q0,p/)->q0, (q0,q/)->q0, (q0,r/)->q0, (q0,s/)->q0, (q0,t/)->q0, (q0,u/)->q0, (q0,v/)->q0, (q0,w/)->q0, (q0,x/)->q0, (q0,y/)->q0, (q0,z/)->q0, (q0,À/)->q0, (q0,Á/)->q0, (q0,Â/)->q0, (q0,Ã/)->q0, (q0,Ä/)->q0, (q0,Å/)->q0, (q0,Æ/)->q0, (q0,Ç/)->q0, (q0,È/)->q0, (q0,É/)->q0, (q0,Ê/)->q0, (q0,Ë/)->q0, (q0,Ì/)->q0, (q0,Í/)->q0, (q0,Î/)->q0, (q0,Ï/)->q0, (q0,Ð/)->q0, (q0,Ñ/)->q0, (q0,Ò/)->q0, (q0,Ó/)->q0, (q0,Ô/)->q0, (q0,Õ/)->q0, (q0,Ö/)->q0, (q0,×/)->q0, (q0,Ø/)->q0, (q0,Ù/)->q0, (q0,Ú/)->q0, (q0,Û/)->q0, (q0,Ü/)->q0, (q0,Ý/)->q0, (q0,Þ/)->q0, (q0,ß/)->q0, (q0,à/)->q0, (q0,á/)->q0, (q0,â/)->q0, (q0,ã/)->q0, (q0,ä/)->q0, (q0,å/)->q0, (q0,æ/)->q0, (q0,ç/)->q0, (q0,è/)->q0, (q0,é/)->q0, (q0,ê/)->q0, (q0,ë/)->q0, (q0,ì/)->q0, (q0,í/)->q0, (q0,î/)->q0, (q0,ï/)->q0, (q0,ð/)->q0, (q0,ñ/)->q0, (q0,ò/)->q0, (q0,ó/)->q0, (q0,ô/)->q0, (q0,õ/)->q0, (q0,ö/)->q0, (q0,0/)->q0, (q0,1/)->q0, (q0,2/)->q0, (q0,3/)->q0, (q0,4/)->q0, (q0,5/)->q0, (q0,6/)->q0, (q0,7/)->q0, (q0,8/)->q0, (q0,9/)->q0, (q0,,/)->q0, (q0,./)->q0, (q0,-/)->q0, (q0,(/)->q0, (q0,)/)->q0, (q0, /)->q1, (q1,c/)->q2, (q2,o/)->q3, (q3,m/)->q4, (q4,p/)->q5, (q5,u/)->q6, (q6,t/)->q7, (q7,a/)->q8, (q8,d/)->q9, (q9,o/)->q10, (q10,r/)->q11, (q1,A/)->q0, (q1,B/)->q0, (q1,C/)->q0, (q1,D/)->q0, (q1,E/)->q0, (q1,F/)->q0, (q1,G/)->q0, (q1,H/)->q0, (q1,I/)->q0, (q1,J/)->q0, (q1,K/)->q0, (q1,L/)->q0, (q1,M/)->q0, (q1,N/)->q0, (q1,O/)->q0, (q1,P/)->q0, (q1,Q/)->q0, (q1,R/)->q0, (q1,S/)->q0, (q1,T/)->q0, (q1,U/)->q0, (q1,V/)->q0, (q1,W/)->q0, (q1,X/)->q0, (q1,Y/)->q0, (q1,Z/)->q0, (q1,a/)->q0, (q1,b/)->q0, (q1,d/)->q0, (q1,e/)->q0, (q1,f/)->q0, (q1,g/)->q0, (q1,h/)->q0, (q1,i/)->q0, (q1,j/)->q0, (q1,k/)->q0, (q1,l/)->q0, (q1,m/)->q0, (q1,n/)->q0, (q1,o/)->q0, (q1,p/)->q0, (q1,q/)->q0, (q1,r/)->q0, (q1,s/)->q0, (q1,t/)->q0, (q1,u/)->q0, (q1,v/)->q0, (q1,w/)->q0, (q1,x/)->q0, (q1,y/)->q0, (q1,z/)->q0, (q1,À/)->q0, (q1,Á/)->q0, (q1,Â/)->q0, (q1,Ã/)->q0, (q1,Ä/)->q0, (q1,Å/)->q0, (q1,Æ/)->q0, (q1,Ç/)->q0, (q1,È/)->q0, (q1,É/)->q0, (q1,Ê/)->q0, (q1,Ë/)->q0, (q1,Ì/)->q0, (q1,Í/)->q0, (q1,Î/)->q0, (q1,Ï/)->q0, (q1,Ð/)->q0, (q1,Ñ/)->q0, (q1,Ò/)->q0, (q1,Ó/)->q0, (q1,Ô/)->q0, (q1,Õ/)->q0, (q1,Ö/)->q0, (q1,×/)->q0, (q1,Ø/)->q0, (q1,Ù/)->q0, (q1,Ú/)->q0, (q1,Û/)->q0, (q1,Ü/)->q0, (q1,Ý/)->q0, (q1,Þ/)->q0, (q1,ß/)->q0, (q1,à/)->q0, (q1,á/)->q0, (q1,â/)->q0, (q1,ã/)->q0, (q1,ä/)->q0, (q1,å/)->q0, (q1,æ/)->q0, (q1,ç/)->q0, (q1,è/)->q0, (q1,é/)->q0, (q1,ê/)->q0, (q1,ë/)->q0, (q1,ì/)->q0, (q1,í/)->q0, (q1,î/)->q0, (q1,ï/)->q0, (q1,ð/)->q0, (q1,ñ/)->q0, (q1,ò/)->q0, (q1,ó/)->q0, (q1,ô/)->q0, (q1,õ/)->q0, (q1,ö/)->q0, (q1,0/)->q0, (q1,1/)->q0, (q1,2/)->q0, (q1,3/)->q0, (q1,4/)->q0, (q1,5/)->q0, (q1,6/)->q0, (q1,7/)->q0, (q1,8/)->q0, (q1,9/)->q0, (q1,,/)->q0, (q1,./)->q0, (q1,-/)->q0, (q1,(/)->q0, (q1,)/)->q0, (q1, /)->q0, (q2,A/)->q0, (q2,B/)->q0, (q2,C/)->q0, (q2,D/)->q0, (q2,E/)->q0, (q2,F/)->q0, (q2,G/)->q0, (q2,H/)->q0, (q2,I/)->q0, (q2,J/)->q0, (q2,K/)->q0, (q2,L/)->q0, (q2,M/)->q0, (q2,N/)->q0, (q2,O/)->q0, (q2,P/)->q0, (q2,Q/)->q0, (q2,R/)->q0, (q2,S/)->q0, (q2,T/)->q0, (q2,U/)->q0, (q2,V/)->q0, (q2,W/)->q0, (q2,X/)->q0, (q2,Y/)->q0, (q2,Z/)->q0, (q2,a/)->q0, (q2,b/)->q0, (q2,c/)->q0, (q2,d/)->q0, (q2,e/)->q0, (q2,f/)->q0, (q2,g/)->q0, (q2,h/)->q0, (q2,i/)->q0, (q2,j/)->q0, (q2,k/)->q0, (q2,l/)->q0, (q2,m/)->q0, (q2,n/)->q0, (q2,p/)->q0, (q2,q/)->q0, (q2,r/)->q0, (q2,s/)->q0, (q2,t/)->q0, (q2,u/)->q0, (q2,v/)->q0, (q2,w/)->q0, (q2,x/)->q0, (q2,y/)->q0, (q2,z/)->q0, (q2,À/)->q0, (q2,Á/)->q0, (q2,Â/)->q0, (q2,Ã/)->q0, (q2,Ä/)->q0, (q2,Å/)->q0, (q2,Æ/)->q0, (q2,Ç/)->q0, (q2,È/)->q0, (q2,É/)->q0, (q2,Ê/)->q0, (q2,Ë/)->q0, (q2,Ì/)->q0, (q2,Í/)->q0, (q2,Î/)->q0, (q2,Ï/)->q0, (q2,Ð/)->q0, (q2,Ñ/)->q0, (q2,Ò/)->q0, (q2,Ó/)->q0, (q2,Ô/)->q0, (q2,Õ/)->q0, (q2,Ö/)->q0, (q2,×/)->q0, (q2,Ø/)->q0, (q2,Ù/)->q0, (q2,Ú/)->q0, (q2,Û/)->q0, (q2,Ü/)->q0, (q2,Ý/)->q0, (q2,Þ/)->q0, (q2,ß/)->q0, (q2,à/)->q0, (q2,á/)->q0, (q2,â/)->q0, (q2,ã/)->q0, (q2,ä/)->q0, (q2,å/)->q0, (q2,æ/)->q0, (q2,ç/)->q0, (q2,è/)->q0, (q2,é/)->q0, (q2,ê/)->q0, (q2,ë/)->q0, (q2,ì/)->q0, (q2,í/)->q0, (q2,î/)->q0, (q2,ï/)->q0, (q2,ð/)->q0, (q2,ñ/)->q0, (q2,ò/)->q0, (q2,ó/)->q0, (q2,ô/)->q0, (q2,õ/)->q0, (q2,ö/)->q0, (q2,0/)->q0, (q2,1/)->q0, (q2,2/)->q0, (q2,3/)->q0, (q2,4/)->q0, (q2,5/)->q0, (q2,6/)->q0, (q2,7/)->q0, (q2,8/)->q0, (q2,9/)->q0, (q2,,/)->q0, (q2,./)->q0, (q2,-/)->q0, (q2,(/)->q0, (q2,)/)->q0, (q2, /)->q0, (q3,A/)->q0, (q3,B/)->q0, (q3,C/)->q0, (q3,D/)->q0, (q3,E/)->q0, (q3,F/)->q0, (q3,G/)->q0, (q3,H/)->q0, (q3,I/)->q0, (q3,J/)->q0, (q3,K/)->q0, (q3,L/)->q0, (q3,M/)->q0, (q3,N/)->q0, (q3,O/)->q0, (q3,P/)->q0, (q3,Q/)->q0, (q3,R/)->q0, (q3,S/)->q0, (q3,T/)->q0, (q3,U/)->q0, (q3,V/)->q0, (q3,W/)->q0, (q3,X/)->q0, (q3,Y/)->q0, (q3,Z/)->q0, (q3,a/)->q0, (q3,b/)->q0, (q3,c/)->q0, (q3,d/)->q0, (q3,e/)->q0, (q3,f/)->q0, (q3,g/)->q0, (q3,h/)->q0, (q3,i/)->q0, (q3,j/)->q0, (q3,k/)->q0, (q3,l/)->q0, (q3,n/)->q0, (q3,o/)->q0, (q3,p/)->q0, (q3,q/)->q0, (q3,r/)->q0, (q3,s/)->q0, (q3,t/)->q0, (q3,u/)->q0, (q3,v/)->q0, (q3,w/)->q0, (q3,x/)->q0, (q3,y/)->q0, (q3,z/)->q0, (q3,À/)->q0, (q3,Á/)->q0, (q3,Â/)->q0, (q3,Ã/)->q0, (q3,Ä/)->q0, (q3,Å/)->q0, (q3,Æ/)->q0, (q3,Ç/)->q0, (q3,È/)->q0, (q3,É/)->q0, (q3,Ê/)->q0, (q3,Ë/)->q0, (q3,Ì/)->q0, (q3,Í/)->q0, (q3,Î/)->q0, (q3,Ï/)->q0, (q3,Ð/)->q0, (q3,Ñ/)->q0, (q3,Ò/)->q0, (q3,Ó/)->q0, (q3,Ô/)->q0, (q3,Õ/)->q0, (q3,Ö/)->q0, (q3,×/)->q0, (q3,Ø/)->q0, (q3,Ù/)->q0, (q3,Ú/)->q0, (q3,Û/)->q0, (q3,Ü/)->q0, (q3,Ý/)->q0, (q3,Þ/)->q0, (q3,ß/)->q0, (q3,à/)->q0, (q3,á/)->q0, (q3,â/)->q0, (q3,ã/)->q0, (q3,ä/)->q0, (q3,å/)->q0, (q3,æ/)->q0, (q3,ç/)->q0, (q3,è/)->q0, (q3,é/)->q0, (q3,ê/)->q0, (q3,ë/)->q0, (q3,ì/)->q0, (q3,í/)->q0, (q3,î/)->q0, (q3,ï/)->q0, (q3,ð/)->q0, (q3,ñ/)->q0, (q3,ò/)->q0, (q3,ó/)->q0, (q3,ô/)->q0, (q3,õ/)->q0, (q3,ö/)->q0, (q3,0/)->q0, (q3,1/)->q0, (q3,2/)->q0, (q3,3/)->q0, (q3,4/)->q0, (q3,5/)->q0, (q3,6/)->q0, (q3,7/)->q0, (q3,8/)->q0, (q3,9/)->q0, (q3,,/)->q0, (q3,./)->q0, (q3,-/)->q0, (q3,(/)->q0, (q3,)/)->q0, (q3, /)->q0, (q4,A/)->q0, (q4,B/)->q0, (q4,C/)->q0, (q4,D/)->q0, (q4,E/)->q0, (q4,F/)->q0, (q4,G/)->q0, (q4,H/)->q0, (q4,I/)->q0, (q4,J/)->q0, (q4,K/)->q0, (q4,L/)->q0, (q4,M/)->q0, (q4,N/)->q0, (q4,O/)->q0, (q4,P/)->q0, (q4,Q/)->q0, (q4,R/)->q0, (q4,S/)->q0, (q4,T/)->q0, (q4,U/)->q0, (q4,V/)->q0, (q4,W/)->q0, (q4,X/)->q0, (q4,Y/)->q0, (q4,Z/)->q0, (q4,a/)->q0, (q4,b/)->q0, (q4,c/)->q0, (q4,d/)->q0, (q4,e/)->q0, (q4,f/)->q0, (q4,g/)->q0, (q4,h/)->q0, (q4,i/)->q0, (q4,j/)->q0, (q4,k/)->q0, (q4,l/)->q0, (q4,m/)->q0, (q4,n/)->q0, (q4,o/)->q0, (q4,q/)->q0, (q4,r/)->q0, (q4,s/)->q0, (q4,t/)->q0, (q4,u/)->q0, (q4,v/)->q0, (q4,w/)->q0, (q4,x/)->q0, (q4,y/)->q0, (q4,z/)->q0, (q4,À/)->q0, (q4,Á/)->q0, (q4,Â/)->q0, (q4,Ã/)->q0, (q4,Ä/)->q0, (q4,Å/)->q0, (q4,Æ/)->q0, (q4,Ç/)->q0, (q4,È/)->q0, (q4,É/)->q0, (q4,Ê/)->q0, (q4,Ë/)->q0, (q4,Ì/)->q0, (q4,Í/)->q0, (q4,Î/)->q0, (q4,Ï/)->q0, (q4,Ð/)->q0, (q4,Ñ/)->q0, (q4,Ò/)->q0, (q4,Ó/)->q0, (q4,Ô/)->q0, (q4,Õ/)->q0, (q4,Ö/)->q0, (q4,×/)->q0, (q4,Ø/)->q0, (q4,Ù/)->q0, (q4,Ú/)->q0, (q4,Û/)->q0, (q4,Ü/)->q0, (q4,Ý/)->q0, (q4,Þ/)->q0, (q4,ß/)->q0, (q4,à/)->q0, (q4,á/)->q0, (q4,â/)->q0, (q4,ã/)->q0, (q4,ä/)->q0, (q4,å/)->q0, (q4,æ/)->q0, (q4,ç/)->q0, (q4,è/)->q0, (q4,é/)->q0, (q4,ê/)->q0, (q4,ë/)->q0, (q4,ì/)->q0, (q4,í/)->q0, (q4,î/)->q0, (q4,ï/)->q0, (q4,ð/)->q0, (q4,ñ/)->q0, (q4,ò/)->q0, (q4,ó/)->q0, (q4,ô/)->q0, (q4,õ/)->q0, (q4,ö/)->q0, (q4,0/)->q0, (q4,1/)->q0, (q4,2/)->q0, (q4,3/)->q0, (q4,4/)->q0, (q4,5/)->q0, (q4,6/)->q0, (q4,7/)->q0, (q4,8/)->q0, (q4,9/)->q0, (q4,,/)->q0, (q4,./)->q0, (q4,-/)->q0, (q4,(/)->q0, (q4,)/)->q0, (q4, /)->q0, (q5,A/)->q0, (q5,B/)->q0, (q5,C/)->q0, (q5,D/)->q0, (q5,E/)->q0, (q5,F/)->q0, (q5,G/)->q0, (q5,H/)->q0, (q5,I/)->q0, (q5,J/)->q0, (q5,K/)->q0, (q5,L/)->q0, (q5,M/)->q0, (q5,N/)->q0, (q5,O/)->q0, (q5,P/)->q0, (q5,Q/)->q0, (q5,R/)->q0, (q5,S/)->q0, (q5,T/)->q0, (q5,U/)->q0, (q5,V/)->q0, (q5,W/)->q0, (q5,X/)->q0, (q5,Y/)->q0, (q5,Z/)->q0, (q5,a/)->q0, (q5,b/)->q0, (q5,c/)->q0, (q5,d/)->q0, (q5,e/)->q0, (q5,f/)->q0, (q5,g/)->q0, (q5,h/)->q0, (q5,i/)->q0, (q5,j/)->q0, (q5,k/)->q0, (q5,l/)->q0, (q5,m/)->q0, (q5,n/)->q0, (q5,o/)->q0, (q5,p/)->q0, (q5,q/)->q0, (q5,r/)->q0, (q5,s/)->q0, (q5,t/)->q0, (q5,v/)->q0, (q5,w/)->q0, (q5,x/)->q0, (q5,y/)->q0, (q5,z/)->q0, (q5,À/)->q0, (q5,Á/)->q0, (q5,Â/)->q0, (q5,Ã/)->q0, (q5,Ä/)->q0, (q5,Å/)->q0, (q5,Æ/)->q0, (q5,Ç/)->q0, (q5,È/)->q0, (q5,É/)->q0, (q5,Ê/)->q0, (q5,Ë/)->q0, (q5,Ì/)->q0, (q5,Í/)->q0, (q5,Î/)->q0, (q5,Ï/)->q0, (q5,Ð/)->q0, (q5,Ñ/)->q0, (q5,Ò/)->q0, (q5,Ó/)->q0, (q5,Ô/)->q0, (q5,Õ/)->q0, (q5,Ö/)->q0, (q5,×/)->q0, (q5,Ø/)->q0, (q5,Ù/)->q0, (q5,Ú/)->q0, (q5,Û/)->q0, (q5,Ü/)->q0, (q5,Ý/)->q0, (q5,Þ/)->q0, (q5,ß/)->q0, (q5,à/)->q0, (q5,á/)->q0, (q5,â/)->q0, (q5,ã/)->q0, (q5,ä/)->q0, (q5,å/)->q0, (q5,æ/)->q0, (q5,ç/)->q0, (q5,è/)->q0, (q5,é/)->q0, (q5,ê/)->q0, (q5,ë/)->q0, (q5,ì/)->q0, (q5,í/)->q0, (q5,î/)->q0, (q5,ï/)->q0, (q5,ð/)->q0, (q5,ñ/)->q0, (q5,ò/)->q0, (q5,ó/)->q0, (q5,ô/)->q0, (q5,õ/)->q0, (q5,ö/)->q0, (q5,0/)->q0, (q5,1/)->q0, (q5,2/)->q0, (q5,3/)->q0, (q5,4/)->q0, (q5,5/)->q0, (q5,6/)->q0, (q5,7/)->q0, (q5,8/)->q0, (q5,9/)->q0, (q5,,/)->q0, (q5,./)->q0, (q5,-/)->q0, (q5,(/)->q0, (q5,)/)->q0, (q5, /)->q0, (q6,A/)->q0, (q6,B/)->q0, (q6,C/)->q0, (q6,D/)->q0, (q6,E/)->q0, (q6,F/)->q0, (q6,G/)->q0, (q6,H/)->q0, (q6,I/)->q0, (q6,J/)->q0, (q6,K/)->q0, (q6,L/)->q0, (q6,M/)->q0, (q6,N/)->q0, (q6,O/)->q0, (q6,P/)->q0, (q6,Q/)->q0, (q6,R/)->q0, (q6,S/)->q0, (q6,T/)->q0, (q6,U/)->q0, (q6,V/)->q0, (q6,W/)->q0, (q6,X/)->q0, (q6,Y/)->q0, (q6,Z/)->q0, (q6,a/)->q0, (q6,b/)->q0, (q6,c/)->q0, (q6,d/)->q0, (q6,e/)->q0, (q6,f/)->q0, (q6,g/)->q0, (q6,h/)->q0, (q6,i/)->q0, (q6,j/)->q0, (q6,k/)->q0, (q6,l/)->q0, (q6,m/)->q0, (q6,n/)->q0, (q6,o/)->q0, (q6,p/)->q0, (q6,q/)->q0, (q6,r/)->q0, (q6,s/)->q0, (q6,u/)->q0, (q6,v/)->q0, (q6,w/)->q0, (q6,x/)->q0, (q6,y/)->q0, (q6,z/)->q0, (q6,À/)->q0, (q6,Á/)->q0, (q6,Â/)->q0, (q6,Ã/)->q0, (q6,Ä/)->q0, (q6,Å/)->q0, (q6,Æ/)->q0, (q6,Ç/)->q0, (q6,È/)->q0, (q6,É/)->q0, (q6,Ê/)->q0, (q6,Ë/)->q0, (q6,Ì/)->q0, (q6,Í/)->q0, (q6,Î/)->q0, (q6,Ï/)->q0, (q6,Ð/)->q0, (q6,Ñ/)->q0, (q6,Ò/)->q0, (q6,Ó/)->q0, (q6,Ô/)->q0, (q6,Õ/)->q0, (q6,Ö/)->q0, (q6,×/)->q0, (q6,Ø/)->q0, (q6,Ù/)->q0, (q6,Ú/)->q0, (q6,Û/)->q0, (q6,Ü/)->q0, (q6,Ý/)->q0, (q6,Þ/)->q0, (q6,ß/)->q0, (q6,à/)->q0, (q6,á/)->q0, (q6,â/)->q0, (q6,ã/)->q0, (q6,ä/)->q0, (q6,å/)->q0, (q6,æ/)->q0, (q6,ç/)->q0, (q6,è/)->q0, (q6,é/)->q0, (q6,ê/)->q0, (q6,ë/)->q0, (q6,ì/)->q0, (q6,í/)->q0, (q6,î/)->q0, (q6,ï/)->q0, (q6,ð/)->q0, (q6,ñ/)->q0, (q6,ò/)->q0, (q6,ó/)->q0, (q6,ô/)->q0, (q6,õ/)->q0, (q6,ö/)->q0, (q6,0/)->q0, (q6,1/)->q0, (q6,2/)->q0, (q6,3/)->q0, (q6,4/)->q0, (q6,5/)->q0, (q6,6/)->q0, (q6,7/)->q0, (q6,8/)->q0, (q6,9/)->q0, (q6,,/)->q0, (q6,./)->q0, (q6,-/)->q0, (q6,(/)->q0, (q6,)/)->q0, (q6, /)->q0, (q7,A/)->q0, (q7,B/)->q0, (q7,C/)->q0, (q7,D/)->q0, (q7,E/)->q0, (q7,F/)->q0, (q7,G/)->q0, (q7,H/)->q0, (q7,I/)->q0, (q7,J/)->q0, (q7,K/)->q0, (q7,L/)->q0, (q7,M/)->q0, (q7,N/)->q0, (q7,O/)->q0, (q7,P/)->q0, (q7,Q/)->q0, (q7,R/)->q0, (q7,S/)->q0, (q7,T/)->q0, (q7,U/)->q0, (q7,V/)->q0, (q7,W/)->q0, (q7,X/)->q0, (q7,Y/)->q0, (q7,Z/)->q0, (q7,b/)->q0, (q7,c/)->q0, (q7,d/)->q0, (q7,e/)->q0, (q7,f/)->q0, (q7,g/)->q0, (q7,h/)->q0, (q7,i/)->q0, (q7,j/)->q0, (q7,k/)->q0, (q7,l/)->q0, (q7,m/)->q0, (q7,n/)->q0, (q7,o/)->q0, (q7,p/)->q0, (q7,q/)->q0, (q7,r/)->q0, (q7,s/)->q0, (q7,t/)->q0, (q7,u/)->q0, (q7,v/)->q0, (q7,w/)->q0, (q7,x/)->q0, (q7,y/)->q0, (q7,z/)->q0, (q7,À/)->q0, (q7,Á/)->q0, (q7,Â/)->q0, (q7,Ã/)->q0, (q7,Ä/)->q0, (q7,Å/)->q0, (q7,Æ/)->q0, (q7,Ç/)->q0, (q7,È/)->q0, (q7,É/)->q0, (q7,Ê/)->q0, (q7,Ë/)->q0, (q7,Ì/)->q0, (q7,Í/)->q0, (q7,Î/)->q0, (q7,Ï/)->q0, (q7,Ð/)->q0, (q7,Ñ/)->q0, (q7,Ò/)->q0, (q7,Ó/)->q0, (q7,Ô/)->q0, (q7,Õ/)->q0, (q7,Ö/)->q0, (q7,×/)->q0, (q7,Ø/)->q0, (q7,Ù/)->q0, (q7,Ú/)->q0, (q7,Û/)->q0, (q7,Ü/)->q0, (q7,Ý/)->q0, (q7,Þ/)->q0, (q7,ß/)->q0, (q7,à/)->q0, (q7,á/)->q0, (q7,â/)->q0, (q7,ã/)->q0, (q7,ä/)->q0, (q7,å/)->q0, (q7,æ/)->q0, (q7,ç/)->q0, (q7,è/)->q0, (q7,é/)->q0, (q7,ê/)->q0, (q7,ë/)->q0, (q7,ì/)->q0, (q7,í/)->q0, (q7,î/)->q0, (q7,ï/)->q0, (q7,ð/)->q0, (q7,ñ/)->q0, (q7,ò/)->q0, (q7,ó/)->q0, (q7,ô/)->q0, (q7,õ/)->q0, (q7,ö/)->q0, (q7,0/)->q0, (q7,1/)->q0, (q7,2/)->q0, (q7,3/)->q0, (q7,4/)->q0, (q7,5/)->q0, (q7,6/)->q0, (q7,7/)->q0, (q7,8/)->q0, (q7,9/)->q0, (q7,,/)->q0, (q7,./)->q0, (q7,-/)->q0, (q7,(/)->q0, (q7,)/)->q0, (q7, /)->q0, (q8,A/)->q0, (q8,B/)->q0, (q8,C/)->q0, (q8,D/)->q0, (q8,E/)->q0, (q8,F/)->q0, (q8,G/)->q0, (q8,H/)->q0, (q8,I/)->q0, (q8,J/)->q0, (q8,K/)->q0, (q8,L/)->q0, (q8,M/)->q0, (q8,N/)->q0, (q8,O/)->q0, (q8,P/)->q0, (q8,Q/)->q0, (q8,R/)->q0, (q8,S/)->q0, (q8,T/)->q0, (q8,U/)->q0, (q8,V/)->q0, (q8,W/)->q0, (q8,X/)->q0, (q8,Y/)->q0, (q8,Z/)->q0, (q8,a/)->q0, (q8,b/)->q0, (q8,c/)->q0, (q8,e/)->q0, (q8,f/)->q0, (q8,g/)->q0, (q8,h/)->q0, (q8,i/)->q0, (q8,j/)->q0, (q8,k/)->q0, (q8,l/)->q0, (q8,m/)->q0, (q8,n/)->q0, (q8,o/)->q0, (q8,p/)->q0, (q8,q/)->q0, (q8,r/)->q0, (q8,s/)->q0, (q8,t/)->q0, (q8,u/)->q0, (q8,v/)->q0, (q8,w/)->q0, (q8,x/)->q0, (q8,y/)->q0, (q8,z/)->q0, (q8,À/)->q0, (q8,Á/)->q0, (q8,Â/)->q0, (q8,Ã/)->q0, (q8,Ä/)->q0, (q8,Å/)->q0, (q8,Æ/)->q0, (q8,Ç/)->q0, (q8,È/)->q0, (q8,É/)->q0, (q8,Ê/)->q0, (q8,Ë/)->q0, (q8,Ì/)->q0, (q8,Í/)->q0, (q8,Î/)->q0, (q8,Ï/)->q0, (q8,Ð/)->q0, (q8,Ñ/)->q0, (q8,Ò/)->q0, (q8,Ó/)->q0, (q8,Ô/)->q0, (q8,Õ/)->q0, (q8,Ö/)->q0, (q8,×/)->q0, (q8,Ø/)->q0, (q8,Ù/)->q0, (q8,Ú/)->q0, (q8,Û/)->q0, (q8,Ü/)->q0, (q8,Ý/)->q0, (q8,Þ/)->q0, (q8,ß/)->q0, (q8,à/)->q0, (q8,á/)->q0, (q8,â/)->q0, (q8,ã/)->q0, (q8,ä/)->q0, (q8,å/)->q0, (q8,æ/)->q0, (q8,ç/)->q0, (q8,è/)->q0, (q8,é/)->q0, (q8,ê/)->q0, (q8,ë/)->q0, (q8,ì/)->q0, (q8,í/)->q0, (q8,î/)->q0, (q8,ï/)->q0, (q8,ð/)->q0, (q8,ñ/)->q0, (q8,ò/)->q0, (q8,ó/)->q0, (q8,ô/)->q0, (q8,õ/)->q0, (q8,ö/)->q0, (q8,0/)->q0, (q8,1/)->q0, (q8,2/)->q0, (q8,3/)->q0, (q8,4/)->q0, (q8,5/)->q0, (q8,6/)->q0, (q8,7/)->q0, (q8,8/)->q0, (q8,9/)->q0, (q8,,/)->q0, (q8,./)->q0, (q8,-/)->q0, (q8,(/)->q0, (q8,)/)->q0, (q8, /)->q0, (q9,A/)->q0, (q9,B/)->q0, (q9,C/)->q0, (q9,D/)->q0, (q9,E/)->q0, (q9,F/)->q0, (q9,G/)->q0, (q9,H/)->q0, (q9,I/)->q0, (q9,J/)->q0, (q9,K/)->q0, (q9,L/)->q0, (q9,M/)->q0, (q9,N/)->q0, (q9,O/)->q0, (q9,P/)->q0, (q9,Q/)->q0, (q9,R/)->q0, (q9,S/)->q0, (q9,T/)->q0, (q9,U/)->q0, (q9,V/)->q0, (q9,W/)->q0, (q9,X/)->q0, (q9,Y/)->q0, (q9,Z/)->q0, (q9,a/)->q0, (q9,b/)->q0, (q9,c/)->q0, (q9,d/)->q0, (q9,e/)->q0, (q9,f/)->q0, (q9,g/)->q0, (q9,h/)->q0, (q9,i/)->q0, (q9,j/)->q0, (q9,k/)->q0, (q9,l/)->q0, (q9,m/)->q0, (q9,n/)->q0, (q9,p/)->q0, (q9,q/)->q0, (q9,r/)->q0, (q9,s/)->q0, (q9,t/)->q0, (q9,u/)->q0, (q9,v/)->q0, (q9,w/)->q0, (q9,x/)->q0, (q9,y/)->q0, (q9,z/)->q0, (q9,À/)->q0, (q9,Á/)->q0, (q9,Â/)->q0, (q9,Ã/)->q0, (q9,Ä/)->q0, (q9,Å/)->q0, (q9,Æ/)->q0, (q9,Ç/)->q0, (q9,È/)->q0, (q9,É/)->q0, (q9,Ê/)->q0, (q9,Ë/)->q0, (q9,Ì/)->q0, (q9,Í/)->q0, (q9,Î/)->q0, (q9,Ï/)->q0, (q9,Ð/)->q0, (q9,Ñ/)->q0, (q9,Ò/)->q0, (q9,Ó/)->q0, (q9,Ô/)->q0, (q9,Õ/)->q0, (q9,Ö/)->q0, (q9,×/)->q0, (q9,Ø/)->q0, (q9,Ù/)->q0, (q9,Ú/)->q0, (q9,Û/)->q0, (q9,Ü/)->q0, (q9,Ý/)->q0, (q9,Þ/)->q0, (q9,ß/)->q0, (q9,à/)->q0, (q9,á/)->q0, (q9,â/)->q0, (q9,ã/)->q0, (q9,ä/)->q0, (q9,å/)->q0, (q9,æ/)->q0, (q9,ç/)->q0, (q9,è/)->q0, (q9,é/)->q0, (q9,ê/)->q0, (q9,ë/)->q0, (q9,ì/)->q0, (q9,í/)->q0, (q9,î/)->q0, (q9,ï/)->q0, (q9,ð/)->q0, (q9,ñ/)->q0, (q9,ò/)->q0, (q9,ó/)->q0, (q9,ô/)->q0, (q9,õ/)->q0, (q9,ö/)->q0, (q9,0/)->q0, (q9,1/)->q0, (q9,2/)->q0, (q9,3/)->q0, (q9,4/)->q0, (q9,5/)->q0, (q9,6/)->q0, (q9,7/)->q0, (q9,8/)->q0, (q9,9/)->q0, (q9,,/)->q0, (q9,./)->q0, (q9,-/)->q0, (q9,(/)->q0, (q9,)/)->q0, (q9, /)->q0, (q10,A/)->q0, (q10,B/)->q0, (q10,C/)->q0, (q10,D/)->q0, (q10,E/)->q0, (q10,F/)->q0, (q10,G/)->q0, (q10,H/)->q0, (q10,I/)->q0, (q10,J/)->q0, (q10,K/)->q0, (q10,L/)->q0, (q10,M/)->q0, (q10,N/)->q0, (q10,O/)->q0, (q10,P/)->q0, (q10,Q/)->q0, (q10,R/)->q0, (q10,S/)->q0, (q10,T/)->q0, (q10,U/)->q0, (q10,V/)->q0, (q10,W/)->q0, (q10,X/)->q0, (q10,Y/)->q0, (q10,Z/)->q0, (q10,a/)->q0, (q10,b/)->q0, (q10,c/)->q0, (q10,d/)->q0, (q10,e/)->q0, (q10,f/)->q0, (q10,g/)->q0, (q10,h/)->q0, (q10,i/)->q0, (q10,j/)->q0, (q10,k/)->q0, (q10,l/)->q0, (q10,m/)->q0, (q10,n/)->q0, (q10,o/)->q0, (q10,p/)->q0, (q10,q/)->q0, (q10,s/)->q0, (q10,t/)->q0, (q10,u/)->q0, (q10,v/)->q0, (q10,w/)->q0, (q10,x/)->q0, (q10,y/)->q0, (q10,z/)->q0, (q10,À/)->q0, (q10,Á/)->q0, (q10,Â/)->q0, (q10,Ã/)->q0, (q10,Ä/)->q0, (q10,Å/)->q0, (q10,Æ/)->q0, (q10,Ç/)->q0, (q10,È/)->q0, (q10,É/)->q0, (q10,Ê/)->q0, (q10,Ë/)->q0, (q10,Ì/)->q0, (q10,Í/)->q0, (q10,Î/)->q0, (q10,Ï/)->q0, (q10,Ð/)->q0, (q10,Ñ/)->q0, (q10,Ò/)->q0, (q10,Ó/)->q0, (q10,Ô/)->q0, (q10,Õ/)->q0, (q10,Ö/)->q0, (q10,×/)->q0, (q10,Ø/)->q0, (q10,Ù/)->q0, (q10,Ú/)->q0, (q10,Û/)->q0, (q10,Ü/)->q0, (q10,Ý/)->q0, (q10,Þ/)->q0, (q10,ß/)->q0, (q10,à/)->q0, (q10,á/)->q0, (q10,â/)->q0, (q10,ã/)->q0, (q10,ä/)->q0, (q10,å/)->q0, (q10,æ/)->q0, (q10,ç/)->q0, (q10,è/)->q0, (q10,é/)->q0, (q10,ê/)->q0, (q10,ë/)->q0, (q10,ì/)->q0, (q10,í/)->q0, (q10,î/)->q0, (q10,ï/)->q0, (q10,ð/)->q0, (q10,ñ/)->q0, (q10,ò/)->q0, (q10,ó/)->q0, (q10,ô/)->q0, (q10,õ/)->q0, (q10,ö/)->q0, (q10,0/)->q0, (q10,1/)->q0, (q10,2/)->q0, (q10,3/)->q0, (q10,4/)->q0, (q10,5/)->q0, (q10,6/)->q0, (q10,7/)->q0, (q10,8/)->q0, (q10,9/)->q0, (q10,,/)->q0, (q10,./)->q0, (q10,-/)->q0, (q10,(/)->q0, (q10,)/)->q0, (q10, /)->q0, (q11,,/#)->q0, (q11,./#)->q0, (q11,-/#)->q0, (q11,(/#)->q0, (q11,)/#)->q0, (q11, /#)->q0, (q11,A/)->q0, (q11,B/)->q0, (q11,C/)->q0, (q11,D/)->q0, (q11,E/)->q0, (q11,F/)->q0, (q11,G/)->q0, (q11,H/)->q0, (q11,I/)->q0, (q11,J/)->q0, (q11,K/)->q0, (q11,L/)->q0, (q11,M/)->q0, (q11,N/)->q0, (q11,O/)->q0, (q11,P/)->q0, (q11,Q/)->q0, (q11,R/)->q0, (q11,S/)->q0, (q11,T/)->q0, (q11,U/)->q0, (q11,V/)->q0, (q11,W/)->q0, (q11,X/)->q0, (q11,Y/)->q0, (q11,Z/)->q0, (q11,a/)->q0, (q11,b/)->q0, (q11,c/)->q0, (q11,d/)->q0, (q11,e/)->q0, (q11,f/)->q0, (q11,g/)->q0, (q11,h/)->q0, (q11,i/)->q0, (q11,j/)->q0, (q11,k/)->q0, (q11,l/)->q0, (q11,m/)->q0, (q11,n/)->q0, (q11,o/)->q0, (q11,p/)->q0, (q11,q/)->q0, (q11,r/)->q0, (q11,s/)->q0, (q11,t/)->q0, (q11,u/)->q0, (q11,v/)->q0, (q11,w/)->q0, (q11,x/)->q0, (q11,y/)->q0, (q11,z/)->q0, (q11,À/)->q0, (q11,Á/)->q0, (q11,Â/)->q0, (q11,Ã/)->q0, (q11,Ä/)->q0, (q11,Å/)->q0, (q11,Æ/)->q0, (q11,Ç/)->q0, (q11,È/)->q0, (q11,É/)->q0, (q11,Ê/)->q0, (q11,Ë/)->q0, (q11,Ì/)->q0, (q11,Í/)->q0, (q11,Î/)->q0, (q11,Ï/)->q0, (q11,Ð/)->q0, (q11,Ñ/)->q0, (q11,Ò/)->q0, (q11,Ó/)->q0, (q11,Ô/)->q0, (q11,Õ/)->q0, (q11,Ö/)->q0, (q11,×/)->q0, (q11,Ø/)->q0, (q11,Ù/)->q0, (q11,Ú/)->q0, (q11,Û/)->q0, (q11,Ü/)->q0, (q11,Ý/)->q0, (q11,Þ/)->q0, (q11,ß/)->q0, (q11,à/)->q0, (q11,á/)->q0, (q11,â/)->q0, (q11,ã/)->q0, (q11,ä/)->q0, (q11,å/)->q0, (q11,æ/)->q0, (q11,ç/)->q0, (q11,è/)->q0, (q11,é/)->q0, (q11,ê/)->q0, (q11,ë/)->q0, (q11,ì/)->q0, (q11,í/)->q0, (q11,î/)->q0, (q11,ï/)->q0, (q11,ð/)->q0, (q11,ñ/)->q0, (q11,ò/)->q0, (q11,ó/)->q0, (q11,ô/)->q0, (q11,õ/)->q0, (q11,ö/)->q0, (q11,0/)->q0, (q11,1/)->q0, (q11,2/)->q0, (q11,3/)->q0, (q11,4/)->q0, (q11,5/)->q0, (q11,6/)->q0, (q11,7/)->q0, (q11,8/)->q0, (q11,9/)->q0},\n",
      "\tq0,\n",
      "\t{q0, q1, q2, q3, q4, q5, q6, q7, q8, q9, q10, q11}\n",
      ")\n"
     ]
    }
   ],
   "source": [
    "print(occurence_transducer)"
   ],
   "metadata": {
    "collapsed": false
   }
  },
  {
   "cell_type": "code",
   "execution_count": 40,
   "outputs": [
    {
     "data": {
      "text/plain": "    sid  initial  final state     A     B     C     D     E     F  ...     6   \n0     0     True   True    q0  [q0]  [q0]  [q0]  [q0]  [q0]  [q0]  ...  [q0]  \\\n1     1    False   True    q1  [q0]  [q0]  [q0]  [q0]  [q0]  [q0]  ...  [q0]   \n2     2    False   True    q2  [q0]  [q0]  [q0]  [q0]  [q0]  [q0]  ...  [q0]   \n3     3    False   True    q3  [q0]  [q0]  [q0]  [q0]  [q0]  [q0]  ...  [q0]   \n4     4    False   True    q4  [q0]  [q0]  [q0]  [q0]  [q0]  [q0]  ...  [q0]   \n5     5    False   True    q5  [q0]  [q0]  [q0]  [q0]  [q0]  [q0]  ...  [q0]   \n6     6    False   True    q6  [q0]  [q0]  [q0]  [q0]  [q0]  [q0]  ...  [q0]   \n7     7    False   True    q7  [q0]  [q0]  [q0]  [q0]  [q0]  [q0]  ...  [q0]   \n8     8    False   True    q8  [q0]  [q0]  [q0]  [q0]  [q0]  [q0]  ...  [q0]   \n9     9    False   True    q9  [q0]  [q0]  [q0]  [q0]  [q0]  [q0]  ...  [q0]   \n10   10    False   True   q10  [q0]  [q0]  [q0]  [q0]  [q0]  [q0]  ...  [q0]   \n11   11    False   True   q11  [q0]  [q0]  [q0]  [q0]  [q0]  [q0]  ...  [q0]   \n\n       7     8     9     ,     .     -     (     )        \n0   [q0]  [q0]  [q0]  [q0]  [q0]  [q0]  [q0]  [q0]  [q1]  \n1   [q0]  [q0]  [q0]  [q0]  [q0]  [q0]  [q0]  [q0]  [q0]  \n2   [q0]  [q0]  [q0]  [q0]  [q0]  [q0]  [q0]  [q0]  [q0]  \n3   [q0]  [q0]  [q0]  [q0]  [q0]  [q0]  [q0]  [q0]  [q0]  \n4   [q0]  [q0]  [q0]  [q0]  [q0]  [q0]  [q0]  [q0]  [q0]  \n5   [q0]  [q0]  [q0]  [q0]  [q0]  [q0]  [q0]  [q0]  [q0]  \n6   [q0]  [q0]  [q0]  [q0]  [q0]  [q0]  [q0]  [q0]  [q0]  \n7   [q0]  [q0]  [q0]  [q0]  [q0]  [q0]  [q0]  [q0]  [q0]  \n8   [q0]  [q0]  [q0]  [q0]  [q0]  [q0]  [q0]  [q0]  [q0]  \n9   [q0]  [q0]  [q0]  [q0]  [q0]  [q0]  [q0]  [q0]  [q0]  \n10  [q0]  [q0]  [q0]  [q0]  [q0]  [q0]  [q0]  [q0]  [q0]  \n11  [q0]  [q0]  [q0]  [q0]  [q0]  [q0]  [q0]  [q0]  [q0]  \n\n[12 rows x 127 columns]",
      "text/html": "<div>\n<style scoped>\n    .dataframe tbody tr th:only-of-type {\n        vertical-align: middle;\n    }\n\n    .dataframe tbody tr th {\n        vertical-align: top;\n    }\n\n    .dataframe thead th {\n        text-align: right;\n    }\n</style>\n<table border=\"1\" class=\"dataframe\">\n  <thead>\n    <tr style=\"text-align: right;\">\n      <th></th>\n      <th>sid</th>\n      <th>initial</th>\n      <th>final</th>\n      <th>state</th>\n      <th>A</th>\n      <th>B</th>\n      <th>C</th>\n      <th>D</th>\n      <th>E</th>\n      <th>F</th>\n      <th>...</th>\n      <th>6</th>\n      <th>7</th>\n      <th>8</th>\n      <th>9</th>\n      <th>,</th>\n      <th>.</th>\n      <th>-</th>\n      <th>(</th>\n      <th>)</th>\n      <th></th>\n    </tr>\n  </thead>\n  <tbody>\n    <tr>\n      <th>0</th>\n      <td>0</td>\n      <td>True</td>\n      <td>True</td>\n      <td>q0</td>\n      <td>[q0]</td>\n      <td>[q0]</td>\n      <td>[q0]</td>\n      <td>[q0]</td>\n      <td>[q0]</td>\n      <td>[q0]</td>\n      <td>...</td>\n      <td>[q0]</td>\n      <td>[q0]</td>\n      <td>[q0]</td>\n      <td>[q0]</td>\n      <td>[q0]</td>\n      <td>[q0]</td>\n      <td>[q0]</td>\n      <td>[q0]</td>\n      <td>[q0]</td>\n      <td>[q1]</td>\n    </tr>\n    <tr>\n      <th>1</th>\n      <td>1</td>\n      <td>False</td>\n      <td>True</td>\n      <td>q1</td>\n      <td>[q0]</td>\n      <td>[q0]</td>\n      <td>[q0]</td>\n      <td>[q0]</td>\n      <td>[q0]</td>\n      <td>[q0]</td>\n      <td>...</td>\n      <td>[q0]</td>\n      <td>[q0]</td>\n      <td>[q0]</td>\n      <td>[q0]</td>\n      <td>[q0]</td>\n      <td>[q0]</td>\n      <td>[q0]</td>\n      <td>[q0]</td>\n      <td>[q0]</td>\n      <td>[q0]</td>\n    </tr>\n    <tr>\n      <th>2</th>\n      <td>2</td>\n      <td>False</td>\n      <td>True</td>\n      <td>q2</td>\n      <td>[q0]</td>\n      <td>[q0]</td>\n      <td>[q0]</td>\n      <td>[q0]</td>\n      <td>[q0]</td>\n      <td>[q0]</td>\n      <td>...</td>\n      <td>[q0]</td>\n      <td>[q0]</td>\n      <td>[q0]</td>\n      <td>[q0]</td>\n      <td>[q0]</td>\n      <td>[q0]</td>\n      <td>[q0]</td>\n      <td>[q0]</td>\n      <td>[q0]</td>\n      <td>[q0]</td>\n    </tr>\n    <tr>\n      <th>3</th>\n      <td>3</td>\n      <td>False</td>\n      <td>True</td>\n      <td>q3</td>\n      <td>[q0]</td>\n      <td>[q0]</td>\n      <td>[q0]</td>\n      <td>[q0]</td>\n      <td>[q0]</td>\n      <td>[q0]</td>\n      <td>...</td>\n      <td>[q0]</td>\n      <td>[q0]</td>\n      <td>[q0]</td>\n      <td>[q0]</td>\n      <td>[q0]</td>\n      <td>[q0]</td>\n      <td>[q0]</td>\n      <td>[q0]</td>\n      <td>[q0]</td>\n      <td>[q0]</td>\n    </tr>\n    <tr>\n      <th>4</th>\n      <td>4</td>\n      <td>False</td>\n      <td>True</td>\n      <td>q4</td>\n      <td>[q0]</td>\n      <td>[q0]</td>\n      <td>[q0]</td>\n      <td>[q0]</td>\n      <td>[q0]</td>\n      <td>[q0]</td>\n      <td>...</td>\n      <td>[q0]</td>\n      <td>[q0]</td>\n      <td>[q0]</td>\n      <td>[q0]</td>\n      <td>[q0]</td>\n      <td>[q0]</td>\n      <td>[q0]</td>\n      <td>[q0]</td>\n      <td>[q0]</td>\n      <td>[q0]</td>\n    </tr>\n    <tr>\n      <th>5</th>\n      <td>5</td>\n      <td>False</td>\n      <td>True</td>\n      <td>q5</td>\n      <td>[q0]</td>\n      <td>[q0]</td>\n      <td>[q0]</td>\n      <td>[q0]</td>\n      <td>[q0]</td>\n      <td>[q0]</td>\n      <td>...</td>\n      <td>[q0]</td>\n      <td>[q0]</td>\n      <td>[q0]</td>\n      <td>[q0]</td>\n      <td>[q0]</td>\n      <td>[q0]</td>\n      <td>[q0]</td>\n      <td>[q0]</td>\n      <td>[q0]</td>\n      <td>[q0]</td>\n    </tr>\n    <tr>\n      <th>6</th>\n      <td>6</td>\n      <td>False</td>\n      <td>True</td>\n      <td>q6</td>\n      <td>[q0]</td>\n      <td>[q0]</td>\n      <td>[q0]</td>\n      <td>[q0]</td>\n      <td>[q0]</td>\n      <td>[q0]</td>\n      <td>...</td>\n      <td>[q0]</td>\n      <td>[q0]</td>\n      <td>[q0]</td>\n      <td>[q0]</td>\n      <td>[q0]</td>\n      <td>[q0]</td>\n      <td>[q0]</td>\n      <td>[q0]</td>\n      <td>[q0]</td>\n      <td>[q0]</td>\n    </tr>\n    <tr>\n      <th>7</th>\n      <td>7</td>\n      <td>False</td>\n      <td>True</td>\n      <td>q7</td>\n      <td>[q0]</td>\n      <td>[q0]</td>\n      <td>[q0]</td>\n      <td>[q0]</td>\n      <td>[q0]</td>\n      <td>[q0]</td>\n      <td>...</td>\n      <td>[q0]</td>\n      <td>[q0]</td>\n      <td>[q0]</td>\n      <td>[q0]</td>\n      <td>[q0]</td>\n      <td>[q0]</td>\n      <td>[q0]</td>\n      <td>[q0]</td>\n      <td>[q0]</td>\n      <td>[q0]</td>\n    </tr>\n    <tr>\n      <th>8</th>\n      <td>8</td>\n      <td>False</td>\n      <td>True</td>\n      <td>q8</td>\n      <td>[q0]</td>\n      <td>[q0]</td>\n      <td>[q0]</td>\n      <td>[q0]</td>\n      <td>[q0]</td>\n      <td>[q0]</td>\n      <td>...</td>\n      <td>[q0]</td>\n      <td>[q0]</td>\n      <td>[q0]</td>\n      <td>[q0]</td>\n      <td>[q0]</td>\n      <td>[q0]</td>\n      <td>[q0]</td>\n      <td>[q0]</td>\n      <td>[q0]</td>\n      <td>[q0]</td>\n    </tr>\n    <tr>\n      <th>9</th>\n      <td>9</td>\n      <td>False</td>\n      <td>True</td>\n      <td>q9</td>\n      <td>[q0]</td>\n      <td>[q0]</td>\n      <td>[q0]</td>\n      <td>[q0]</td>\n      <td>[q0]</td>\n      <td>[q0]</td>\n      <td>...</td>\n      <td>[q0]</td>\n      <td>[q0]</td>\n      <td>[q0]</td>\n      <td>[q0]</td>\n      <td>[q0]</td>\n      <td>[q0]</td>\n      <td>[q0]</td>\n      <td>[q0]</td>\n      <td>[q0]</td>\n      <td>[q0]</td>\n    </tr>\n    <tr>\n      <th>10</th>\n      <td>10</td>\n      <td>False</td>\n      <td>True</td>\n      <td>q10</td>\n      <td>[q0]</td>\n      <td>[q0]</td>\n      <td>[q0]</td>\n      <td>[q0]</td>\n      <td>[q0]</td>\n      <td>[q0]</td>\n      <td>...</td>\n      <td>[q0]</td>\n      <td>[q0]</td>\n      <td>[q0]</td>\n      <td>[q0]</td>\n      <td>[q0]</td>\n      <td>[q0]</td>\n      <td>[q0]</td>\n      <td>[q0]</td>\n      <td>[q0]</td>\n      <td>[q0]</td>\n    </tr>\n    <tr>\n      <th>11</th>\n      <td>11</td>\n      <td>False</td>\n      <td>True</td>\n      <td>q11</td>\n      <td>[q0]</td>\n      <td>[q0]</td>\n      <td>[q0]</td>\n      <td>[q0]</td>\n      <td>[q0]</td>\n      <td>[q0]</td>\n      <td>...</td>\n      <td>[q0]</td>\n      <td>[q0]</td>\n      <td>[q0]</td>\n      <td>[q0]</td>\n      <td>[q0]</td>\n      <td>[q0]</td>\n      <td>[q0]</td>\n      <td>[q0]</td>\n      <td>[q0]</td>\n      <td>[q0]</td>\n    </tr>\n  </tbody>\n</table>\n<p>12 rows × 127 columns</p>\n</div>"
     },
     "execution_count": 40,
     "metadata": {},
     "output_type": "execute_result"
    }
   ],
   "source": [
    "occurence_transducer.tabular_notation"
   ],
   "metadata": {
    "collapsed": false
   }
  },
  {
   "cell_type": "code",
   "execution_count": 41,
   "outputs": [
    {
     "name": "stdout",
     "output_type": "stream",
     "text": [
      "Position: 12-10=2\n",
      "Position: 143-10=133\n",
      "Position: 304-10=294\n",
      "Position: 422-10=412\n",
      "Position: 450-10=440\n"
     ]
    },
    {
     "data": {
      "text/plain": "True"
     },
     "execution_count": 41,
     "metadata": {},
     "output_type": "execute_result"
    }
   ],
   "source": [
    "occurence_transducer.match(string=text, word=word)"
   ],
   "metadata": {
    "collapsed": false
   }
  }
 ],
 "metadata": {
  "kernelspec": {
   "display_name": "Python 3",
   "language": "python",
   "name": "python3"
  },
  "language_info": {
   "codemirror_mode": {
    "name": "ipython",
    "version": 2
   },
   "file_extension": ".py",
   "mimetype": "text/x-python",
   "name": "python",
   "nbconvert_exporter": "python",
   "pygments_lexer": "ipython2",
   "version": "2.7.6"
  }
 },
 "nbformat": 4,
 "nbformat_minor": 0
}
